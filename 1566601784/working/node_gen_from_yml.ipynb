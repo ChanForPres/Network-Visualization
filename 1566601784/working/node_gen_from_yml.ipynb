{
 "cells": [
  {
   "cell_type": "markdown",
   "metadata": {},
   "source": [
    "### after 1) traffic_collect.sh 2) TrafficParse.ipynb 3) pkt_parse_done.ipynb\n",
    "IN THIS SECTION:\n",
    "    1) generate nodes using yml contents\n",
    "    \n",
    "    \n",
    "**TO FIX** itgen_peer_connections': {'node01': 'Po100'}}} needs   \n",
    "    {'node02': 'Eth1/10'}\n",
    "    {'node01': 'Po100'}** \n"
   ]
  },
  {
   "cell_type": "raw",
   "metadata": {},
   "source": [
    "GET INTF INFO FROM sanity.yml"
   ]
  },
  {
   "cell_type": "code",
   "execution_count": 53,
   "metadata": {},
   "outputs": [],
   "source": [
    "import yaml,subprocess,os,sys\n",
    "from os import environ\n"
   ]
  },
  {
   "cell_type": "code",
   "execution_count": 54,
   "metadata": {},
   "outputs": [
    {
     "data": {
      "text/plain": [
       "'sanity97-testbed.yml'"
      ]
     },
     "execution_count": 54,
     "metadata": {},
     "output_type": "execute_result"
    }
   ],
   "source": [
    "f=open(\"logfile_name.txt\", \"r\")\n",
    "tb_yml=f.read()\n",
    "tb_yml=tb_yml.rstrip('\\n')\n",
    "tb_yml"
   ]
  },
  {
   "cell_type": "code",
   "execution_count": 55,
   "metadata": {},
   "outputs": [
    {
     "name": "stdout",
     "output_type": "stream",
     "text": [
      "None\n"
     ]
    }
   ],
   "source": [
    "with open(tb_yml, 'r') as stream:\n",
    "    try:\n",
    "        parsed_yml = yaml.safe_load(stream)\n",
    "        print(yaml.safe_load(stream))\n",
    "    except yaml.YAMLError as exc:\n",
    "        print(exc)"
   ]
  },
  {
   "cell_type": "code",
   "execution_count": 56,
   "metadata": {},
   "outputs": [
    {
     "data": {
      "text/plain": [
       "{'node01': {'params': \"-name sanity97-tor1 -mgmt_ip_addr 172.31.203.80 -mgmt_prf_len 21 -gateway_addr 172.31.200.1 -sup1_con_ipaddr 172.31.146.72 -sup1_con_port 2008 -sup2_con_ipaddr NA -sup2_con_port NA -user_name admin -password insieme -device_type sTOR -pdu_list [('172.31.151.0',2)] -pwr_cycle True -clear_console True -model Firestone\",\n",
       "  'modules': None,\n",
       "  'interfaces': {'interface1': '-name Eth2/1 -type ethernet -speed 40G -peer_device node02 -peer_interface Eth2/1',\n",
       "   'interface2': '-name Eth2/12 -type ethernet -speed 40G -peer_device node02 -peer_interface Eth2/12',\n",
       "   'interface3': '-name Eth2/2 -type ethernet -speed 40G -peer_device node02 -peer_interface Eth2/2',\n",
       "   'interface4': '-name Eth1/2 -type ethernet -speed 10G -peer_device node03 -peer_interface Eth1/2',\n",
       "   'interface5': '-name Eth1/3 -type ethernet -speed 10G -peer_device node03 -peer_interface Eth1/3',\n",
       "   'interface6': '-name Eth1/10 -type ethernet -speed 10G -peer_device node03 -peer_interface Eth1/5',\n",
       "   'interface7': '-name Eth101/1/1 -type ethernet -speed 10G -peer_device node02 -peer_interface Eth1/2',\n",
       "   'interface8': '-name Eth101/1/2 -type ethernet -speed 10G -peer_device node03 -peer_interface Eth1/20',\n",
       "   'interface9': '-name Eth1/5/1 -type ethernet -speed 10G -peer_device tgn -peer_interface eth3',\n",
       "   'interface10': '-name Eth1/5/2 -type ethernet -speed 10G -peer_device tgn -peer_interface eth4',\n",
       "   'interface11': '-name Eth1/5/3 -type ethernet -speed 10G -peer_device tgn -peer_interface eth5',\n",
       "   'interface12': '-name Eth1/5/4 -type ethernet -speed 10G -peer_device tgn -peer_interface eth6',\n",
       "   'interface13': '-name Eth101/1/3 -type ethernet -speed 10G -peer_device node03 -peer_interface Eth2/1',\n",
       "   'interface14': '-name Eth101/1/4 -type ethernet -speed 10G -peer_device node03 -peer_interface Eth2/2',\n",
       "   'interface15': '-name Eth101/1/5 -type ethernet -speed 10G -peer_device tgn -peer_interface eth8',\n",
       "   'interface57': '-name Eth101/1/6 -type ethernet -speed 1G -peer_device tgn -peer_interface eth14',\n",
       "   'interface16': '-name Eth2/3 -type ethernet -speed 40G -peer_device node02 -peer_interface Eth2/3',\n",
       "   'interface17': '-name Eth1/15 -type ethernet -speed 10G -peer_device node02 -peer_interface Eth1/15',\n",
       "   'interface18': '-name Eth1/1 -type ethernet -speed 10G -peer_device node02 -peer_interface Eth1/1',\n",
       "   'interface19': '-name Eth1/8 -type ethernet -speed 10G -peer_device node02 -peer_interface Eth1/8',\n",
       "   'interface20': '-name Eth1/7 -type ethernet -speed 10G -peer_device node02 -peer_interface Eth1/7',\n",
       "   'interface21': '-name Eth2/4 -type ethernet -speed 40G -peer_device node02 -peer_interface Eth2/4',\n",
       "   'interface24': '-name Eth1/30 -type ethernet -speed 1G -peer_device node02 -peer_interface Eth1/30',\n",
       "   'interface25': '-name Eth1/17 -type ethernet -speed 1G -peer_device node02 -peer_interface Eth1/17',\n",
       "   'interface26': '-name Eth1/5/2 -type ethernet -speed 10G -peer_device node04 -peer_interface Eth1/27',\n",
       "   'interface27': '-name Eth1/11 -type ethernet -speed 10G -peer_device node04 -peer_interface Eth1/28',\n",
       "   'interface28': '-name Eth1/12 -type ethernet -speed 10G -peer_device node04 -peer_interface Eth1/29',\n",
       "   'interface29': '-name Eth2/5 -type ethernet -speed 40G -peer_device node03 -peer_interface Eth1/29',\n",
       "   'interface30': '-name Eth2/6 -type ethernet -speed 40G -peer_device node04 -peer_interface Eth2/6',\n",
       "   'interface31': '-name Eth2/7 -type ethernet -speed 40G -peer_device node03 -peer_interface Eth1/30',\n",
       "   'interface34': '-name Eth1/13 -type ethernet -speed 10G -peer_device node03 -peer_interface Eth1/13',\n",
       "   'interface35': '-name Eth101/1/10 -type ethernet -speed 10G -peer_device node02 -peer_interface Eth1/46',\n",
       "   'interface40': '-name Eth1/14 -type ethernet -speed 10G -peer_device node03 -peer_interface Eth1/14',\n",
       "   'interface41': '-name Eth1/5/3 -type ethernet -speed 40G -peer_device node04 -peer_interface Eth2/9',\n",
       "   'interface45': '-name Eth1/26 -type ethernet -speed 10G -peer_device node05 -peer_interface Eth1/26',\n",
       "   'interface46': '-name Eth1/27 -type ethernet -speed 10G -peer_device node05 -peer_interface Eth1/27',\n",
       "   'interface47': '-name Eth1/28 -type ethernet -speed 10G -peer_device node05 -peer_interface Eth1/28',\n",
       "   'interface48': '-name Eth1/29 -type ethernet -speed 10G -peer_device node05 -peer_interface Eth1/29',\n",
       "   'interface49': '-name Eth1/16 -type ethernet -speed 1G -peer_device node02 -peer_interface Eth1/16',\n",
       "   'interface51': '-name Eth1/4 -type ethernet -speed 10G -peer_device tgn -peer_interface eth9',\n",
       "   'interface52': '-name Eth1/10 -type ethernet -speed 10G -peer_device tgn -peer_interface eth10',\n",
       "   'interface53': '-name Eth1/6 -type ethernet -speed 10G -peer_device tgn -peer_interface eth11',\n",
       "   'interface54': '-name Eth1/7 -type ethernet -speed 10G -peer_device tgn -peer_interface eth12',\n",
       "   'interface56': '-name Eth101/1/5 -type ethernet -speed 1G -peer_device tgn -peer_interface eth8',\n",
       "   'interface58': '-name Eth102/1/7 -type ethernet -speed 1G -peer_device tgn -peer_interface eth15',\n",
       "   'interface59': '-name Eth102/1/8 -type ethernet -speed 1G -peer_device tgn -peer_interface eth16'}},\n",
       " 'node02': {'params': \"-name sanity97-tor2 -mgmt_ip_addr 172.31.203.81 -mgmt_prf_len 21 -gateway_addr 172.31.200.1 -sup1_con_ipaddr 172.31.146.72 -sup1_con_port 2007 -sup2_con_ipaddr NA -sup2_con_port NA -user_name admin -password insieme -device_type sTOR -pdu_list [('172.31.151.0',1)] -pwr_cycle True -clear_console True -model Firestone\",\n",
       "  'modules': None,\n",
       "  'interfaces': {'interface1': '-name Eth2/1 -type ethernet -speed 40G -peer_device node01 -peer_interface Eth2/1',\n",
       "   'interface2': '-name Eth2/12 -type ethernet -speed 40G -peer_device node01 -peer_interface Eth2/12',\n",
       "   'interface3': '-name Eth2/2 -type ethernet -speed 40G -peer_device node01 -peer_interface Eth2/2',\n",
       "   'interface4': '-name Eth2/6 -type ethernet -speed 10G -peer_device node03 -peer_interface Eth1/16',\n",
       "   'interface5': '-name Eth2/7 -type ethernet -speed 10G -peer_device node03 -peer_interface Eth1/17',\n",
       "   'interface6': '-name Eth1/2 -type ethernet -speed 10G -peer_device node01 -peer_interface Eth101/1/1',\n",
       "   'interface7': '-name Eth1/5/2 -type ethernet -speed 10G -peer_device tgn -peer_interface eth1',\n",
       "   'interface8': '-name Eth1/5/1 -type ethernet -speed 10G -peer_device tgn -peer_interface eth7',\n",
       "   'interface9': '-name Eth151/1/2 -type ethernet -speed 10G -peer_device node03 -peer_interface Eth1/5/2',\n",
       "   'interface10': '-name Eth151/1/3 -type ethernet -speed 10G -peer_device node03 -peer_interface Eth1/5/3',\n",
       "   'interface16': '-name Eth2/3 -type ethernet -speed 40G -peer_device node01 -peer_interface Eth2/3',\n",
       "   'interface17': '-name Eth1/15 -type ethernet -speed 10G -peer_device node01 -peer_interface Eth1/15',\n",
       "   'interface18': '-name Eth1/1 -type ethernet -speed 10G -peer_device node01 -peer_interface Eth1/1',\n",
       "   'interface19': '-name Eth1/8 -type ethernet -speed 10G -peer_device node01 -peer_interface Eth1/8',\n",
       "   'interface20': '-name Eth1/7 -type ethernet -speed 10G -peer_device node01 -peer_interface Eth1/7',\n",
       "   'interface21': '-name Eth2/4 -type ethernet -speed 40G -peer_device node01 -peer_interface Eth2/4',\n",
       "   'interface24': '-name Eth1/30 -type ethernet -speed 1G -peer_device node01 -peer_interface Eth1/30',\n",
       "   'interface25': '-name Eth1/17 -type ethernet -speed 1G -peer_device node01 -peer_interface Eth1/17',\n",
       "   'interface30': '-name Eth1/46 -type ethernet -speed 10G -peer_device node01 -peer_interface Eth101/1/10',\n",
       "   'interface33': '-name Eth2/10 -type ethernet -speed 40G -peer_device node03 -peer_interface Eth1/20',\n",
       "   'interface35': '-name Eth1/10 -type ethernet -speed 10G -peer_device node05 -peer_interface Eth1/5',\n",
       "   'interface36': '-name Eth1/20 -type ethernet -speed 10G -peer_device node05 -peer_interface Eth1/20',\n",
       "   'interface49': '-name Eth1/16 -type ethernet -speed 1G -peer_device node01 -peer_interface Eth1/16',\n",
       "   'interface70': '-name Eth2/8 -type ethernet -speed 10G -peer_device node03 -peer_interface Eth1/18',\n",
       "   'interface71': '-name Eth2/9 -type ethernet -speed 10G -peer_device node03 -peer_interface Eth1/19'}},\n",
       " 'node03': {'params': '-name sanity97-node03 -mgmt_ip_addr 172.31.203.82 -mgmt_prf_len 21 -gateway_addr 172.31.200.1 -sup1_con_ipaddr NA -sup1_con_port NA -sup2_con_ipaddr NA -sup2_con_port NA -user_name admin -password insieme -device_type N3K -clear_console True -model fanout',\n",
       "  'modules': None,\n",
       "  'interfaces': {'interface1': '-name Eth1/2 -type ethernet -speed 10G -peer_device node01 -peer_interface Eth1/2',\n",
       "   'interface2': '-name Eth1/3 -type ethernet -speed 10G -peer_device node01 -peer_interface Eth1/3',\n",
       "   'interface3': '-name Eth1/10 -type ethernet -speed 10G -peer_device node01 -peer_interface Eth1/5',\n",
       "   'interface4': '-name Eth1/16 -type ethernet -speed 10G -peer_device node02 -peer_interface Eth2/6',\n",
       "   'interface5': '-name Eth1/17 -type ethernet -speed 10G -peer_device node02 -peer_interface Eth2/7',\n",
       "   'interface6': '-name Eth1/20 -type ethernet -speed 10G -peer_device node01 -peer_interface Eth101/1/2',\n",
       "   'interface7': '-name Eth1/1/1 -type ethernet -speed 10G -peer_device tgn -peer_interface eth2',\n",
       "   'interface8': '-name Eth2/1 -type ethernet -speed 10G -peer_device node01 -peer_interface Eth101/1/3',\n",
       "   'interface9': '-name Eth2/2 -type ethernet -speed 10G -peer_device node01 -peer_interface Eth101/1/4',\n",
       "   'interface10': '-name Eth1/5/2 -type ethernet -speed 10G -peer_device node02 -peer_interface Eth151/1/2',\n",
       "   'interface11': '-name Eth1/5/3 -type ethernet -speed 10G -peer_device node02 -peer_interface Eth151/1/3',\n",
       "   'interface12': '-name Eth1/26 -type ethernet -speed 10G -peer_device node04 -peer_interface Eth1/30',\n",
       "   'interface13': '-name Eth1/27 -type ethernet -speed 10G -peer_device node04 -peer_interface Eth1/16',\n",
       "   'interface29': '-name Eth1/29 -type ethernet -speed 40G -peer_device node01 -peer_interface Eth2/5',\n",
       "   'interface30': '-name Eth1/30 -type ethernet -speed 40G -peer_device node01 -peer_interface Eth2/7',\n",
       "   'interface32': '-name Eth1/102 -type ethernet -speed 40G -peer_device node04 -peer_interface Eth2/1',\n",
       "   'interface33': '-name Eth1/20 -type ethernet -speed 40G -peer_device node02 -peer_interface Eth2/10',\n",
       "   'interface34': '-name Eth1/13 -type ethernet -speed 10G -peer_device node01 -peer_interface Eth1/13',\n",
       "   'interface40': '-name Eth1/14 -type ethernet -speed 10G -peer_device node01 -peer_interface Eth1/14',\n",
       "   'interface41': '-name Eth1/16 -type ethernet -speed 10G -peer_device node04 -peer_interface Eth1/17',\n",
       "   'interface70': '-name Eth1/18 -type ethernet -speed 10G -peer_device node02 -peer_interface Eth2/8',\n",
       "   'interface71': '-name Eth1/19 -type ethernet -speed 10G -peer_device node02 -peer_interface Eth2/9'}},\n",
       " 'tgn': {'params': '-name tgn -mgmt_ip_addr 172.31.201.110 -mgmt_prf_len 21 -gateway_addr 172.31.200.1 -sup1_con_ipaddr NA -sup1_con_port NA -sup2_con_ipaddr NA -sup2_con_port NA -user_name admin -password nbv_12345 -clear_console True -device_type itgen',\n",
       "  'interfaces': {'interface1': '-name eth3 -type ethernet -speed 10G -peer_device node01 -peer_interface Eth1/5/1 -itgen_peer_connections node01:Eth1/5/1',\n",
       "   'interface2': '-name eth4 -type ethernet -speed 10G -peer_device node01 -peer_interface Eth1/5/2 -itgen_peer_connections node01:Eth1/5/2',\n",
       "   'interface3': '-name eth2 -type ethernet -speed 10G -peer_device node03 -peer_interface Eth1/1/1',\n",
       "   'interface5': '-name eth1 -type ethernet -speed 10G -peer_device node02 -peer_interface Eth1/5/2 -itgen_peer_connections node02:Eth1/10,node01:Po100'}}}"
      ]
     },
     "execution_count": 56,
     "metadata": {},
     "output_type": "execute_result"
    }
   ],
   "source": [
    "parsed_yml['node_dict']"
   ]
  },
  {
   "cell_type": "code",
   "execution_count": 57,
   "metadata": {},
   "outputs": [
    {
     "data": {
      "text/plain": [
       "['node01', 'node02', 'node03', 'tgn']"
      ]
     },
     "execution_count": 57,
     "metadata": {},
     "output_type": "execute_result"
    }
   ],
   "source": [
    "sanity_nodes = parsed_yml['node_dict']\n",
    "list(sanity_nodes.keys())"
   ]
  },
  {
   "cell_type": "code",
   "execution_count": 58,
   "metadata": {},
   "outputs": [
    {
     "data": {
      "text/plain": [
       "dict_keys(['interface1', 'interface2', 'interface3', 'interface4', 'interface5', 'interface6', 'interface7', 'interface8', 'interface9', 'interface10', 'interface11', 'interface12', 'interface13', 'interface14', 'interface15', 'interface57', 'interface16', 'interface17', 'interface18', 'interface19', 'interface20', 'interface21', 'interface24', 'interface25', 'interface26', 'interface27', 'interface28', 'interface29', 'interface30', 'interface31', 'interface34', 'interface35', 'interface40', 'interface41', 'interface45', 'interface46', 'interface47', 'interface48', 'interface49', 'interface51', 'interface52', 'interface53', 'interface54', 'interface56', 'interface58', 'interface59'])"
      ]
     },
     "execution_count": 58,
     "metadata": {},
     "output_type": "execute_result"
    }
   ],
   "source": [
    "sanity_nodes['node01']['interfaces'].keys()"
   ]
  },
  {
   "cell_type": "code",
   "execution_count": 59,
   "metadata": {},
   "outputs": [
    {
     "data": {
      "text/plain": [
       "\"-name sanity97-tor1 -mgmt_ip_addr 172.31.203.80 -mgmt_prf_len 21 -gateway_addr 172.31.200.1 -sup1_con_ipaddr 172.31.146.72 -sup1_con_port 2008 -sup2_con_ipaddr NA -sup2_con_port NA -user_name admin -password insieme -device_type sTOR -pdu_list [('172.31.151.0',2)] -pwr_cycle True -clear_console True -model Firestone\""
      ]
     },
     "execution_count": 59,
     "metadata": {},
     "output_type": "execute_result"
    }
   ],
   "source": [
    "sanity_nodes['node01']['params']\n",
    "\n",
    "# ['params']\n",
    "# ['interfaces']"
   ]
  },
  {
   "cell_type": "raw",
   "metadata": {},
   "source": [
    "ex = intf_list[0].split(\" \")\n",
    "ex =[i.replace(\"-\",\"\") for i in ex]\n",
    "ex"
   ]
  },
  {
   "cell_type": "raw",
   "metadata": {},
   "source": [
    "curr_node_dict = i+'_dict'"
   ]
  },
  {
   "cell_type": "code",
   "execution_count": 61,
   "metadata": {},
   "outputs": [],
   "source": [
    "# store eth info here\n",
    "node01_dict={}\n",
    "\n",
    "# node01_dict[curr_eth]={}\n",
    "# node01_dict[curr_eth].update({v:w})\n",
    "# node01_dict[curr_eth][v].update({it[0]:it[1]})\n",
    "# node01_dict['eth3']\n",
    "node01_dict['Eth2/1']={'type':'ethernet'}\n",
    "node01_dict['Eth2/1'].update({'peer_device':'node02'})\n",
    "node01_dict['Eth2/1'].update({'peer_interface':'Eth2/1'})\n",
    "\n",
    "tgn_dict={}\n",
    "tgn_dict['eth3']={'peer_device':'node01'}\n",
    "tgn_dict['eth3'].update({'peer_device':'node01'})\n",
    "tgn_dict['eth3'].update({'peer_interface':'Eth1/5/1'})\n",
    "tgn_dict\n",
    "\n",
    "new_intfs={}\n",
    "# intf_dict= dict((x,y) for x,y in a)\n",
    "# eth_info_dict[curr_eth].update({v:w})"
   ]
  },
  {
   "cell_type": "markdown",
   "metadata": {},
   "source": [
    "dict((x,y) for x,y in i)"
   ]
  },
  {
   "cell_type": "code",
   "execution_count": 63,
   "metadata": {
    "collapsed": true,
    "jupyter": {
     "outputs_hidden": true
    }
   },
   "outputs": [
    {
     "name": "stdout",
     "output_type": "stream",
     "text": [
      "{'Eth2/1': {'type': 'ethernet', 'speed': '40G', 'peer_device': 'node02', 'peer_interface': 'Eth2/1'}, 'Eth2/12': {'type': 'ethernet', 'speed': '40G', 'peer_device': 'node02', 'peer_interface': 'Eth2/12'}, 'Eth2/2': {'type': 'ethernet', 'speed': '40G', 'peer_device': 'node02', 'peer_interface': 'Eth2/2'}, 'Eth1/2': {'type': 'ethernet', 'speed': '10G', 'peer_device': 'node03', 'peer_interface': 'Eth1/2'}, 'Eth1/3': {'type': 'ethernet', 'speed': '10G', 'peer_device': 'node03', 'peer_interface': 'Eth1/3'}, 'Eth1/10': {'type': 'ethernet', 'speed': '10G', 'peer_device': 'tgn', 'peer_interface': 'eth10'}, 'Eth101/1/1': {'type': 'ethernet', 'speed': '10G', 'peer_device': 'node02', 'peer_interface': 'Eth1/2'}, 'Eth101/1/2': {'type': 'ethernet', 'speed': '10G', 'peer_device': 'node03', 'peer_interface': 'Eth1/20'}, 'Eth1/5/1': {'type': 'ethernet', 'speed': '10G', 'peer_device': 'tgn', 'peer_interface': 'eth3'}, 'Eth1/5/2': {'type': 'ethernet', 'speed': '10G', 'peer_device': 'node04', 'peer_interface': 'Eth1/27'}, 'Eth1/5/3': {'type': 'ethernet', 'speed': '40G', 'peer_device': 'node04', 'peer_interface': 'Eth2/9'}, 'Eth1/5/4': {'type': 'ethernet', 'speed': '10G', 'peer_device': 'tgn', 'peer_interface': 'eth6'}, 'Eth101/1/3': {'type': 'ethernet', 'speed': '10G', 'peer_device': 'node03', 'peer_interface': 'Eth2/1'}, 'Eth101/1/4': {'type': 'ethernet', 'speed': '10G', 'peer_device': 'node03', 'peer_interface': 'Eth2/2'}, 'Eth101/1/5': {'type': 'ethernet', 'speed': '1G', 'peer_device': 'tgn', 'peer_interface': 'eth8'}, 'Eth101/1/6': {'type': 'ethernet', 'speed': '1G', 'peer_device': 'tgn', 'peer_interface': 'eth14'}, 'Eth2/3': {'type': 'ethernet', 'speed': '40G', 'peer_device': 'node02', 'peer_interface': 'Eth2/3'}, 'Eth1/15': {'type': 'ethernet', 'speed': '10G', 'peer_device': 'node02', 'peer_interface': 'Eth1/15'}, 'Eth1/1': {'type': 'ethernet', 'speed': '10G', 'peer_device': 'node02', 'peer_interface': 'Eth1/1'}, 'Eth1/8': {'type': 'ethernet', 'speed': '10G', 'peer_device': 'node02', 'peer_interface': 'Eth1/8'}, 'Eth1/7': {'type': 'ethernet', 'speed': '10G', 'peer_device': 'tgn', 'peer_interface': 'eth12'}, 'Eth2/4': {'type': 'ethernet', 'speed': '40G', 'peer_device': 'node02', 'peer_interface': 'Eth2/4'}, 'Eth1/30': {'type': 'ethernet', 'speed': '1G', 'peer_device': 'node02', 'peer_interface': 'Eth1/30'}, 'Eth1/17': {'type': 'ethernet', 'speed': '1G', 'peer_device': 'node02', 'peer_interface': 'Eth1/17'}, 'Eth1/11': {'type': 'ethernet', 'speed': '10G', 'peer_device': 'node04', 'peer_interface': 'Eth1/28'}, 'Eth1/12': {'type': 'ethernet', 'speed': '10G', 'peer_device': 'node04', 'peer_interface': 'Eth1/29'}, 'Eth2/5': {'type': 'ethernet', 'speed': '40G', 'peer_device': 'node03', 'peer_interface': 'Eth1/29'}, 'Eth2/6': {'type': 'ethernet', 'speed': '40G', 'peer_device': 'node04', 'peer_interface': 'Eth2/6'}, 'Eth2/7': {'type': 'ethernet', 'speed': '40G', 'peer_device': 'node03', 'peer_interface': 'Eth1/30'}, 'Eth1/13': {'type': 'ethernet', 'speed': '10G', 'peer_device': 'node03', 'peer_interface': 'Eth1/13'}, 'Eth101/1/10': {'type': 'ethernet', 'speed': '10G', 'peer_device': 'node02', 'peer_interface': 'Eth1/46'}, 'Eth1/14': {'type': 'ethernet', 'speed': '10G', 'peer_device': 'node03', 'peer_interface': 'Eth1/14'}, 'Eth1/26': {'type': 'ethernet', 'speed': '10G', 'peer_device': 'node05', 'peer_interface': 'Eth1/26'}, 'Eth1/27': {'type': 'ethernet', 'speed': '10G', 'peer_device': 'node05', 'peer_interface': 'Eth1/27'}, 'Eth1/28': {'type': 'ethernet', 'speed': '10G', 'peer_device': 'node05', 'peer_interface': 'Eth1/28'}, 'Eth1/29': {'type': 'ethernet', 'speed': '10G', 'peer_device': 'node05', 'peer_interface': 'Eth1/29'}, 'Eth1/16': {'type': 'ethernet', 'speed': '1G', 'peer_device': 'node02', 'peer_interface': 'Eth1/16'}, 'Eth1/4': {'type': 'ethernet', 'speed': '10G', 'peer_device': 'tgn', 'peer_interface': 'eth9'}, 'Eth1/6': {'type': 'ethernet', 'speed': '10G', 'peer_device': 'tgn', 'peer_interface': 'eth11'}, 'Eth102/1/7': {'type': 'ethernet', 'speed': '1G', 'peer_device': 'tgn', 'peer_interface': 'eth15'}, 'Eth102/1/8': {'type': 'ethernet', 'speed': '1G', 'peer_device': 'tgn', 'peer_interface': 'eth16'}}\n",
      "\n",
      "\n",
      "\n",
      "\n",
      "{'Eth2/1': {'type': 'ethernet', 'speed': '40G', 'peer_device': 'node01', 'peer_interface': 'Eth2/1'}, 'Eth2/12': {'type': 'ethernet', 'speed': '40G', 'peer_device': 'node01', 'peer_interface': 'Eth2/12'}, 'Eth2/2': {'type': 'ethernet', 'speed': '40G', 'peer_device': 'node01', 'peer_interface': 'Eth2/2'}, 'Eth2/6': {'type': 'ethernet', 'speed': '10G', 'peer_device': 'node03', 'peer_interface': 'Eth1/16'}, 'Eth2/7': {'type': 'ethernet', 'speed': '10G', 'peer_device': 'node03', 'peer_interface': 'Eth1/17'}, 'Eth1/2': {'type': 'ethernet', 'speed': '10G', 'peer_device': 'node01', 'peer_interface': 'Eth101/1/1'}, 'Eth1/5/2': {'type': 'ethernet', 'speed': '10G', 'peer_device': 'tgn', 'peer_interface': 'eth1'}, 'Eth1/5/1': {'type': 'ethernet', 'speed': '10G', 'peer_device': 'tgn', 'peer_interface': 'eth7'}, 'Eth151/1/2': {'type': 'ethernet', 'speed': '10G', 'peer_device': 'node03', 'peer_interface': 'Eth1/5/2'}, 'Eth151/1/3': {'type': 'ethernet', 'speed': '10G', 'peer_device': 'node03', 'peer_interface': 'Eth1/5/3'}, 'Eth2/3': {'type': 'ethernet', 'speed': '40G', 'peer_device': 'node01', 'peer_interface': 'Eth2/3'}, 'Eth1/15': {'type': 'ethernet', 'speed': '10G', 'peer_device': 'node01', 'peer_interface': 'Eth1/15'}, 'Eth1/1': {'type': 'ethernet', 'speed': '10G', 'peer_device': 'node01', 'peer_interface': 'Eth1/1'}, 'Eth1/8': {'type': 'ethernet', 'speed': '10G', 'peer_device': 'node01', 'peer_interface': 'Eth1/8'}, 'Eth1/7': {'type': 'ethernet', 'speed': '10G', 'peer_device': 'node01', 'peer_interface': 'Eth1/7'}, 'Eth2/4': {'type': 'ethernet', 'speed': '40G', 'peer_device': 'node01', 'peer_interface': 'Eth2/4'}, 'Eth1/30': {'type': 'ethernet', 'speed': '1G', 'peer_device': 'node01', 'peer_interface': 'Eth1/30'}, 'Eth1/17': {'type': 'ethernet', 'speed': '1G', 'peer_device': 'node01', 'peer_interface': 'Eth1/17'}, 'Eth1/46': {'type': 'ethernet', 'speed': '10G', 'peer_device': 'node01', 'peer_interface': 'Eth101/1/10'}, 'Eth2/10': {'type': 'ethernet', 'speed': '40G', 'peer_device': 'node03', 'peer_interface': 'Eth1/20'}, 'Eth1/10': {'type': 'ethernet', 'speed': '10G', 'peer_device': 'node05', 'peer_interface': 'Eth1/5'}, 'Eth1/20': {'type': 'ethernet', 'speed': '10G', 'peer_device': 'node05', 'peer_interface': 'Eth1/20'}, 'Eth1/16': {'type': 'ethernet', 'speed': '1G', 'peer_device': 'node01', 'peer_interface': 'Eth1/16'}, 'Eth2/8': {'type': 'ethernet', 'speed': '10G', 'peer_device': 'node03', 'peer_interface': 'Eth1/18'}, 'Eth2/9': {'type': 'ethernet', 'speed': '10G', 'peer_device': 'node03', 'peer_interface': 'Eth1/19'}}\n",
      "\n",
      "\n",
      "\n",
      "\n",
      "{'Eth1/2': {'type': 'ethernet', 'speed': '10G', 'peer_device': 'node01', 'peer_interface': 'Eth1/2'}, 'Eth1/3': {'type': 'ethernet', 'speed': '10G', 'peer_device': 'node01', 'peer_interface': 'Eth1/3'}, 'Eth1/10': {'type': 'ethernet', 'speed': '10G', 'peer_device': 'node01', 'peer_interface': 'Eth1/5'}, 'Eth1/16': {'type': 'ethernet', 'speed': '10G', 'peer_device': 'node04', 'peer_interface': 'Eth1/17'}, 'Eth1/17': {'type': 'ethernet', 'speed': '10G', 'peer_device': 'node02', 'peer_interface': 'Eth2/7'}, 'Eth1/20': {'type': 'ethernet', 'speed': '40G', 'peer_device': 'node02', 'peer_interface': 'Eth2/10'}, 'Eth1/1/1': {'type': 'ethernet', 'speed': '10G', 'peer_device': 'tgn', 'peer_interface': 'eth2'}, 'Eth2/1': {'type': 'ethernet', 'speed': '10G', 'peer_device': 'node01', 'peer_interface': 'Eth101/1/3'}, 'Eth2/2': {'type': 'ethernet', 'speed': '10G', 'peer_device': 'node01', 'peer_interface': 'Eth101/1/4'}, 'Eth1/5/2': {'type': 'ethernet', 'speed': '10G', 'peer_device': 'node02', 'peer_interface': 'Eth151/1/2'}, 'Eth1/5/3': {'type': 'ethernet', 'speed': '10G', 'peer_device': 'node02', 'peer_interface': 'Eth151/1/3'}, 'Eth1/26': {'type': 'ethernet', 'speed': '10G', 'peer_device': 'node04', 'peer_interface': 'Eth1/30'}, 'Eth1/27': {'type': 'ethernet', 'speed': '10G', 'peer_device': 'node04', 'peer_interface': 'Eth1/16'}, 'Eth1/29': {'type': 'ethernet', 'speed': '40G', 'peer_device': 'node01', 'peer_interface': 'Eth2/5'}, 'Eth1/30': {'type': 'ethernet', 'speed': '40G', 'peer_device': 'node01', 'peer_interface': 'Eth2/7'}, 'Eth1/102': {'type': 'ethernet', 'speed': '40G', 'peer_device': 'node04', 'peer_interface': 'Eth2/1'}, 'Eth1/13': {'type': 'ethernet', 'speed': '10G', 'peer_device': 'node01', 'peer_interface': 'Eth1/13'}, 'Eth1/14': {'type': 'ethernet', 'speed': '10G', 'peer_device': 'node01', 'peer_interface': 'Eth1/14'}, 'Eth1/18': {'type': 'ethernet', 'speed': '10G', 'peer_device': 'node02', 'peer_interface': 'Eth2/8'}, 'Eth1/19': {'type': 'ethernet', 'speed': '10G', 'peer_device': 'node02', 'peer_interface': 'Eth2/9'}}\n",
      "\n",
      "\n",
      "\n",
      "\n",
      "{'eth3': {'type': 'ethernet', 'speed': '10G', 'peer_device': 'node01', 'peer_interface': 'Eth1/5/1', 'itgen_peer_connections': 'node01:Eth1/5/1'}, 'eth4': {'type': 'ethernet', 'speed': '10G', 'peer_device': 'node01', 'peer_interface': 'Eth1/5/2', 'itgen_peer_connections': 'node01:Eth1/5/2'}, 'eth2': {'type': 'ethernet', 'speed': '10G', 'peer_device': 'node03', 'peer_interface': 'Eth1/1/1'}, 'eth1': {'type': 'ethernet', 'speed': '10G', 'peer_device': 'node02', 'peer_interface': 'Eth1/5/2', 'itgen_peer_connections': 'node02:Eth1/10,node01:Po100'}}\n",
      "\n",
      "\n",
      "\n",
      "\n"
     ]
    }
   ],
   "source": [
    "# ['node01', 'node02', 'node03', 'tgn']\n",
    "for i in list(sanity_nodes.keys()):\n",
    "#     curr_node_dict = i+'_dict'\n",
    "    \n",
    "    intf_list=list(sanity_nodes[i]['interfaces'].values())\n",
    "#     print(intf_list)\n",
    "    new_intf_dict = {}\n",
    "    \n",
    "    for j in intf_list:\n",
    "        j = j.split(\" \")\n",
    "#         print(i)\n",
    "        intf_name=j[1]\n",
    "#         print(intf_name)\n",
    "        attr_list1=j[2:]\n",
    "        attr_list2=[]\n",
    "        for k in attr_list1:\n",
    "            k=k.replace(\"-\",\"\")\n",
    "            attr_list2.append(k)\n",
    "#             print(k)\n",
    "        \n",
    "#         print(attr_list1)\n",
    "#         print(attr_list2)\n",
    "        it = iter(attr_list2)\n",
    "        attr = dict(zip(it, it))\n",
    "#         print(b)\n",
    "        new_intf= dict({intf_name:attr})\n",
    "        new_intf_dict[intf_name]=attr\n",
    "#         print(new_intf)\n",
    "    print(new_intf_dict)\n",
    "    sanity_nodes[i]['interfaces']=new_intf_dict\n",
    "#     print()\n",
    "    print(\"\\n\\n\\n\")"
   ]
  },
  {
   "cell_type": "code",
   "execution_count": 66,
   "metadata": {},
   "outputs": [
    {
     "data": {
      "text/plain": [
       "{'params': '-name tgn -mgmt_ip_addr 172.31.201.110 -mgmt_prf_len 21 -gateway_addr 172.31.200.1 -sup1_con_ipaddr NA -sup1_con_port NA -sup2_con_ipaddr NA -sup2_con_port NA -user_name admin -password nbv_12345 -clear_console True -device_type itgen',\n",
       " 'interfaces': {'eth3': {'type': 'ethernet',\n",
       "   'speed': '10G',\n",
       "   'peer_device': 'node01',\n",
       "   'peer_interface': 'Eth1/5/1',\n",
       "   'itgen_peer_connections': 'node01:Eth1/5/1'},\n",
       "  'eth4': {'type': 'ethernet',\n",
       "   'speed': '10G',\n",
       "   'peer_device': 'node01',\n",
       "   'peer_interface': 'Eth1/5/2',\n",
       "   'itgen_peer_connections': 'node01:Eth1/5/2'},\n",
       "  'eth2': {'type': 'ethernet',\n",
       "   'speed': '10G',\n",
       "   'peer_device': 'node03',\n",
       "   'peer_interface': 'Eth1/1/1'},\n",
       "  'eth1': {'type': 'ethernet',\n",
       "   'speed': '10G',\n",
       "   'peer_device': 'node02',\n",
       "   'peer_interface': 'Eth1/5/2',\n",
       "   'itgen_peer_connections': 'node02:Eth1/10,node01:Po100'}}}"
      ]
     },
     "execution_count": 66,
     "metadata": {},
     "output_type": "execute_result"
    }
   ],
   "source": [
    "sanity_nodes['tgn']"
   ]
  },
  {
   "cell_type": "markdown",
   "metadata": {},
   "source": [
    "**========================================**\n",
    "**========================================**\n",
    "**========================================**\n",
    "**========================================**\n",
    "**========================================**\n",
    "**========================================**\n",
    "###========================================\n",
    "###========================================"
   ]
  },
  {
   "cell_type": "raw",
   "metadata": {},
   "source": [
    "GET ETH INFO FROM traffic_profile_pretty.yml\n",
    "remember which profile used for traffic_run ie profile_l2_sanity\n",
    "\n",
    "check if profile existing, else recreate"
   ]
  },
  {
   "cell_type": "code",
   "execution_count": 65,
   "metadata": {},
   "outputs": [
    {
     "ename": "SyntaxError",
     "evalue": "invalid syntax (<ipython-input-65-9e08bcd93698>, line 3)",
     "output_type": "error",
     "traceback": [
      "\u001b[0;36m  File \u001b[0;32m\"<ipython-input-65-9e08bcd93698>\"\u001b[0;36m, line \u001b[0;32m3\u001b[0m\n\u001b[0;31m    sed -n '/profile_l2_sanity/,/profile/p' sanity97-testbed.yml > traffic_profile.yml\u001b[0m\n\u001b[0m                                          ^\u001b[0m\n\u001b[0;31mSyntaxError\u001b[0m\u001b[0;31m:\u001b[0m invalid syntax\n"
     ]
    }
   ],
   "source": [
    "# create \n",
    "\n",
    "sed -n '/profile_l2_sanity/,/profile/p' sanity97-testbed.yml > traffic_profile.yml \n",
    "\n",
    "# if empty check logical dict\n",
    "sed -n '/profile_l2_sanity/,/profile/p' logical_dict.yml > traffic_profile.yml \n",
    "\n",
    "# else node info unavailable, exit\n",
    "\n",
    "\n",
    "# cut out last line of profile\n",
    "sed -e '$ d' traffic_profile.yml > traffic_profile_2.yml\n",
    "\n",
    "\n",
    "# parse nodedict from sanity97-testbed.yml "
   ]
  },
  {
   "cell_type": "code",
   "execution_count": null,
   "metadata": {},
   "outputs": [],
   "source": []
  },
  {
   "cell_type": "code",
   "execution_count": null,
   "metadata": {},
   "outputs": [],
   "source": [
    "    p1='profile_l2_sanity'\n",
    "    p2='profile_vxlan_access'\n",
    "    curr_tb = 'sanity97-testbed.yml'\n",
    "    old_profile= 'old_profile.yml'\n",
    "    new_profile = 'new_profile.yml'\n",
    "\n",
    "# create new traffic profile\n",
    "cmd_prof_find = \"sed -n '/\"+p1+\"/,/profile/p' \" + curr_tb + ' > '+old_profile + \" && sed -e '$ d' \"+old_profile+\" > \"+new_profile\n",
    "cmd_prof_find\n",
    "\n",
    "# \n",
    "cmd_exist_prof = \"ag -g '\"+p1+\".yml' > res.txt\"\n",
    "cmd_exist_prof\n",
    "\n",
    "# \n",
    "cmd_file_size = \"wc -l < res.txt\"\n",
    "cmd_file_size\n",
    "\n",
    "cmd_prof_find"
   ]
  },
  {
   "cell_type": "code",
   "execution_count": null,
   "metadata": {},
   "outputs": [],
   "source": [
    "    cmd = \"cat out2 | wc -l\"  \n",
    "    pop_res = subprocess.Popen(cmd_prof_find,shell=True,stdout=subprocess.PIPE,stderr=subprocess.STDOUT)\n",
    "    output = pop_res.communicate()[0]\n",
    "    output = output.decode('ASCII').rstrip(os.linesep)\n",
    "    print(output)"
   ]
  },
  {
   "cell_type": "markdown",
   "metadata": {},
   "source": [
    "**========================================**\n",
    "**========================================**\n",
    "**========================================**\n",
    "**========================================**\n",
    "**========================================**\n",
    "**========================================**\n",
    "###========================================\n",
    "###========================================"
   ]
  },
  {
   "cell_type": "code",
   "execution_count": null,
   "metadata": {},
   "outputs": [],
   "source": [
    "with open(\"traffic_profile_pretty.yml\", 'r') as stream:\n",
    "    try:\n",
    "        parsed_yml = yaml.safe_load(stream)\n",
    "        #print(yaml.safe_load(stream))\n",
    "    except yaml.YAMLError as exc:\n",
    "        print(exc)"
   ]
  },
  {
   "cell_type": "code",
   "execution_count": null,
   "metadata": {},
   "outputs": [],
   "source": [
    "yml_dic = parsed_yml['profile_l2_sanity']['peer_interface_dict']\n",
    "yml_dic"
   ]
  },
  {
   "cell_type": "code",
   "execution_count": null,
   "metadata": {},
   "outputs": [],
   "source": [
    "for keys in yml_dic:\n",
    "    print(keys)"
   ]
  },
  {
   "cell_type": "markdown",
   "metadata": {},
   "source": [
    "**Example peer_interface_dict**  \n",
    "interface1: -name eth3 -type ethernet -speed 10G -peer_device node01 -peer_interface nd1_tgn3 -itgen_peer_connections node01:nd1_tgn3"
   ]
  },
  {
   "cell_type": "raw",
   "metadata": {},
   "source": [
    "# store eth info here\n",
    "eth_info_dict={}\n",
    "eth_info_dict[curr_eth]={}\n",
    "eth_info_dict[curr_eth].update({v:w})\n",
    "eth_info_dict[curr_eth][v].update({it[0]:it[1]})\n",
    "eth_info_dict['eth3']\n",
    "eth_info_dict['eth3']={'type':'ethernet'}\n",
    "eth_info_dict['eth3'].update({'a':'b'})"
   ]
  },
  {
   "cell_type": "code",
   "execution_count": null,
   "metadata": {},
   "outputs": [],
   "source": [
    "for key in yml_dic:\n",
    "    node_inf = yml_dic[key].split()\n",
    "    print(node_inf)\n",
    "    curr_eth=str(node_inf[1])\n",
    "    eth_info_dict[curr_eth]={}\n",
    "    i=0\n",
    "    for v, w in zip(node_inf, node_inf[1:]):\n",
    "        if i%2==0: # avoid zip reuse\n",
    "            v= v.replace(\"-\",\"\")\n",
    "            if v != 'name' and v!= 'itgen_peer_connections':\n",
    "                eth_info_dict[curr_eth].update({v:w})\n",
    "            print({v:w})\n",
    "            # insert into eth_info_dict\n",
    "#             eth_info_dict.update({v:w})\n",
    "            if 'itgen_peer_connections' in v:\n",
    "                if len(w.split(','))>1:\n",
    "                    it_con = w.split(',')\n",
    "                    for x in it_con:\n",
    "                        it = x.split(':')\n",
    "                        d = dict([(it[0], it[1])])\n",
    "                        print(d)\n",
    "                        eth_info_dict[curr_eth].update({v:d})\n",
    "                else:\n",
    "                    it = w.split(':')\n",
    "                    d = dict([(it[0], it[1])])\n",
    "                    eth_info_dict[curr_eth][v]={}\n",
    "                    eth_info_dict[curr_eth][v].update({it[0]:it[1]})\n",
    "\n",
    "        i+=1    \n",
    "\n"
   ]
  },
  {
   "cell_type": "code",
   "execution_count": null,
   "metadata": {},
   "outputs": [],
   "source": [
    "eth_info_dict"
   ]
  },
  {
   "cell_type": "code",
   "execution_count": null,
   "metadata": {},
   "outputs": [],
   "source": [
    "eth_info_dict['eth3']\n",
    "eth_info_dict['eth3']={'type':'ethernet'}\n",
    "eth_info_dict['eth3'].update({'a':'b'})\n",
    "\n",
    "print(eth_info_dict)"
   ]
  },
  {
   "cell_type": "code",
   "execution_count": null,
   "metadata": {},
   "outputs": [],
   "source": []
  },
  {
   "cell_type": "code",
   "execution_count": null,
   "metadata": {},
   "outputs": [],
   "source": []
  },
  {
   "cell_type": "markdown",
   "metadata": {},
   "source": [
    "a = ['-name', 'eth3', '-type', 'ethernet', '-speed', '10G', '-peer_device', 'node01', '-peer_interface', 'Eth1/5/1', '-itgen_peer_connections', 'node01:Eth1/5/1']\n",
    "for v, w in zip(a, a[1:]):\n",
    "    print([v, w])"
   ]
  },
  {
   "cell_type": "markdown",
   "metadata": {},
   "source": [
    "a = [5, 7, 11, 4, 5]\n",
    "for v, w in zip(a, a[1:]):\n",
    "    print([v, w])"
   ]
  },
  {
   "cell_type": "code",
   "execution_count": null,
   "metadata": {},
   "outputs": [],
   "source": []
  }
 ],
 "metadata": {
  "kernelspec": {
   "display_name": "Python 3",
   "language": "python",
   "name": "python3"
  },
  "language_info": {
   "codemirror_mode": {
    "name": "ipython",
    "version": 3
   },
   "file_extension": ".py",
   "mimetype": "text/x-python",
   "name": "python",
   "nbconvert_exporter": "python",
   "pygments_lexer": "ipython3",
   "version": "3.6.8"
  }
 },
 "nbformat": 4,
 "nbformat_minor": 4
}
