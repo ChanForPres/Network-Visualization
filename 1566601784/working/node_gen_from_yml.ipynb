{
 "cells": [
  {
   "cell_type": "markdown",
   "metadata": {},
   "source": [
    "### after 1) traffic_collect.sh 2) TrafficParse.ipynb 3) pkt_parse_done.ipynb\n",
    "IN THIS SECTION:\n",
    "    1) generate nodes using yml contents\n",
    "    \n",
    "    \n",
    "**TO FIX** itgen_peer_connections': {'node01': 'Po100'}}} needs   \n",
    "    {'node02': 'Eth1/10'}\n",
    "    {'node01': 'Po100'}** \n"
   ]
  },
  {
   "cell_type": "code",
   "execution_count": 2,
   "metadata": {},
   "outputs": [],
   "source": [
    "import yaml\n",
    "\n",
    "with open(\"parsed_testbed97.yml\", 'r') as stream:\n",
    "    try:\n",
    "        parsed_yml = yaml.safe_load(stream)\n",
    "        #print(yaml.safe_load(stream))\n",
    "    except yaml.YAMLError as exc:\n",
    "        print(exc)"
   ]
  },
  {
   "cell_type": "code",
   "execution_count": 3,
   "metadata": {},
   "outputs": [
    {
     "data": {
      "text/plain": [
       "{'interface1': '-name eth3 -type ethernet -speed 10G -peer_device node01 -peer_interface Eth1/5/1 -itgen_peer_connections node01:Eth1/5/1',\n",
       " 'interface2': '-name eth4 -type ethernet -speed 10G -peer_device node01 -peer_interface Eth1/5/2 -itgen_peer_connections node01:Eth1/5/2',\n",
       " 'interface3': '-name eth2 -type ethernet -speed 10G -peer_device node03 -peer_interface Eth1/1/1',\n",
       " 'interface5': '-name eth1 -type ethernet -speed 10G -peer_device node02 -peer_interface Eth1/5/2 -itgen_peer_connections node02:Eth1/10,node01:Po100'}"
      ]
     },
     "execution_count": 3,
     "metadata": {},
     "output_type": "execute_result"
    }
   ],
   "source": [
    "yml_dic = parsed_yml['profile_l2_sanity']['peer_interface_dict']\n",
    "yml_dic"
   ]
  },
  {
   "cell_type": "code",
   "execution_count": 4,
   "metadata": {},
   "outputs": [
    {
     "name": "stdout",
     "output_type": "stream",
     "text": [
      "interface1\n",
      "interface2\n",
      "interface3\n",
      "interface5\n"
     ]
    }
   ],
   "source": [
    "for keys in yml_dic:\n",
    "    print(keys)"
   ]
  },
  {
   "cell_type": "markdown",
   "metadata": {},
   "source": [
    "**Example peer_interface_dict**  \n",
    "interface1: -name eth3 -type ethernet -speed 10G -peer_device node01 -peer_interface nd1_tgn3 -itgen_peer_connections node01:nd1_tgn3"
   ]
  },
  {
   "cell_type": "code",
   "execution_count": 169,
   "metadata": {},
   "outputs": [],
   "source": [
    "# store eth info here\n",
    "eth_info_dict={}"
   ]
  },
  {
   "cell_type": "code",
   "execution_count": 170,
   "metadata": {},
   "outputs": [
    {
     "name": "stdout",
     "output_type": "stream",
     "text": [
      "['-name', 'eth3', '-type', 'ethernet', '-speed', '10G', '-peer_device', 'node01', '-peer_interface', 'Eth1/5/1', '-itgen_peer_connections', 'node01:Eth1/5/1']\n",
      "{'name': 'eth3'}\n",
      "{'type': 'ethernet'}\n",
      "{'speed': '10G'}\n",
      "{'peer_device': 'node01'}\n",
      "{'peer_interface': 'Eth1/5/1'}\n",
      "{'itgen_peer_connections': 'node01:Eth1/5/1'}\n",
      "['-name', 'eth4', '-type', 'ethernet', '-speed', '10G', '-peer_device', 'node01', '-peer_interface', 'Eth1/5/2', '-itgen_peer_connections', 'node01:Eth1/5/2']\n",
      "{'name': 'eth4'}\n",
      "{'type': 'ethernet'}\n",
      "{'speed': '10G'}\n",
      "{'peer_device': 'node01'}\n",
      "{'peer_interface': 'Eth1/5/2'}\n",
      "{'itgen_peer_connections': 'node01:Eth1/5/2'}\n",
      "['-name', 'eth2', '-type', 'ethernet', '-speed', '10G', '-peer_device', 'node03', '-peer_interface', 'Eth1/1/1']\n",
      "{'name': 'eth2'}\n",
      "{'type': 'ethernet'}\n",
      "{'speed': '10G'}\n",
      "{'peer_device': 'node03'}\n",
      "{'peer_interface': 'Eth1/1/1'}\n",
      "['-name', 'eth1', '-type', 'ethernet', '-speed', '10G', '-peer_device', 'node02', '-peer_interface', 'Eth1/5/2', '-itgen_peer_connections', 'node02:Eth1/10,node01:Po100']\n",
      "{'name': 'eth1'}\n",
      "{'type': 'ethernet'}\n",
      "{'speed': '10G'}\n",
      "{'peer_device': 'node02'}\n",
      "{'peer_interface': 'Eth1/5/2'}\n",
      "{'itgen_peer_connections': 'node02:Eth1/10,node01:Po100'}\n",
      "{'node02': 'Eth1/10'}\n",
      "{'node01': 'Po100'}\n"
     ]
    }
   ],
   "source": [
    "for key in yml_dic:\n",
    "    node_inf = yml_dic[key].split()\n",
    "    print(node_inf)\n",
    "    curr_eth=str(node_inf[1])\n",
    "    eth_info_dict[curr_eth]={}\n",
    "    i=0\n",
    "    for v, w in zip(node_inf, node_inf[1:]):\n",
    "        if i%2==0: # avoid zip reuse\n",
    "            v= v.replace(\"-\",\"\")\n",
    "            if v != 'name' and v!= 'itgen_peer_connections':\n",
    "                eth_info_dict[curr_eth].update({v:w})\n",
    "            print({v:w})\n",
    "            # insert into eth_info_dict\n",
    "#             eth_info_dict.update({v:w})\n",
    "            if 'itgen_peer_connections' in v:\n",
    "                if len(w.split(','))>1:\n",
    "                    it_con = w.split(',')\n",
    "                    for x in it_con:\n",
    "                        it = x.split(':')\n",
    "                        d = dict([(it[0], it[1])])\n",
    "                        print(d)\n",
    "                        eth_info_dict[curr_eth].update({v:d})\n",
    "                else:\n",
    "                    it = w.split(':')\n",
    "                    d = dict([(it[0], it[1])])\n",
    "                    eth_info_dict[curr_eth][v]={}\n",
    "                    eth_info_dict[curr_eth][v].update({it[0]:it[1]})\n",
    "\n",
    "        i+=1    \n",
    "\n"
   ]
  },
  {
   "cell_type": "code",
   "execution_count": 171,
   "metadata": {},
   "outputs": [
    {
     "data": {
      "text/plain": [
       "{'eth3': {'type': 'ethernet',\n",
       "  'speed': '10G',\n",
       "  'peer_device': 'node01',\n",
       "  'peer_interface': 'Eth1/5/1',\n",
       "  'itgen_peer_connections': {'node01': 'Eth1/5/1'}},\n",
       " 'eth4': {'type': 'ethernet',\n",
       "  'speed': '10G',\n",
       "  'peer_device': 'node01',\n",
       "  'peer_interface': 'Eth1/5/2',\n",
       "  'itgen_peer_connections': {'node01': 'Eth1/5/2'}},\n",
       " 'eth2': {'type': 'ethernet',\n",
       "  'speed': '10G',\n",
       "  'peer_device': 'node03',\n",
       "  'peer_interface': 'Eth1/1/1'},\n",
       " 'eth1': {'type': 'ethernet',\n",
       "  'speed': '10G',\n",
       "  'peer_device': 'node02',\n",
       "  'peer_interface': 'Eth1/5/2',\n",
       "  'itgen_peer_connections': {'node01': 'Po100'}}}"
      ]
     },
     "execution_count": 171,
     "metadata": {},
     "output_type": "execute_result"
    }
   ],
   "source": [
    "eth_info_dict"
   ]
  },
  {
   "cell_type": "code",
   "execution_count": 145,
   "metadata": {},
   "outputs": [
    {
     "name": "stdout",
     "output_type": "stream",
     "text": [
      "{'eth3': {'type': 'ethernet', 'a': 'b'}, 'eth4': {'type': 'ethernet', 'speed': '10G', 'peer_device': 'node01', 'peer_interface': 'Eth1/5/2', 'itgen_peer_connections': 'node01:Eth1/5/2'}, 'eth2': {'type': 'ethernet', 'speed': '10G', 'peer_device': 'node03', 'peer_interface': 'Eth1/1/1'}, 'eth1': {'type': 'ethernet', 'speed': '10G', 'peer_device': 'node02', 'peer_interface': 'Eth1/5/2', 'itgen_peer_connections': 'node02:Eth1/10,node01:Po100'}}\n"
     ]
    }
   ],
   "source": [
    "eth_info_dict['eth3']\n",
    "eth_info_dict['eth3']={'type':'ethernet'}\n",
    "eth_info_dict['eth3'].update({'a':'b'})\n",
    "\n",
    "print(eth_info_dict)"
   ]
  },
  {
   "cell_type": "code",
   "execution_count": null,
   "metadata": {},
   "outputs": [],
   "source": []
  },
  {
   "cell_type": "code",
   "execution_count": 62,
   "metadata": {},
   "outputs": [],
   "source": []
  },
  {
   "cell_type": "markdown",
   "metadata": {},
   "source": [
    "a = ['-name', 'eth3', '-type', 'ethernet', '-speed', '10G', '-peer_device', 'node01', '-peer_interface', 'Eth1/5/1', '-itgen_peer_connections', 'node01:Eth1/5/1']\n",
    "for v, w in zip(a, a[1:]):\n",
    "    print([v, w])"
   ]
  },
  {
   "cell_type": "markdown",
   "metadata": {},
   "source": [
    "a = [5, 7, 11, 4, 5]\n",
    "for v, w in zip(a, a[1:]):\n",
    "    print([v, w])"
   ]
  },
  {
   "cell_type": "code",
   "execution_count": null,
   "metadata": {},
   "outputs": [],
   "source": []
  }
 ],
 "metadata": {
  "kernelspec": {
   "display_name": "Python 3",
   "language": "python",
   "name": "python3"
  },
  "language_info": {
   "codemirror_mode": {
    "name": "ipython",
    "version": 3
   },
   "file_extension": ".py",
   "mimetype": "text/x-python",
   "name": "python",
   "nbconvert_exporter": "python",
   "pygments_lexer": "ipython3",
   "version": "3.6.8"
  }
 },
 "nbformat": 4,
 "nbformat_minor": 4
}
