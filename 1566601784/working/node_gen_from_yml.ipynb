{
 "cells": [
  {
   "cell_type": "markdown",
   "metadata": {},
   "source": [
    "### after 1) traffic_collect.sh 2) TrafficParse.ipynb 3) pkt_parse_done.ipynb\n",
    "IN THIS SECTION:\n",
    "    1) generate nodes using yml contents\n",
    "    \n",
    "    \n",
    "**TO FIX** itgen_peer_connections': {'node01': 'Po100'}}} needs   \n",
    "    {'node02': 'Eth1/10'}\n",
    "    {'node01': 'Po100'}** \n"
   ]
  },
  {
   "cell_type": "code",
   "execution_count": 16,
   "metadata": {},
   "outputs": [],
   "source": [
    "%load_ext lab_black\n",
    "%reload_ext lab_black"
   ]
  },
  {
   "cell_type": "raw",
   "metadata": {},
   "source": [
    "GET INTF INFO FROM sanity.yml"
   ]
  },
  {
   "cell_type": "code",
   "execution_count": 22,
   "metadata": {},
   "outputs": [],
   "source": [
    "import yaml, subprocess, os, sys\n",
    "from os import environ\n",
    "import random"
   ]
  },
  {
   "cell_type": "code",
   "execution_count": 2,
   "metadata": {},
   "outputs": [
    {
     "data": {
      "text/plain": [
       "'sanity97-testbed.yml'"
      ]
     },
     "execution_count": 2,
     "metadata": {},
     "output_type": "execute_result"
    }
   ],
   "source": [
    "f=open(\"logfile_name.txt\", \"r\")\n",
    "tb_yml=f.read()\n",
    "tb_yml=tb_yml.rstrip('\\n')\n",
    "tb_yml"
   ]
  },
  {
   "cell_type": "code",
   "execution_count": 3,
   "metadata": {},
   "outputs": [
    {
     "name": "stdout",
     "output_type": "stream",
     "text": [
      "None\n"
     ]
    }
   ],
   "source": [
    "with open(tb_yml, 'r') as stream:\n",
    "    try:\n",
    "        parsed_yml = yaml.safe_load(stream)\n",
    "        print(yaml.safe_load(stream))\n",
    "    except yaml.YAMLError as exc:\n",
    "        print(exc)"
   ]
  },
  {
   "cell_type": "code",
   "execution_count": 45,
   "metadata": {},
   "outputs": [
    {
     "name": "stdout",
     "output_type": "stream",
     "text": [
      "node02-Eth2/1\n",
      "node02-Eth2/12\n",
      "node02-Eth2/2\n",
      "node03-Eth1/2\n",
      "node03-Eth1/3\n",
      "tgn-eth10\n",
      "node02-Eth1/2\n",
      "node03-Eth1/20\n",
      "tgn-eth3\n",
      "node04-Eth1/27\n",
      "node04-Eth2/9\n",
      "tgn-eth6\n",
      "node03-Eth2/1\n",
      "node03-Eth2/2\n",
      "tgn-eth8\n",
      "tgn-eth14\n",
      "node02-Eth2/3\n",
      "node02-Eth1/15\n",
      "node02-Eth1/1\n",
      "node02-Eth1/8\n",
      "tgn-eth12\n",
      "node02-Eth2/4\n",
      "node02-Eth1/30\n",
      "node02-Eth1/17\n",
      "node04-Eth1/28\n",
      "node04-Eth1/29\n",
      "node03-Eth1/29\n",
      "node04-Eth2/6\n",
      "node03-Eth1/30\n",
      "node03-Eth1/13\n",
      "node02-Eth1/46\n",
      "node03-Eth1/14\n",
      "node05-Eth1/26\n",
      "node05-Eth1/27\n",
      "node05-Eth1/28\n",
      "node05-Eth1/29\n",
      "node02-Eth1/16\n",
      "tgn-eth9\n",
      "tgn-eth11\n",
      "tgn-eth15\n",
      "tgn-eth16\n",
      "node01-Eth2/1\n",
      "node01-Eth2/12\n",
      "node01-Eth2/2\n",
      "node03-Eth1/16\n",
      "node03-Eth1/17\n",
      "node01-Eth101/1/1\n",
      "tgn-eth1\n",
      "tgn-eth7\n",
      "node03-Eth1/5/2\n",
      "node03-Eth1/5/3\n",
      "node01-Eth2/3\n",
      "node01-Eth1/15\n",
      "node01-Eth1/1\n",
      "node01-Eth1/8\n",
      "node01-Eth1/7\n",
      "node01-Eth2/4\n",
      "node01-Eth1/30\n",
      "node01-Eth1/17\n",
      "node01-Eth101/1/10\n",
      "node03-Eth1/20\n",
      "node05-Eth1/5\n",
      "node05-Eth1/20\n",
      "node01-Eth1/16\n",
      "node03-Eth1/18\n",
      "node03-Eth1/19\n",
      "node01-Eth1/2\n",
      "node01-Eth1/3\n",
      "node01-Eth1/5\n",
      "node04-Eth1/17\n",
      "node02-Eth2/7\n",
      "node02-Eth2/10\n",
      "tgn-eth2\n",
      "node01-Eth101/1/3\n",
      "node01-Eth101/1/4\n",
      "node02-Eth151/1/2\n",
      "node02-Eth151/1/3\n",
      "node04-Eth1/30\n",
      "node04-Eth1/16\n",
      "node01-Eth2/5\n",
      "node01-Eth2/7\n",
      "node04-Eth2/1\n",
      "node01-Eth1/13\n",
      "node01-Eth1/14\n",
      "node02-Eth2/8\n",
      "node02-Eth2/9\n",
      "node01-Eth1/5/1\n",
      "node01-Eth1/5/2\n",
      "node03-Eth1/1/1\n",
      "node02-Eth1/5/2\n"
     ]
    }
   ],
   "source": [
    "g_node_dict = parsed_yml[\"node_dict\"]\n",
    "for curr_node in g_node_dict.keys():\n",
    "    for i in g_node_dict[curr_node][\"interfaces\"]:\n",
    "\n",
    "        peer = (\n",
    "            g_node_dict[curr_node][\"interfaces\"][i][\"peer_device\"]\n",
    "            + \"-\"\n",
    "            + g_node_dict[curr_node][\"interfaces\"][i][\"peer_interface\"]\n",
    "        )\n",
    "        print(peer)"
   ]
  },
  {
   "cell_type": "code",
   "execution_count": 4,
   "metadata": {
    "collapsed": true,
    "jupyter": {
     "outputs_hidden": true
    }
   },
   "outputs": [
    {
     "data": {
      "text/plain": [
       "{'node01': {'params': \"-name sanity97-tor1 -mgmt_ip_addr 172.31.203.80 -mgmt_prf_len 21 -gateway_addr 172.31.200.1 -sup1_con_ipaddr 172.31.146.72 -sup1_con_port 2008 -sup2_con_ipaddr NA -sup2_con_port NA -user_name admin -password insieme -device_type sTOR -pdu_list [('172.31.151.0',2)] -pwr_cycle True -clear_console True -model Firestone\",\n",
       "  'modules': None,\n",
       "  'interfaces': {'interface1': '-name Eth2/1 -type ethernet -speed 40G -peer_device node02 -peer_interface Eth2/1',\n",
       "   'interface2': '-name Eth2/12 -type ethernet -speed 40G -peer_device node02 -peer_interface Eth2/12',\n",
       "   'interface3': '-name Eth2/2 -type ethernet -speed 40G -peer_device node02 -peer_interface Eth2/2',\n",
       "   'interface4': '-name Eth1/2 -type ethernet -speed 10G -peer_device node03 -peer_interface Eth1/2',\n",
       "   'interface5': '-name Eth1/3 -type ethernet -speed 10G -peer_device node03 -peer_interface Eth1/3',\n",
       "   'interface6': '-name Eth1/10 -type ethernet -speed 10G -peer_device node03 -peer_interface Eth1/5',\n",
       "   'interface7': '-name Eth101/1/1 -type ethernet -speed 10G -peer_device node02 -peer_interface Eth1/2',\n",
       "   'interface8': '-name Eth101/1/2 -type ethernet -speed 10G -peer_device node03 -peer_interface Eth1/20',\n",
       "   'interface9': '-name Eth1/5/1 -type ethernet -speed 10G -peer_device tgn -peer_interface eth3',\n",
       "   'interface10': '-name Eth1/5/2 -type ethernet -speed 10G -peer_device tgn -peer_interface eth4',\n",
       "   'interface11': '-name Eth1/5/3 -type ethernet -speed 10G -peer_device tgn -peer_interface eth5',\n",
       "   'interface12': '-name Eth1/5/4 -type ethernet -speed 10G -peer_device tgn -peer_interface eth6',\n",
       "   'interface13': '-name Eth101/1/3 -type ethernet -speed 10G -peer_device node03 -peer_interface Eth2/1',\n",
       "   'interface14': '-name Eth101/1/4 -type ethernet -speed 10G -peer_device node03 -peer_interface Eth2/2',\n",
       "   'interface15': '-name Eth101/1/5 -type ethernet -speed 10G -peer_device tgn -peer_interface eth8',\n",
       "   'interface57': '-name Eth101/1/6 -type ethernet -speed 1G -peer_device tgn -peer_interface eth14',\n",
       "   'interface16': '-name Eth2/3 -type ethernet -speed 40G -peer_device node02 -peer_interface Eth2/3',\n",
       "   'interface17': '-name Eth1/15 -type ethernet -speed 10G -peer_device node02 -peer_interface Eth1/15',\n",
       "   'interface18': '-name Eth1/1 -type ethernet -speed 10G -peer_device node02 -peer_interface Eth1/1',\n",
       "   'interface19': '-name Eth1/8 -type ethernet -speed 10G -peer_device node02 -peer_interface Eth1/8',\n",
       "   'interface20': '-name Eth1/7 -type ethernet -speed 10G -peer_device node02 -peer_interface Eth1/7',\n",
       "   'interface21': '-name Eth2/4 -type ethernet -speed 40G -peer_device node02 -peer_interface Eth2/4',\n",
       "   'interface24': '-name Eth1/30 -type ethernet -speed 1G -peer_device node02 -peer_interface Eth1/30',\n",
       "   'interface25': '-name Eth1/17 -type ethernet -speed 1G -peer_device node02 -peer_interface Eth1/17',\n",
       "   'interface26': '-name Eth1/5/2 -type ethernet -speed 10G -peer_device node04 -peer_interface Eth1/27',\n",
       "   'interface27': '-name Eth1/11 -type ethernet -speed 10G -peer_device node04 -peer_interface Eth1/28',\n",
       "   'interface28': '-name Eth1/12 -type ethernet -speed 10G -peer_device node04 -peer_interface Eth1/29',\n",
       "   'interface29': '-name Eth2/5 -type ethernet -speed 40G -peer_device node03 -peer_interface Eth1/29',\n",
       "   'interface30': '-name Eth2/6 -type ethernet -speed 40G -peer_device node04 -peer_interface Eth2/6',\n",
       "   'interface31': '-name Eth2/7 -type ethernet -speed 40G -peer_device node03 -peer_interface Eth1/30',\n",
       "   'interface34': '-name Eth1/13 -type ethernet -speed 10G -peer_device node03 -peer_interface Eth1/13',\n",
       "   'interface35': '-name Eth101/1/10 -type ethernet -speed 10G -peer_device node02 -peer_interface Eth1/46',\n",
       "   'interface40': '-name Eth1/14 -type ethernet -speed 10G -peer_device node03 -peer_interface Eth1/14',\n",
       "   'interface41': '-name Eth1/5/3 -type ethernet -speed 40G -peer_device node04 -peer_interface Eth2/9',\n",
       "   'interface45': '-name Eth1/26 -type ethernet -speed 10G -peer_device node05 -peer_interface Eth1/26',\n",
       "   'interface46': '-name Eth1/27 -type ethernet -speed 10G -peer_device node05 -peer_interface Eth1/27',\n",
       "   'interface47': '-name Eth1/28 -type ethernet -speed 10G -peer_device node05 -peer_interface Eth1/28',\n",
       "   'interface48': '-name Eth1/29 -type ethernet -speed 10G -peer_device node05 -peer_interface Eth1/29',\n",
       "   'interface49': '-name Eth1/16 -type ethernet -speed 1G -peer_device node02 -peer_interface Eth1/16',\n",
       "   'interface51': '-name Eth1/4 -type ethernet -speed 10G -peer_device tgn -peer_interface eth9',\n",
       "   'interface52': '-name Eth1/10 -type ethernet -speed 10G -peer_device tgn -peer_interface eth10',\n",
       "   'interface53': '-name Eth1/6 -type ethernet -speed 10G -peer_device tgn -peer_interface eth11',\n",
       "   'interface54': '-name Eth1/7 -type ethernet -speed 10G -peer_device tgn -peer_interface eth12',\n",
       "   'interface56': '-name Eth101/1/5 -type ethernet -speed 1G -peer_device tgn -peer_interface eth8',\n",
       "   'interface58': '-name Eth102/1/7 -type ethernet -speed 1G -peer_device tgn -peer_interface eth15',\n",
       "   'interface59': '-name Eth102/1/8 -type ethernet -speed 1G -peer_device tgn -peer_interface eth16'}},\n",
       " 'node02': {'params': \"-name sanity97-tor2 -mgmt_ip_addr 172.31.203.81 -mgmt_prf_len 21 -gateway_addr 172.31.200.1 -sup1_con_ipaddr 172.31.146.72 -sup1_con_port 2007 -sup2_con_ipaddr NA -sup2_con_port NA -user_name admin -password insieme -device_type sTOR -pdu_list [('172.31.151.0',1)] -pwr_cycle True -clear_console True -model Firestone\",\n",
       "  'modules': None,\n",
       "  'interfaces': {'interface1': '-name Eth2/1 -type ethernet -speed 40G -peer_device node01 -peer_interface Eth2/1',\n",
       "   'interface2': '-name Eth2/12 -type ethernet -speed 40G -peer_device node01 -peer_interface Eth2/12',\n",
       "   'interface3': '-name Eth2/2 -type ethernet -speed 40G -peer_device node01 -peer_interface Eth2/2',\n",
       "   'interface4': '-name Eth2/6 -type ethernet -speed 10G -peer_device node03 -peer_interface Eth1/16',\n",
       "   'interface5': '-name Eth2/7 -type ethernet -speed 10G -peer_device node03 -peer_interface Eth1/17',\n",
       "   'interface6': '-name Eth1/2 -type ethernet -speed 10G -peer_device node01 -peer_interface Eth101/1/1',\n",
       "   'interface7': '-name Eth1/5/2 -type ethernet -speed 10G -peer_device tgn -peer_interface eth1',\n",
       "   'interface8': '-name Eth1/5/1 -type ethernet -speed 10G -peer_device tgn -peer_interface eth7',\n",
       "   'interface9': '-name Eth151/1/2 -type ethernet -speed 10G -peer_device node03 -peer_interface Eth1/5/2',\n",
       "   'interface10': '-name Eth151/1/3 -type ethernet -speed 10G -peer_device node03 -peer_interface Eth1/5/3',\n",
       "   'interface16': '-name Eth2/3 -type ethernet -speed 40G -peer_device node01 -peer_interface Eth2/3',\n",
       "   'interface17': '-name Eth1/15 -type ethernet -speed 10G -peer_device node01 -peer_interface Eth1/15',\n",
       "   'interface18': '-name Eth1/1 -type ethernet -speed 10G -peer_device node01 -peer_interface Eth1/1',\n",
       "   'interface19': '-name Eth1/8 -type ethernet -speed 10G -peer_device node01 -peer_interface Eth1/8',\n",
       "   'interface20': '-name Eth1/7 -type ethernet -speed 10G -peer_device node01 -peer_interface Eth1/7',\n",
       "   'interface21': '-name Eth2/4 -type ethernet -speed 40G -peer_device node01 -peer_interface Eth2/4',\n",
       "   'interface24': '-name Eth1/30 -type ethernet -speed 1G -peer_device node01 -peer_interface Eth1/30',\n",
       "   'interface25': '-name Eth1/17 -type ethernet -speed 1G -peer_device node01 -peer_interface Eth1/17',\n",
       "   'interface30': '-name Eth1/46 -type ethernet -speed 10G -peer_device node01 -peer_interface Eth101/1/10',\n",
       "   'interface33': '-name Eth2/10 -type ethernet -speed 40G -peer_device node03 -peer_interface Eth1/20',\n",
       "   'interface35': '-name Eth1/10 -type ethernet -speed 10G -peer_device node05 -peer_interface Eth1/5',\n",
       "   'interface36': '-name Eth1/20 -type ethernet -speed 10G -peer_device node05 -peer_interface Eth1/20',\n",
       "   'interface49': '-name Eth1/16 -type ethernet -speed 1G -peer_device node01 -peer_interface Eth1/16',\n",
       "   'interface70': '-name Eth2/8 -type ethernet -speed 10G -peer_device node03 -peer_interface Eth1/18',\n",
       "   'interface71': '-name Eth2/9 -type ethernet -speed 10G -peer_device node03 -peer_interface Eth1/19'}},\n",
       " 'node03': {'params': '-name sanity97-node03 -mgmt_ip_addr 172.31.203.82 -mgmt_prf_len 21 -gateway_addr 172.31.200.1 -sup1_con_ipaddr NA -sup1_con_port NA -sup2_con_ipaddr NA -sup2_con_port NA -user_name admin -password insieme -device_type N3K -clear_console True -model fanout',\n",
       "  'modules': None,\n",
       "  'interfaces': {'interface1': '-name Eth1/2 -type ethernet -speed 10G -peer_device node01 -peer_interface Eth1/2',\n",
       "   'interface2': '-name Eth1/3 -type ethernet -speed 10G -peer_device node01 -peer_interface Eth1/3',\n",
       "   'interface3': '-name Eth1/10 -type ethernet -speed 10G -peer_device node01 -peer_interface Eth1/5',\n",
       "   'interface4': '-name Eth1/16 -type ethernet -speed 10G -peer_device node02 -peer_interface Eth2/6',\n",
       "   'interface5': '-name Eth1/17 -type ethernet -speed 10G -peer_device node02 -peer_interface Eth2/7',\n",
       "   'interface6': '-name Eth1/20 -type ethernet -speed 10G -peer_device node01 -peer_interface Eth101/1/2',\n",
       "   'interface7': '-name Eth1/1/1 -type ethernet -speed 10G -peer_device tgn -peer_interface eth2',\n",
       "   'interface8': '-name Eth2/1 -type ethernet -speed 10G -peer_device node01 -peer_interface Eth101/1/3',\n",
       "   'interface9': '-name Eth2/2 -type ethernet -speed 10G -peer_device node01 -peer_interface Eth101/1/4',\n",
       "   'interface10': '-name Eth1/5/2 -type ethernet -speed 10G -peer_device node02 -peer_interface Eth151/1/2',\n",
       "   'interface11': '-name Eth1/5/3 -type ethernet -speed 10G -peer_device node02 -peer_interface Eth151/1/3',\n",
       "   'interface12': '-name Eth1/26 -type ethernet -speed 10G -peer_device node04 -peer_interface Eth1/30',\n",
       "   'interface13': '-name Eth1/27 -type ethernet -speed 10G -peer_device node04 -peer_interface Eth1/16',\n",
       "   'interface29': '-name Eth1/29 -type ethernet -speed 40G -peer_device node01 -peer_interface Eth2/5',\n",
       "   'interface30': '-name Eth1/30 -type ethernet -speed 40G -peer_device node01 -peer_interface Eth2/7',\n",
       "   'interface32': '-name Eth1/102 -type ethernet -speed 40G -peer_device node04 -peer_interface Eth2/1',\n",
       "   'interface33': '-name Eth1/20 -type ethernet -speed 40G -peer_device node02 -peer_interface Eth2/10',\n",
       "   'interface34': '-name Eth1/13 -type ethernet -speed 10G -peer_device node01 -peer_interface Eth1/13',\n",
       "   'interface40': '-name Eth1/14 -type ethernet -speed 10G -peer_device node01 -peer_interface Eth1/14',\n",
       "   'interface41': '-name Eth1/16 -type ethernet -speed 10G -peer_device node04 -peer_interface Eth1/17',\n",
       "   'interface70': '-name Eth1/18 -type ethernet -speed 10G -peer_device node02 -peer_interface Eth2/8',\n",
       "   'interface71': '-name Eth1/19 -type ethernet -speed 10G -peer_device node02 -peer_interface Eth2/9'}},\n",
       " 'tgn': {'params': '-name tgn -mgmt_ip_addr 172.31.201.110 -mgmt_prf_len 21 -gateway_addr 172.31.200.1 -sup1_con_ipaddr NA -sup1_con_port NA -sup2_con_ipaddr NA -sup2_con_port NA -user_name admin -password nbv_12345 -clear_console True -device_type itgen',\n",
       "  'interfaces': {'interface1': '-name eth3 -type ethernet -speed 10G -peer_device node01 -peer_interface Eth1/5/1 -itgen_peer_connections node01:Eth1/5/1',\n",
       "   'interface2': '-name eth4 -type ethernet -speed 10G -peer_device node01 -peer_interface Eth1/5/2 -itgen_peer_connections node01:Eth1/5/2',\n",
       "   'interface3': '-name eth2 -type ethernet -speed 10G -peer_device node03 -peer_interface Eth1/1/1',\n",
       "   'interface5': '-name eth1 -type ethernet -speed 10G -peer_device node02 -peer_interface Eth1/5/2 -itgen_peer_connections node02:Eth1/10,node01:Po100'}}}"
      ]
     },
     "execution_count": 4,
     "metadata": {},
     "output_type": "execute_result"
    }
   ],
   "source": [
    "parsed_yml['node_dict']"
   ]
  },
  {
   "cell_type": "code",
   "execution_count": 5,
   "metadata": {},
   "outputs": [
    {
     "data": {
      "text/plain": [
       "['node01', 'node02', 'node03', 'tgn']"
      ]
     },
     "execution_count": 5,
     "metadata": {},
     "output_type": "execute_result"
    }
   ],
   "source": [
    "sanity_nodes = parsed_yml['node_dict']\n",
    "list(sanity_nodes.keys())"
   ]
  },
  {
   "cell_type": "code",
   "execution_count": 6,
   "metadata": {},
   "outputs": [
    {
     "data": {
      "text/plain": [
       "dict_keys(['interface1', 'interface2', 'interface3', 'interface4', 'interface5', 'interface6', 'interface7', 'interface8', 'interface9', 'interface10', 'interface11', 'interface12', 'interface13', 'interface14', 'interface15', 'interface57', 'interface16', 'interface17', 'interface18', 'interface19', 'interface20', 'interface21', 'interface24', 'interface25', 'interface26', 'interface27', 'interface28', 'interface29', 'interface30', 'interface31', 'interface34', 'interface35', 'interface40', 'interface41', 'interface45', 'interface46', 'interface47', 'interface48', 'interface49', 'interface51', 'interface52', 'interface53', 'interface54', 'interface56', 'interface58', 'interface59'])"
      ]
     },
     "execution_count": 6,
     "metadata": {},
     "output_type": "execute_result"
    }
   ],
   "source": [
    "sanity_nodes['node01']['interfaces'].keys()"
   ]
  },
  {
   "cell_type": "code",
   "execution_count": 7,
   "metadata": {},
   "outputs": [
    {
     "data": {
      "text/plain": [
       "\"-name sanity97-tor1 -mgmt_ip_addr 172.31.203.80 -mgmt_prf_len 21 -gateway_addr 172.31.200.1 -sup1_con_ipaddr 172.31.146.72 -sup1_con_port 2008 -sup2_con_ipaddr NA -sup2_con_port NA -user_name admin -password insieme -device_type sTOR -pdu_list [('172.31.151.0',2)] -pwr_cycle True -clear_console True -model Firestone\""
      ]
     },
     "execution_count": 7,
     "metadata": {},
     "output_type": "execute_result"
    }
   ],
   "source": [
    "sanity_nodes['node01']['params']\n",
    "\n",
    "# ['params']\n",
    "# ['interfaces']"
   ]
  },
  {
   "cell_type": "raw",
   "metadata": {},
   "source": [
    "ex = intf_list[0].split(\" \")\n",
    "ex =[i.replace(\"-\",\"\") for i in ex]\n",
    "ex"
   ]
  },
  {
   "cell_type": "raw",
   "metadata": {},
   "source": [
    "curr_node_dict = i+'_dict'"
   ]
  },
  {
   "cell_type": "code",
   "execution_count": 8,
   "metadata": {},
   "outputs": [],
   "source": [
    "# store eth info here\n",
    "node01_dict={}\n",
    "\n",
    "# node01_dict[curr_eth]={}\n",
    "# node01_dict[curr_eth].update({v:w})\n",
    "# node01_dict[curr_eth][v].update({it[0]:it[1]})\n",
    "# node01_dict['eth3']\n",
    "node01_dict['Eth2/1']={'type':'ethernet'}\n",
    "node01_dict['Eth2/1'].update({'peer_device':'node02'})\n",
    "node01_dict['Eth2/1'].update({'peer_interface':'Eth2/1'})\n",
    "\n",
    "tgn_dict={}\n",
    "tgn_dict['eth3']={'peer_device':'node01'}\n",
    "tgn_dict['eth3'].update({'peer_device':'node01'})\n",
    "tgn_dict['eth3'].update({'peer_interface':'Eth1/5/1'})\n",
    "tgn_dict\n",
    "\n",
    "new_intfs={}\n",
    "# intf_dict= dict((x,y) for x,y in a)\n",
    "# eth_info_dict[curr_eth].update({v:w})"
   ]
  },
  {
   "cell_type": "markdown",
   "metadata": {},
   "source": [
    "dict((x,y) for x,y in i)"
   ]
  },
  {
   "cell_type": "code",
   "execution_count": 9,
   "metadata": {
    "collapsed": true,
    "jupyter": {
     "outputs_hidden": true
    }
   },
   "outputs": [
    {
     "name": "stdout",
     "output_type": "stream",
     "text": [
      "{'Eth2/1': {'type': 'ethernet', 'speed': '40G', 'peer_device': 'node02', 'peer_interface': 'Eth2/1'}, 'Eth2/12': {'type': 'ethernet', 'speed': '40G', 'peer_device': 'node02', 'peer_interface': 'Eth2/12'}, 'Eth2/2': {'type': 'ethernet', 'speed': '40G', 'peer_device': 'node02', 'peer_interface': 'Eth2/2'}, 'Eth1/2': {'type': 'ethernet', 'speed': '10G', 'peer_device': 'node03', 'peer_interface': 'Eth1/2'}, 'Eth1/3': {'type': 'ethernet', 'speed': '10G', 'peer_device': 'node03', 'peer_interface': 'Eth1/3'}, 'Eth1/10': {'type': 'ethernet', 'speed': '10G', 'peer_device': 'tgn', 'peer_interface': 'eth10'}, 'Eth101/1/1': {'type': 'ethernet', 'speed': '10G', 'peer_device': 'node02', 'peer_interface': 'Eth1/2'}, 'Eth101/1/2': {'type': 'ethernet', 'speed': '10G', 'peer_device': 'node03', 'peer_interface': 'Eth1/20'}, 'Eth1/5/1': {'type': 'ethernet', 'speed': '10G', 'peer_device': 'tgn', 'peer_interface': 'eth3'}, 'Eth1/5/2': {'type': 'ethernet', 'speed': '10G', 'peer_device': 'node04', 'peer_interface': 'Eth1/27'}, 'Eth1/5/3': {'type': 'ethernet', 'speed': '40G', 'peer_device': 'node04', 'peer_interface': 'Eth2/9'}, 'Eth1/5/4': {'type': 'ethernet', 'speed': '10G', 'peer_device': 'tgn', 'peer_interface': 'eth6'}, 'Eth101/1/3': {'type': 'ethernet', 'speed': '10G', 'peer_device': 'node03', 'peer_interface': 'Eth2/1'}, 'Eth101/1/4': {'type': 'ethernet', 'speed': '10G', 'peer_device': 'node03', 'peer_interface': 'Eth2/2'}, 'Eth101/1/5': {'type': 'ethernet', 'speed': '1G', 'peer_device': 'tgn', 'peer_interface': 'eth8'}, 'Eth101/1/6': {'type': 'ethernet', 'speed': '1G', 'peer_device': 'tgn', 'peer_interface': 'eth14'}, 'Eth2/3': {'type': 'ethernet', 'speed': '40G', 'peer_device': 'node02', 'peer_interface': 'Eth2/3'}, 'Eth1/15': {'type': 'ethernet', 'speed': '10G', 'peer_device': 'node02', 'peer_interface': 'Eth1/15'}, 'Eth1/1': {'type': 'ethernet', 'speed': '10G', 'peer_device': 'node02', 'peer_interface': 'Eth1/1'}, 'Eth1/8': {'type': 'ethernet', 'speed': '10G', 'peer_device': 'node02', 'peer_interface': 'Eth1/8'}, 'Eth1/7': {'type': 'ethernet', 'speed': '10G', 'peer_device': 'tgn', 'peer_interface': 'eth12'}, 'Eth2/4': {'type': 'ethernet', 'speed': '40G', 'peer_device': 'node02', 'peer_interface': 'Eth2/4'}, 'Eth1/30': {'type': 'ethernet', 'speed': '1G', 'peer_device': 'node02', 'peer_interface': 'Eth1/30'}, 'Eth1/17': {'type': 'ethernet', 'speed': '1G', 'peer_device': 'node02', 'peer_interface': 'Eth1/17'}, 'Eth1/11': {'type': 'ethernet', 'speed': '10G', 'peer_device': 'node04', 'peer_interface': 'Eth1/28'}, 'Eth1/12': {'type': 'ethernet', 'speed': '10G', 'peer_device': 'node04', 'peer_interface': 'Eth1/29'}, 'Eth2/5': {'type': 'ethernet', 'speed': '40G', 'peer_device': 'node03', 'peer_interface': 'Eth1/29'}, 'Eth2/6': {'type': 'ethernet', 'speed': '40G', 'peer_device': 'node04', 'peer_interface': 'Eth2/6'}, 'Eth2/7': {'type': 'ethernet', 'speed': '40G', 'peer_device': 'node03', 'peer_interface': 'Eth1/30'}, 'Eth1/13': {'type': 'ethernet', 'speed': '10G', 'peer_device': 'node03', 'peer_interface': 'Eth1/13'}, 'Eth101/1/10': {'type': 'ethernet', 'speed': '10G', 'peer_device': 'node02', 'peer_interface': 'Eth1/46'}, 'Eth1/14': {'type': 'ethernet', 'speed': '10G', 'peer_device': 'node03', 'peer_interface': 'Eth1/14'}, 'Eth1/26': {'type': 'ethernet', 'speed': '10G', 'peer_device': 'node05', 'peer_interface': 'Eth1/26'}, 'Eth1/27': {'type': 'ethernet', 'speed': '10G', 'peer_device': 'node05', 'peer_interface': 'Eth1/27'}, 'Eth1/28': {'type': 'ethernet', 'speed': '10G', 'peer_device': 'node05', 'peer_interface': 'Eth1/28'}, 'Eth1/29': {'type': 'ethernet', 'speed': '10G', 'peer_device': 'node05', 'peer_interface': 'Eth1/29'}, 'Eth1/16': {'type': 'ethernet', 'speed': '1G', 'peer_device': 'node02', 'peer_interface': 'Eth1/16'}, 'Eth1/4': {'type': 'ethernet', 'speed': '10G', 'peer_device': 'tgn', 'peer_interface': 'eth9'}, 'Eth1/6': {'type': 'ethernet', 'speed': '10G', 'peer_device': 'tgn', 'peer_interface': 'eth11'}, 'Eth102/1/7': {'type': 'ethernet', 'speed': '1G', 'peer_device': 'tgn', 'peer_interface': 'eth15'}, 'Eth102/1/8': {'type': 'ethernet', 'speed': '1G', 'peer_device': 'tgn', 'peer_interface': 'eth16'}}\n",
      "\n",
      "\n",
      "\n",
      "\n",
      "{'Eth2/1': {'type': 'ethernet', 'speed': '40G', 'peer_device': 'node01', 'peer_interface': 'Eth2/1'}, 'Eth2/12': {'type': 'ethernet', 'speed': '40G', 'peer_device': 'node01', 'peer_interface': 'Eth2/12'}, 'Eth2/2': {'type': 'ethernet', 'speed': '40G', 'peer_device': 'node01', 'peer_interface': 'Eth2/2'}, 'Eth2/6': {'type': 'ethernet', 'speed': '10G', 'peer_device': 'node03', 'peer_interface': 'Eth1/16'}, 'Eth2/7': {'type': 'ethernet', 'speed': '10G', 'peer_device': 'node03', 'peer_interface': 'Eth1/17'}, 'Eth1/2': {'type': 'ethernet', 'speed': '10G', 'peer_device': 'node01', 'peer_interface': 'Eth101/1/1'}, 'Eth1/5/2': {'type': 'ethernet', 'speed': '10G', 'peer_device': 'tgn', 'peer_interface': 'eth1'}, 'Eth1/5/1': {'type': 'ethernet', 'speed': '10G', 'peer_device': 'tgn', 'peer_interface': 'eth7'}, 'Eth151/1/2': {'type': 'ethernet', 'speed': '10G', 'peer_device': 'node03', 'peer_interface': 'Eth1/5/2'}, 'Eth151/1/3': {'type': 'ethernet', 'speed': '10G', 'peer_device': 'node03', 'peer_interface': 'Eth1/5/3'}, 'Eth2/3': {'type': 'ethernet', 'speed': '40G', 'peer_device': 'node01', 'peer_interface': 'Eth2/3'}, 'Eth1/15': {'type': 'ethernet', 'speed': '10G', 'peer_device': 'node01', 'peer_interface': 'Eth1/15'}, 'Eth1/1': {'type': 'ethernet', 'speed': '10G', 'peer_device': 'node01', 'peer_interface': 'Eth1/1'}, 'Eth1/8': {'type': 'ethernet', 'speed': '10G', 'peer_device': 'node01', 'peer_interface': 'Eth1/8'}, 'Eth1/7': {'type': 'ethernet', 'speed': '10G', 'peer_device': 'node01', 'peer_interface': 'Eth1/7'}, 'Eth2/4': {'type': 'ethernet', 'speed': '40G', 'peer_device': 'node01', 'peer_interface': 'Eth2/4'}, 'Eth1/30': {'type': 'ethernet', 'speed': '1G', 'peer_device': 'node01', 'peer_interface': 'Eth1/30'}, 'Eth1/17': {'type': 'ethernet', 'speed': '1G', 'peer_device': 'node01', 'peer_interface': 'Eth1/17'}, 'Eth1/46': {'type': 'ethernet', 'speed': '10G', 'peer_device': 'node01', 'peer_interface': 'Eth101/1/10'}, 'Eth2/10': {'type': 'ethernet', 'speed': '40G', 'peer_device': 'node03', 'peer_interface': 'Eth1/20'}, 'Eth1/10': {'type': 'ethernet', 'speed': '10G', 'peer_device': 'node05', 'peer_interface': 'Eth1/5'}, 'Eth1/20': {'type': 'ethernet', 'speed': '10G', 'peer_device': 'node05', 'peer_interface': 'Eth1/20'}, 'Eth1/16': {'type': 'ethernet', 'speed': '1G', 'peer_device': 'node01', 'peer_interface': 'Eth1/16'}, 'Eth2/8': {'type': 'ethernet', 'speed': '10G', 'peer_device': 'node03', 'peer_interface': 'Eth1/18'}, 'Eth2/9': {'type': 'ethernet', 'speed': '10G', 'peer_device': 'node03', 'peer_interface': 'Eth1/19'}}\n",
      "\n",
      "\n",
      "\n",
      "\n",
      "{'Eth1/2': {'type': 'ethernet', 'speed': '10G', 'peer_device': 'node01', 'peer_interface': 'Eth1/2'}, 'Eth1/3': {'type': 'ethernet', 'speed': '10G', 'peer_device': 'node01', 'peer_interface': 'Eth1/3'}, 'Eth1/10': {'type': 'ethernet', 'speed': '10G', 'peer_device': 'node01', 'peer_interface': 'Eth1/5'}, 'Eth1/16': {'type': 'ethernet', 'speed': '10G', 'peer_device': 'node04', 'peer_interface': 'Eth1/17'}, 'Eth1/17': {'type': 'ethernet', 'speed': '10G', 'peer_device': 'node02', 'peer_interface': 'Eth2/7'}, 'Eth1/20': {'type': 'ethernet', 'speed': '40G', 'peer_device': 'node02', 'peer_interface': 'Eth2/10'}, 'Eth1/1/1': {'type': 'ethernet', 'speed': '10G', 'peer_device': 'tgn', 'peer_interface': 'eth2'}, 'Eth2/1': {'type': 'ethernet', 'speed': '10G', 'peer_device': 'node01', 'peer_interface': 'Eth101/1/3'}, 'Eth2/2': {'type': 'ethernet', 'speed': '10G', 'peer_device': 'node01', 'peer_interface': 'Eth101/1/4'}, 'Eth1/5/2': {'type': 'ethernet', 'speed': '10G', 'peer_device': 'node02', 'peer_interface': 'Eth151/1/2'}, 'Eth1/5/3': {'type': 'ethernet', 'speed': '10G', 'peer_device': 'node02', 'peer_interface': 'Eth151/1/3'}, 'Eth1/26': {'type': 'ethernet', 'speed': '10G', 'peer_device': 'node04', 'peer_interface': 'Eth1/30'}, 'Eth1/27': {'type': 'ethernet', 'speed': '10G', 'peer_device': 'node04', 'peer_interface': 'Eth1/16'}, 'Eth1/29': {'type': 'ethernet', 'speed': '40G', 'peer_device': 'node01', 'peer_interface': 'Eth2/5'}, 'Eth1/30': {'type': 'ethernet', 'speed': '40G', 'peer_device': 'node01', 'peer_interface': 'Eth2/7'}, 'Eth1/102': {'type': 'ethernet', 'speed': '40G', 'peer_device': 'node04', 'peer_interface': 'Eth2/1'}, 'Eth1/13': {'type': 'ethernet', 'speed': '10G', 'peer_device': 'node01', 'peer_interface': 'Eth1/13'}, 'Eth1/14': {'type': 'ethernet', 'speed': '10G', 'peer_device': 'node01', 'peer_interface': 'Eth1/14'}, 'Eth1/18': {'type': 'ethernet', 'speed': '10G', 'peer_device': 'node02', 'peer_interface': 'Eth2/8'}, 'Eth1/19': {'type': 'ethernet', 'speed': '10G', 'peer_device': 'node02', 'peer_interface': 'Eth2/9'}}\n",
      "\n",
      "\n",
      "\n",
      "\n",
      "{'eth3': {'type': 'ethernet', 'speed': '10G', 'peer_device': 'node01', 'peer_interface': 'Eth1/5/1', 'itgen_peer_connections': 'node01:Eth1/5/1'}, 'eth4': {'type': 'ethernet', 'speed': '10G', 'peer_device': 'node01', 'peer_interface': 'Eth1/5/2', 'itgen_peer_connections': 'node01:Eth1/5/2'}, 'eth2': {'type': 'ethernet', 'speed': '10G', 'peer_device': 'node03', 'peer_interface': 'Eth1/1/1'}, 'eth1': {'type': 'ethernet', 'speed': '10G', 'peer_device': 'node02', 'peer_interface': 'Eth1/5/2', 'itgen_peer_connections': 'node02:Eth1/10,node01:Po100'}}\n",
      "\n",
      "\n",
      "\n",
      "\n"
     ]
    }
   ],
   "source": [
    "# ['node01', 'node02', 'node03', 'tgn']\n",
    "for i in list(sanity_nodes.keys()):\n",
    "#     curr_node_dict = i+'_dict'\n",
    "    \n",
    "    intf_list=list(sanity_nodes[i]['interfaces'].values())\n",
    "#     print(intf_list)\n",
    "    new_intf_dict = {}\n",
    "    \n",
    "    for j in intf_list:\n",
    "        j = j.split(\" \")\n",
    "#         print(i)\n",
    "        intf_name=j[1]\n",
    "#         print(intf_name)\n",
    "        attr_list1=j[2:]\n",
    "        attr_list2=[]\n",
    "        for k in attr_list1:\n",
    "            k=k.replace(\"-\",\"\")\n",
    "            attr_list2.append(k)\n",
    "#             print(k)\n",
    "        \n",
    "#         print(attr_list1)\n",
    "#         print(attr_list2)\n",
    "        it = iter(attr_list2)\n",
    "        attr = dict(zip(it, it))\n",
    "#         print(b)\n",
    "        new_intf= dict({intf_name:attr})\n",
    "        new_intf_dict[intf_name]=attr\n",
    "#         print(new_intf)\n",
    "    print(new_intf_dict)\n",
    "    sanity_nodes[i]['interfaces']=new_intf_dict\n",
    "#     print()\n",
    "    print(\"\\n\\n\\n\")"
   ]
  },
  {
   "cell_type": "code",
   "execution_count": 46,
   "metadata": {
    "collapsed": true,
    "jupyter": {
     "outputs_hidden": true
    }
   },
   "outputs": [
    {
     "data": {
      "text/plain": [
       "{'params': \"-name sanity97-tor1 -mgmt_ip_addr 172.31.203.80 -mgmt_prf_len 21 -gateway_addr 172.31.200.1 -sup1_con_ipaddr 172.31.146.72 -sup1_con_port 2008 -sup2_con_ipaddr NA -sup2_con_port NA -user_name admin -password insieme -device_type sTOR -pdu_list [('172.31.151.0',2)] -pwr_cycle True -clear_console True -model Firestone\",\n",
       " 'modules': None,\n",
       " 'interfaces': {'Eth2/1': {'type': 'ethernet',\n",
       "   'speed': '40G',\n",
       "   'peer_device': 'node02',\n",
       "   'peer_interface': 'Eth2/1'},\n",
       "  'Eth2/12': {'type': 'ethernet',\n",
       "   'speed': '40G',\n",
       "   'peer_device': 'node02',\n",
       "   'peer_interface': 'Eth2/12'},\n",
       "  'Eth2/2': {'type': 'ethernet',\n",
       "   'speed': '40G',\n",
       "   'peer_device': 'node02',\n",
       "   'peer_interface': 'Eth2/2'},\n",
       "  'Eth1/2': {'type': 'ethernet',\n",
       "   'speed': '10G',\n",
       "   'peer_device': 'node03',\n",
       "   'peer_interface': 'Eth1/2'},\n",
       "  'Eth1/3': {'type': 'ethernet',\n",
       "   'speed': '10G',\n",
       "   'peer_device': 'node03',\n",
       "   'peer_interface': 'Eth1/3'},\n",
       "  'Eth1/10': {'type': 'ethernet',\n",
       "   'speed': '10G',\n",
       "   'peer_device': 'tgn',\n",
       "   'peer_interface': 'eth10'},\n",
       "  'Eth101/1/1': {'type': 'ethernet',\n",
       "   'speed': '10G',\n",
       "   'peer_device': 'node02',\n",
       "   'peer_interface': 'Eth1/2'},\n",
       "  'Eth101/1/2': {'type': 'ethernet',\n",
       "   'speed': '10G',\n",
       "   'peer_device': 'node03',\n",
       "   'peer_interface': 'Eth1/20'},\n",
       "  'Eth1/5/1': {'type': 'ethernet',\n",
       "   'speed': '10G',\n",
       "   'peer_device': 'tgn',\n",
       "   'peer_interface': 'eth3'},\n",
       "  'Eth1/5/2': {'type': 'ethernet',\n",
       "   'speed': '10G',\n",
       "   'peer_device': 'node04',\n",
       "   'peer_interface': 'Eth1/27'},\n",
       "  'Eth1/5/3': {'type': 'ethernet',\n",
       "   'speed': '40G',\n",
       "   'peer_device': 'node04',\n",
       "   'peer_interface': 'Eth2/9'},\n",
       "  'Eth1/5/4': {'type': 'ethernet',\n",
       "   'speed': '10G',\n",
       "   'peer_device': 'tgn',\n",
       "   'peer_interface': 'eth6'},\n",
       "  'Eth101/1/3': {'type': 'ethernet',\n",
       "   'speed': '10G',\n",
       "   'peer_device': 'node03',\n",
       "   'peer_interface': 'Eth2/1'},\n",
       "  'Eth101/1/4': {'type': 'ethernet',\n",
       "   'speed': '10G',\n",
       "   'peer_device': 'node03',\n",
       "   'peer_interface': 'Eth2/2'},\n",
       "  'Eth101/1/5': {'type': 'ethernet',\n",
       "   'speed': '1G',\n",
       "   'peer_device': 'tgn',\n",
       "   'peer_interface': 'eth8'},\n",
       "  'Eth101/1/6': {'type': 'ethernet',\n",
       "   'speed': '1G',\n",
       "   'peer_device': 'tgn',\n",
       "   'peer_interface': 'eth14'},\n",
       "  'Eth2/3': {'type': 'ethernet',\n",
       "   'speed': '40G',\n",
       "   'peer_device': 'node02',\n",
       "   'peer_interface': 'Eth2/3'},\n",
       "  'Eth1/15': {'type': 'ethernet',\n",
       "   'speed': '10G',\n",
       "   'peer_device': 'node02',\n",
       "   'peer_interface': 'Eth1/15'},\n",
       "  'Eth1/1': {'type': 'ethernet',\n",
       "   'speed': '10G',\n",
       "   'peer_device': 'node02',\n",
       "   'peer_interface': 'Eth1/1'},\n",
       "  'Eth1/8': {'type': 'ethernet',\n",
       "   'speed': '10G',\n",
       "   'peer_device': 'node02',\n",
       "   'peer_interface': 'Eth1/8'},\n",
       "  'Eth1/7': {'type': 'ethernet',\n",
       "   'speed': '10G',\n",
       "   'peer_device': 'tgn',\n",
       "   'peer_interface': 'eth12'},\n",
       "  'Eth2/4': {'type': 'ethernet',\n",
       "   'speed': '40G',\n",
       "   'peer_device': 'node02',\n",
       "   'peer_interface': 'Eth2/4'},\n",
       "  'Eth1/30': {'type': 'ethernet',\n",
       "   'speed': '1G',\n",
       "   'peer_device': 'node02',\n",
       "   'peer_interface': 'Eth1/30'},\n",
       "  'Eth1/17': {'type': 'ethernet',\n",
       "   'speed': '1G',\n",
       "   'peer_device': 'node02',\n",
       "   'peer_interface': 'Eth1/17'},\n",
       "  'Eth1/11': {'type': 'ethernet',\n",
       "   'speed': '10G',\n",
       "   'peer_device': 'node04',\n",
       "   'peer_interface': 'Eth1/28'},\n",
       "  'Eth1/12': {'type': 'ethernet',\n",
       "   'speed': '10G',\n",
       "   'peer_device': 'node04',\n",
       "   'peer_interface': 'Eth1/29'},\n",
       "  'Eth2/5': {'type': 'ethernet',\n",
       "   'speed': '40G',\n",
       "   'peer_device': 'node03',\n",
       "   'peer_interface': 'Eth1/29'},\n",
       "  'Eth2/6': {'type': 'ethernet',\n",
       "   'speed': '40G',\n",
       "   'peer_device': 'node04',\n",
       "   'peer_interface': 'Eth2/6'},\n",
       "  'Eth2/7': {'type': 'ethernet',\n",
       "   'speed': '40G',\n",
       "   'peer_device': 'node03',\n",
       "   'peer_interface': 'Eth1/30'},\n",
       "  'Eth1/13': {'type': 'ethernet',\n",
       "   'speed': '10G',\n",
       "   'peer_device': 'node03',\n",
       "   'peer_interface': 'Eth1/13'},\n",
       "  'Eth101/1/10': {'type': 'ethernet',\n",
       "   'speed': '10G',\n",
       "   'peer_device': 'node02',\n",
       "   'peer_interface': 'Eth1/46'},\n",
       "  'Eth1/14': {'type': 'ethernet',\n",
       "   'speed': '10G',\n",
       "   'peer_device': 'node03',\n",
       "   'peer_interface': 'Eth1/14'},\n",
       "  'Eth1/26': {'type': 'ethernet',\n",
       "   'speed': '10G',\n",
       "   'peer_device': 'node05',\n",
       "   'peer_interface': 'Eth1/26'},\n",
       "  'Eth1/27': {'type': 'ethernet',\n",
       "   'speed': '10G',\n",
       "   'peer_device': 'node05',\n",
       "   'peer_interface': 'Eth1/27'},\n",
       "  'Eth1/28': {'type': 'ethernet',\n",
       "   'speed': '10G',\n",
       "   'peer_device': 'node05',\n",
       "   'peer_interface': 'Eth1/28'},\n",
       "  'Eth1/29': {'type': 'ethernet',\n",
       "   'speed': '10G',\n",
       "   'peer_device': 'node05',\n",
       "   'peer_interface': 'Eth1/29'},\n",
       "  'Eth1/16': {'type': 'ethernet',\n",
       "   'speed': '1G',\n",
       "   'peer_device': 'node02',\n",
       "   'peer_interface': 'Eth1/16'},\n",
       "  'Eth1/4': {'type': 'ethernet',\n",
       "   'speed': '10G',\n",
       "   'peer_device': 'tgn',\n",
       "   'peer_interface': 'eth9'},\n",
       "  'Eth1/6': {'type': 'ethernet',\n",
       "   'speed': '10G',\n",
       "   'peer_device': 'tgn',\n",
       "   'peer_interface': 'eth11'},\n",
       "  'Eth102/1/7': {'type': 'ethernet',\n",
       "   'speed': '1G',\n",
       "   'peer_device': 'tgn',\n",
       "   'peer_interface': 'eth15'},\n",
       "  'Eth102/1/8': {'type': 'ethernet',\n",
       "   'speed': '1G',\n",
       "   'peer_device': 'tgn',\n",
       "   'peer_interface': 'eth16'}}}"
      ]
     },
     "execution_count": 46,
     "metadata": {},
     "output_type": "execute_result"
    }
   ],
   "source": [
    "sanity_nodes[\"node01\"]"
   ]
  },
  {
   "cell_type": "raw",
   "metadata": {},
   "source": [
    "NODE FORMAT IN JSON\n",
    "{\"label\": \"00:00:44:44:30:01\", \"id\": \"00:00:44:44:30:01\", \"color\": \"#fbf891\", \"attributes\": {\"type\": \"0x800\", \"IP src\": \"172.17.1.1\", \"dst\": \"172.17.2.1\"}, \"channel\": \"eth4\", \"x\": 2100, \"y\": -3658, \"size\": 202}\n",
    "\n",
    "{\"label\": \"node03\", \"id\": \"node03\", \"color\": \"#fbf891\", \"attributes\": {\"type\": \"0x800\", \"IP src\": \"172.17.1.1\", \"dst\": \"172.17.2.1\"}, \"channel\": \"eth4\", \"x\": 2100, \"y\": -3658, \"size\": 202}"
   ]
  },
  {
   "cell_type": "code",
   "execution_count": 40,
   "metadata": {},
   "outputs": [
    {
     "name": "stdout",
     "output_type": "stream",
     "text": [
      "{'label': 'node02-Eth2/1', 'id': 'node02-Eth2/1', 'color': '#a8d64b', 'attributes': {}, 'channel': None, 'x': 3077, 'y': 2569, 'size': 439}\n",
      "{'label': 'node02-Eth2/12', 'id': 'node02-Eth2/12', 'color': '#81c8c5', 'attributes': {}, 'channel': None, 'x': 2435, 'y': 3646, 'size': 434}\n",
      "{'label': 'node02-Eth2/2', 'id': 'node02-Eth2/2', 'color': '#82b0db', 'attributes': {}, 'channel': None, 'x': -3126, 'y': -3188, 'size': 412}\n",
      "{'label': 'node03-Eth1/2', 'id': 'node03-Eth1/2', 'color': '#64a651', 'attributes': {}, 'channel': None, 'x': -1582, 'y': 3746, 'size': 489}\n",
      "{'label': 'node03-Eth1/3', 'id': 'node03-Eth1/3', 'color': '#392327', 'attributes': {}, 'channel': None, 'x': -1231, 'y': 2068, 'size': 466}\n",
      "{'label': 'tgn-eth10', 'id': 'tgn-eth10', 'color': '#c19f77', 'attributes': {}, 'channel': None, 'x': 1612, 'y': 1538, 'size': 473}\n",
      "{'label': 'node02-Eth1/2', 'id': 'node02-Eth1/2', 'color': '#31a937', 'attributes': {}, 'channel': None, 'x': 339, 'y': -2372, 'size': 428}\n",
      "{'label': 'node03-Eth1/20', 'id': 'node03-Eth1/20', 'color': '#264a23', 'attributes': {}, 'channel': None, 'x': -1103, 'y': 3723, 'size': 487}\n",
      "{'label': 'tgn-eth3', 'id': 'tgn-eth3', 'color': '#aef94c', 'attributes': {}, 'channel': None, 'x': -3272, 'y': -2115, 'size': 455}\n",
      "{'label': 'node04-Eth1/27', 'id': 'node04-Eth1/27', 'color': '#2b33a3', 'attributes': {}, 'channel': None, 'x': 469, 'y': 2921, 'size': 352}\n",
      "{'label': 'node04-Eth2/9', 'id': 'node04-Eth2/9', 'color': '#fea488', 'attributes': {}, 'channel': None, 'x': 3615, 'y': 1483, 'size': 473}\n",
      "{'label': 'tgn-eth6', 'id': 'tgn-eth6', 'color': '#40d8af', 'attributes': {}, 'channel': None, 'x': 923, 'y': 1858, 'size': 467}\n",
      "{'label': 'node03-Eth2/1', 'id': 'node03-Eth2/1', 'color': '#9ba26f', 'attributes': {}, 'channel': None, 'x': 2145, 'y': 2005, 'size': 351}\n",
      "{'label': 'node03-Eth2/2', 'id': 'node03-Eth2/2', 'color': '#466b1b', 'attributes': {}, 'channel': None, 'x': 469, 'y': 1550, 'size': 328}\n",
      "{'label': 'tgn-eth8', 'id': 'tgn-eth8', 'color': '#1282d4', 'attributes': {}, 'channel': None, 'x': 2041, 'y': 1400, 'size': 367}\n",
      "{'label': 'tgn-eth14', 'id': 'tgn-eth14', 'color': '#01aeb1', 'attributes': {}, 'channel': None, 'x': 3005, 'y': 2511, 'size': 372}\n",
      "{'label': 'node02-Eth2/3', 'id': 'node02-Eth2/3', 'color': '#660084', 'attributes': {}, 'channel': None, 'x': 2954, 'y': 1184, 'size': 372}\n",
      "{'label': 'node02-Eth1/15', 'id': 'node02-Eth1/15', 'color': '#768221', 'attributes': {}, 'channel': None, 'x': -2842, 'y': -393, 'size': 371}\n",
      "{'label': 'node02-Eth1/1', 'id': 'node02-Eth1/1', 'color': '#7b25b0', 'attributes': {}, 'channel': None, 'x': 2758, 'y': 3465, 'size': 316}\n",
      "{'label': 'node02-Eth1/8', 'id': 'node02-Eth1/8', 'color': '#007882', 'attributes': {}, 'channel': None, 'x': -1087, 'y': -2758, 'size': 441}\n",
      "{'label': 'tgn-eth12', 'id': 'tgn-eth12', 'color': '#b1def7', 'attributes': {}, 'channel': None, 'x': -709, 'y': 1481, 'size': 463}\n",
      "{'label': 'node02-Eth2/4', 'id': 'node02-Eth2/4', 'color': '#2e3a4e', 'attributes': {}, 'channel': None, 'x': 545, 'y': -2351, 'size': 427}\n",
      "{'label': 'node02-Eth1/30', 'id': 'node02-Eth1/30', 'color': '#01f160', 'attributes': {}, 'channel': None, 'x': 3333, 'y': -3367, 'size': 306}\n",
      "{'label': 'node02-Eth1/17', 'id': 'node02-Eth1/17', 'color': '#8de116', 'attributes': {}, 'channel': None, 'x': -2730, 'y': -467, 'size': 353}\n",
      "{'label': 'node04-Eth1/28', 'id': 'node04-Eth1/28', 'color': '#36b146', 'attributes': {}, 'channel': None, 'x': 2763, 'y': 2016, 'size': 344}\n",
      "{'label': 'node04-Eth1/29', 'id': 'node04-Eth1/29', 'color': '#cf6074', 'attributes': {}, 'channel': None, 'x': 835, 'y': -184, 'size': 325}\n",
      "{'label': 'node03-Eth1/29', 'id': 'node03-Eth1/29', 'color': '#580cf6', 'attributes': {}, 'channel': None, 'x': 1166, 'y': -2100, 'size': 358}\n",
      "{'label': 'node04-Eth2/6', 'id': 'node04-Eth2/6', 'color': '#d92a39', 'attributes': {}, 'channel': None, 'x': 1354, 'y': 1293, 'size': 420}\n",
      "{'label': 'node03-Eth1/30', 'id': 'node03-Eth1/30', 'color': '#a32962', 'attributes': {}, 'channel': None, 'x': -2242, 'y': 3164, 'size': 384}\n",
      "{'label': 'node03-Eth1/13', 'id': 'node03-Eth1/13', 'color': '#2be79e', 'attributes': {}, 'channel': None, 'x': 2806, 'y': -1702, 'size': 443}\n",
      "{'label': 'node02-Eth1/46', 'id': 'node02-Eth1/46', 'color': '#8daacc', 'attributes': {}, 'channel': None, 'x': 535, 'y': -1351, 'size': 377}\n",
      "{'label': 'node03-Eth1/14', 'id': 'node03-Eth1/14', 'color': '#29c5d4', 'attributes': {}, 'channel': None, 'x': -1962, 'y': -3395, 'size': 362}\n",
      "{'label': 'node05-Eth1/26', 'id': 'node05-Eth1/26', 'color': '#0cd3dd', 'attributes': {}, 'channel': None, 'x': -3472, 'y': 1373, 'size': 399}\n",
      "{'label': 'node05-Eth1/27', 'id': 'node05-Eth1/27', 'color': '#cd8c42', 'attributes': {}, 'channel': None, 'x': 1655, 'y': 3071, 'size': 441}\n",
      "{'label': 'node05-Eth1/28', 'id': 'node05-Eth1/28', 'color': '#5ae9f5', 'attributes': {}, 'channel': None, 'x': -1234, 'y': 3320, 'size': 461}\n",
      "{'label': 'node05-Eth1/29', 'id': 'node05-Eth1/29', 'color': '#7e003f', 'attributes': {}, 'channel': None, 'x': 889, 'y': -904, 'size': 381}\n",
      "{'label': 'node02-Eth1/16', 'id': 'node02-Eth1/16', 'color': '#8d26e7', 'attributes': {}, 'channel': None, 'x': 3837, 'y': 3097, 'size': 327}\n",
      "{'label': 'tgn-eth9', 'id': 'tgn-eth9', 'color': '#54e776', 'attributes': {}, 'channel': None, 'x': 1934, 'y': -3766, 'size': 392}\n",
      "{'label': 'tgn-eth11', 'id': 'tgn-eth11', 'color': '#8169c1', 'attributes': {}, 'channel': None, 'x': 2691, 'y': -3984, 'size': 495}\n",
      "{'label': 'tgn-eth15', 'id': 'tgn-eth15', 'color': '#766b30', 'attributes': {}, 'channel': None, 'x': 2216, 'y': -3199, 'size': 419}\n",
      "{'label': 'tgn-eth16', 'id': 'tgn-eth16', 'color': '#c2c51f', 'attributes': {}, 'channel': None, 'x': 736, 'y': -1011, 'size': 335}\n"
     ]
    }
   ],
   "source": [
    "# INTF_GEN\n",
    "#    'peer_device': 'node02',\n",
    "#    'peer_interface': 'Eth2/1'},\n",
    "\n",
    "for i in sanity_nodes[\"node01\"][\"interfaces\"]:\n",
    "    curr_intf = i  # ie Eth2/1\n",
    "    #     print(curr_intf)\n",
    "    peer = (\n",
    "        sanity_nodes[\"node01\"][\"interfaces\"][i][\"peer_device\"]\n",
    "        + \"-\"\n",
    "        + sanity_nodes[\"node01\"][\"interfaces\"][i][\"peer_interface\"]\n",
    "    )  # ie node02-Eth2/1\n",
    "    #     print(peer) # node02-Eth2/1\n",
    "\n",
    "    node = {}\n",
    "    edge = {}\n",
    "    node_attr = {}\n",
    "    edge_attr = {}\n",
    "\n",
    "    #     node_attr = sanity_nodes[i]\n",
    "\n",
    "    node[\"label\"] = str(peer)\n",
    "    node[\"id\"] = str(peer)\n",
    "    node[\"color\".replace(\"'\", '\"')] = \"#\" + \"%06x\" % random.randint(0, 0xFFFFFF)\n",
    "    node[\"attributes\"] = node_attr\n",
    "    node[\"channel\"] = None\n",
    "    node[\"x\"] = random.randint(-4000, 4000)\n",
    "    node[\"y\"] = random.randint(-4000, 4000)\n",
    "    node[\"size\"] = random.randint(300, 500)\n",
    "    print(node)"
   ]
  },
  {
   "cell_type": "code",
   "execution_count": 23,
   "metadata": {},
   "outputs": [
    {
     "name": "stdout",
     "output_type": "stream",
     "text": [
      "{'label': 'node01', 'id': 'node01', 'color': '#8d9634', 'attributes': {'params': \"-name sanity97-tor1 -mgmt_ip_addr 172.31.203.80 -mgmt_prf_len 21 -gateway_addr 172.31.200.1 -sup1_con_ipaddr 172.31.146.72 -sup1_con_port 2008 -sup2_con_ipaddr NA -sup2_con_port NA -user_name admin -password insieme -device_type sTOR -pdu_list [('172.31.151.0',2)] -pwr_cycle True -clear_console True -model Firestone\", 'modules': None, 'interfaces': {'Eth2/1': {'type': 'ethernet', 'speed': '40G', 'peer_device': 'node02', 'peer_interface': 'Eth2/1'}, 'Eth2/12': {'type': 'ethernet', 'speed': '40G', 'peer_device': 'node02', 'peer_interface': 'Eth2/12'}, 'Eth2/2': {'type': 'ethernet', 'speed': '40G', 'peer_device': 'node02', 'peer_interface': 'Eth2/2'}, 'Eth1/2': {'type': 'ethernet', 'speed': '10G', 'peer_device': 'node03', 'peer_interface': 'Eth1/2'}, 'Eth1/3': {'type': 'ethernet', 'speed': '10G', 'peer_device': 'node03', 'peer_interface': 'Eth1/3'}, 'Eth1/10': {'type': 'ethernet', 'speed': '10G', 'peer_device': 'tgn', 'peer_interface': 'eth10'}, 'Eth101/1/1': {'type': 'ethernet', 'speed': '10G', 'peer_device': 'node02', 'peer_interface': 'Eth1/2'}, 'Eth101/1/2': {'type': 'ethernet', 'speed': '10G', 'peer_device': 'node03', 'peer_interface': 'Eth1/20'}, 'Eth1/5/1': {'type': 'ethernet', 'speed': '10G', 'peer_device': 'tgn', 'peer_interface': 'eth3'}, 'Eth1/5/2': {'type': 'ethernet', 'speed': '10G', 'peer_device': 'node04', 'peer_interface': 'Eth1/27'}, 'Eth1/5/3': {'type': 'ethernet', 'speed': '40G', 'peer_device': 'node04', 'peer_interface': 'Eth2/9'}, 'Eth1/5/4': {'type': 'ethernet', 'speed': '10G', 'peer_device': 'tgn', 'peer_interface': 'eth6'}, 'Eth101/1/3': {'type': 'ethernet', 'speed': '10G', 'peer_device': 'node03', 'peer_interface': 'Eth2/1'}, 'Eth101/1/4': {'type': 'ethernet', 'speed': '10G', 'peer_device': 'node03', 'peer_interface': 'Eth2/2'}, 'Eth101/1/5': {'type': 'ethernet', 'speed': '1G', 'peer_device': 'tgn', 'peer_interface': 'eth8'}, 'Eth101/1/6': {'type': 'ethernet', 'speed': '1G', 'peer_device': 'tgn', 'peer_interface': 'eth14'}, 'Eth2/3': {'type': 'ethernet', 'speed': '40G', 'peer_device': 'node02', 'peer_interface': 'Eth2/3'}, 'Eth1/15': {'type': 'ethernet', 'speed': '10G', 'peer_device': 'node02', 'peer_interface': 'Eth1/15'}, 'Eth1/1': {'type': 'ethernet', 'speed': '10G', 'peer_device': 'node02', 'peer_interface': 'Eth1/1'}, 'Eth1/8': {'type': 'ethernet', 'speed': '10G', 'peer_device': 'node02', 'peer_interface': 'Eth1/8'}, 'Eth1/7': {'type': 'ethernet', 'speed': '10G', 'peer_device': 'tgn', 'peer_interface': 'eth12'}, 'Eth2/4': {'type': 'ethernet', 'speed': '40G', 'peer_device': 'node02', 'peer_interface': 'Eth2/4'}, 'Eth1/30': {'type': 'ethernet', 'speed': '1G', 'peer_device': 'node02', 'peer_interface': 'Eth1/30'}, 'Eth1/17': {'type': 'ethernet', 'speed': '1G', 'peer_device': 'node02', 'peer_interface': 'Eth1/17'}, 'Eth1/11': {'type': 'ethernet', 'speed': '10G', 'peer_device': 'node04', 'peer_interface': 'Eth1/28'}, 'Eth1/12': {'type': 'ethernet', 'speed': '10G', 'peer_device': 'node04', 'peer_interface': 'Eth1/29'}, 'Eth2/5': {'type': 'ethernet', 'speed': '40G', 'peer_device': 'node03', 'peer_interface': 'Eth1/29'}, 'Eth2/6': {'type': 'ethernet', 'speed': '40G', 'peer_device': 'node04', 'peer_interface': 'Eth2/6'}, 'Eth2/7': {'type': 'ethernet', 'speed': '40G', 'peer_device': 'node03', 'peer_interface': 'Eth1/30'}, 'Eth1/13': {'type': 'ethernet', 'speed': '10G', 'peer_device': 'node03', 'peer_interface': 'Eth1/13'}, 'Eth101/1/10': {'type': 'ethernet', 'speed': '10G', 'peer_device': 'node02', 'peer_interface': 'Eth1/46'}, 'Eth1/14': {'type': 'ethernet', 'speed': '10G', 'peer_device': 'node03', 'peer_interface': 'Eth1/14'}, 'Eth1/26': {'type': 'ethernet', 'speed': '10G', 'peer_device': 'node05', 'peer_interface': 'Eth1/26'}, 'Eth1/27': {'type': 'ethernet', 'speed': '10G', 'peer_device': 'node05', 'peer_interface': 'Eth1/27'}, 'Eth1/28': {'type': 'ethernet', 'speed': '10G', 'peer_device': 'node05', 'peer_interface': 'Eth1/28'}, 'Eth1/29': {'type': 'ethernet', 'speed': '10G', 'peer_device': 'node05', 'peer_interface': 'Eth1/29'}, 'Eth1/16': {'type': 'ethernet', 'speed': '1G', 'peer_device': 'node02', 'peer_interface': 'Eth1/16'}, 'Eth1/4': {'type': 'ethernet', 'speed': '10G', 'peer_device': 'tgn', 'peer_interface': 'eth9'}, 'Eth1/6': {'type': 'ethernet', 'speed': '10G', 'peer_device': 'tgn', 'peer_interface': 'eth11'}, 'Eth102/1/7': {'type': 'ethernet', 'speed': '1G', 'peer_device': 'tgn', 'peer_interface': 'eth15'}, 'Eth102/1/8': {'type': 'ethernet', 'speed': '1G', 'peer_device': 'tgn', 'peer_interface': 'eth16'}}}, 'channel': None, 'x': 9, 'y': -2589, 'size': 390}\n",
      "{'label': 'node02', 'id': 'node02', 'color': '#cd44da', 'attributes': {'params': \"-name sanity97-tor2 -mgmt_ip_addr 172.31.203.81 -mgmt_prf_len 21 -gateway_addr 172.31.200.1 -sup1_con_ipaddr 172.31.146.72 -sup1_con_port 2007 -sup2_con_ipaddr NA -sup2_con_port NA -user_name admin -password insieme -device_type sTOR -pdu_list [('172.31.151.0',1)] -pwr_cycle True -clear_console True -model Firestone\", 'modules': None, 'interfaces': {'Eth2/1': {'type': 'ethernet', 'speed': '40G', 'peer_device': 'node01', 'peer_interface': 'Eth2/1'}, 'Eth2/12': {'type': 'ethernet', 'speed': '40G', 'peer_device': 'node01', 'peer_interface': 'Eth2/12'}, 'Eth2/2': {'type': 'ethernet', 'speed': '40G', 'peer_device': 'node01', 'peer_interface': 'Eth2/2'}, 'Eth2/6': {'type': 'ethernet', 'speed': '10G', 'peer_device': 'node03', 'peer_interface': 'Eth1/16'}, 'Eth2/7': {'type': 'ethernet', 'speed': '10G', 'peer_device': 'node03', 'peer_interface': 'Eth1/17'}, 'Eth1/2': {'type': 'ethernet', 'speed': '10G', 'peer_device': 'node01', 'peer_interface': 'Eth101/1/1'}, 'Eth1/5/2': {'type': 'ethernet', 'speed': '10G', 'peer_device': 'tgn', 'peer_interface': 'eth1'}, 'Eth1/5/1': {'type': 'ethernet', 'speed': '10G', 'peer_device': 'tgn', 'peer_interface': 'eth7'}, 'Eth151/1/2': {'type': 'ethernet', 'speed': '10G', 'peer_device': 'node03', 'peer_interface': 'Eth1/5/2'}, 'Eth151/1/3': {'type': 'ethernet', 'speed': '10G', 'peer_device': 'node03', 'peer_interface': 'Eth1/5/3'}, 'Eth2/3': {'type': 'ethernet', 'speed': '40G', 'peer_device': 'node01', 'peer_interface': 'Eth2/3'}, 'Eth1/15': {'type': 'ethernet', 'speed': '10G', 'peer_device': 'node01', 'peer_interface': 'Eth1/15'}, 'Eth1/1': {'type': 'ethernet', 'speed': '10G', 'peer_device': 'node01', 'peer_interface': 'Eth1/1'}, 'Eth1/8': {'type': 'ethernet', 'speed': '10G', 'peer_device': 'node01', 'peer_interface': 'Eth1/8'}, 'Eth1/7': {'type': 'ethernet', 'speed': '10G', 'peer_device': 'node01', 'peer_interface': 'Eth1/7'}, 'Eth2/4': {'type': 'ethernet', 'speed': '40G', 'peer_device': 'node01', 'peer_interface': 'Eth2/4'}, 'Eth1/30': {'type': 'ethernet', 'speed': '1G', 'peer_device': 'node01', 'peer_interface': 'Eth1/30'}, 'Eth1/17': {'type': 'ethernet', 'speed': '1G', 'peer_device': 'node01', 'peer_interface': 'Eth1/17'}, 'Eth1/46': {'type': 'ethernet', 'speed': '10G', 'peer_device': 'node01', 'peer_interface': 'Eth101/1/10'}, 'Eth2/10': {'type': 'ethernet', 'speed': '40G', 'peer_device': 'node03', 'peer_interface': 'Eth1/20'}, 'Eth1/10': {'type': 'ethernet', 'speed': '10G', 'peer_device': 'node05', 'peer_interface': 'Eth1/5'}, 'Eth1/20': {'type': 'ethernet', 'speed': '10G', 'peer_device': 'node05', 'peer_interface': 'Eth1/20'}, 'Eth1/16': {'type': 'ethernet', 'speed': '1G', 'peer_device': 'node01', 'peer_interface': 'Eth1/16'}, 'Eth2/8': {'type': 'ethernet', 'speed': '10G', 'peer_device': 'node03', 'peer_interface': 'Eth1/18'}, 'Eth2/9': {'type': 'ethernet', 'speed': '10G', 'peer_device': 'node03', 'peer_interface': 'Eth1/19'}}}, 'channel': None, 'x': 210, 'y': -48, 'size': 485}\n",
      "{'label': 'node03', 'id': 'node03', 'color': '#9fc304', 'attributes': {'params': '-name sanity97-node03 -mgmt_ip_addr 172.31.203.82 -mgmt_prf_len 21 -gateway_addr 172.31.200.1 -sup1_con_ipaddr NA -sup1_con_port NA -sup2_con_ipaddr NA -sup2_con_port NA -user_name admin -password insieme -device_type N3K -clear_console True -model fanout', 'modules': None, 'interfaces': {'Eth1/2': {'type': 'ethernet', 'speed': '10G', 'peer_device': 'node01', 'peer_interface': 'Eth1/2'}, 'Eth1/3': {'type': 'ethernet', 'speed': '10G', 'peer_device': 'node01', 'peer_interface': 'Eth1/3'}, 'Eth1/10': {'type': 'ethernet', 'speed': '10G', 'peer_device': 'node01', 'peer_interface': 'Eth1/5'}, 'Eth1/16': {'type': 'ethernet', 'speed': '10G', 'peer_device': 'node04', 'peer_interface': 'Eth1/17'}, 'Eth1/17': {'type': 'ethernet', 'speed': '10G', 'peer_device': 'node02', 'peer_interface': 'Eth2/7'}, 'Eth1/20': {'type': 'ethernet', 'speed': '40G', 'peer_device': 'node02', 'peer_interface': 'Eth2/10'}, 'Eth1/1/1': {'type': 'ethernet', 'speed': '10G', 'peer_device': 'tgn', 'peer_interface': 'eth2'}, 'Eth2/1': {'type': 'ethernet', 'speed': '10G', 'peer_device': 'node01', 'peer_interface': 'Eth101/1/3'}, 'Eth2/2': {'type': 'ethernet', 'speed': '10G', 'peer_device': 'node01', 'peer_interface': 'Eth101/1/4'}, 'Eth1/5/2': {'type': 'ethernet', 'speed': '10G', 'peer_device': 'node02', 'peer_interface': 'Eth151/1/2'}, 'Eth1/5/3': {'type': 'ethernet', 'speed': '10G', 'peer_device': 'node02', 'peer_interface': 'Eth151/1/3'}, 'Eth1/26': {'type': 'ethernet', 'speed': '10G', 'peer_device': 'node04', 'peer_interface': 'Eth1/30'}, 'Eth1/27': {'type': 'ethernet', 'speed': '10G', 'peer_device': 'node04', 'peer_interface': 'Eth1/16'}, 'Eth1/29': {'type': 'ethernet', 'speed': '40G', 'peer_device': 'node01', 'peer_interface': 'Eth2/5'}, 'Eth1/30': {'type': 'ethernet', 'speed': '40G', 'peer_device': 'node01', 'peer_interface': 'Eth2/7'}, 'Eth1/102': {'type': 'ethernet', 'speed': '40G', 'peer_device': 'node04', 'peer_interface': 'Eth2/1'}, 'Eth1/13': {'type': 'ethernet', 'speed': '10G', 'peer_device': 'node01', 'peer_interface': 'Eth1/13'}, 'Eth1/14': {'type': 'ethernet', 'speed': '10G', 'peer_device': 'node01', 'peer_interface': 'Eth1/14'}, 'Eth1/18': {'type': 'ethernet', 'speed': '10G', 'peer_device': 'node02', 'peer_interface': 'Eth2/8'}, 'Eth1/19': {'type': 'ethernet', 'speed': '10G', 'peer_device': 'node02', 'peer_interface': 'Eth2/9'}}}, 'channel': None, 'x': 2959, 'y': 1409, 'size': 228}\n",
      "{'label': 'tgn', 'id': 'tgn', 'color': '#96b82d', 'attributes': {'params': '-name tgn -mgmt_ip_addr 172.31.201.110 -mgmt_prf_len 21 -gateway_addr 172.31.200.1 -sup1_con_ipaddr NA -sup1_con_port NA -sup2_con_ipaddr NA -sup2_con_port NA -user_name admin -password nbv_12345 -clear_console True -device_type itgen', 'interfaces': {'eth3': {'type': 'ethernet', 'speed': '10G', 'peer_device': 'node01', 'peer_interface': 'Eth1/5/1', 'itgen_peer_connections': 'node01:Eth1/5/1'}, 'eth4': {'type': 'ethernet', 'speed': '10G', 'peer_device': 'node01', 'peer_interface': 'Eth1/5/2', 'itgen_peer_connections': 'node01:Eth1/5/2'}, 'eth2': {'type': 'ethernet', 'speed': '10G', 'peer_device': 'node03', 'peer_interface': 'Eth1/1/1'}, 'eth1': {'type': 'ethernet', 'speed': '10G', 'peer_device': 'node02', 'peer_interface': 'Eth1/5/2', 'itgen_peer_connections': 'node02:Eth1/10,node01:Po100'}}}, 'channel': None, 'x': 2972, 'y': 286, 'size': 171}\n"
     ]
    }
   ],
   "source": [
    "# NODE_GEN\n",
    "\n",
    "for i in sanity_nodes.keys():\n",
    "    node = {}\n",
    "    edge = {}\n",
    "    node_attr = {}\n",
    "    edge_attr = {}\n",
    "\n",
    "    node_attr = sanity_nodes[i]\n",
    "\n",
    "    node[\"label\"] = str(i)\n",
    "    node[\"id\"] = str(i)\n",
    "    node[\"color\".replace(\"'\", '\"')] = \"#\" + \"%06x\" % random.randint(0, 0xFFFFFF)\n",
    "    node[\"attributes\"] = node_attr\n",
    "    node[\"channel\"] = None\n",
    "    node[\"x\"] = random.randint(-4000, 4000)\n",
    "    node[\"y\"] = random.randint(-4000, 4000)\n",
    "    node[\"size\"] = random.randint(100, 500)\n",
    "    print(node)\n",
    "    # edge[\"source\"] = spl[1]# edge['target'] = spl[1]# edge['id'] = 'e' + str(i)# edge['weight'] = random.randint(20, 200)# edge['label'] = ''"
   ]
  },
  {
   "cell_type": "code",
   "execution_count": null,
   "metadata": {},
   "outputs": [],
   "source": []
  },
  {
   "cell_type": "markdown",
   "metadata": {},
   "source": [
    "**========================================**\n",
    "**========================================**\n",
    "**========================================**\n",
    "**========================================**\n",
    "**========================================**\n",
    "**========================================**\n",
    "###========================================\n",
    "###========================================"
   ]
  },
  {
   "cell_type": "raw",
   "metadata": {},
   "source": [
    "GET ETH INFO FROM traffic_profile_pretty.yml\n",
    "remember which profile used for traffic_run ie profile_l2_sanity\n",
    "\n",
    "check if profile existing, else recreate"
   ]
  },
  {
   "cell_type": "raw",
   "metadata": {},
   "source": [
    "# create \n",
    "\n",
    "sed -n '/profile_l2_sanity/,/profile/p' sanity97-testbed.yml > traffic_profile.yml \n",
    "\n",
    "# if empty check logical dict\n",
    "sed -n '/profile_l2_sanity/,/profile/p' logical_dict.yml > traffic_profile.yml \n",
    "\n",
    "# else node info unavailable, exit\n",
    "\n",
    "\n",
    "# cut out last line of profile\n",
    "sed -e '$ d' traffic_profile.yml > traffic_profile_2.yml\n",
    "\n",
    "\n",
    "# parse nodedict from sanity97-testbed.yml "
   ]
  },
  {
   "cell_type": "code",
   "execution_count": null,
   "metadata": {},
   "outputs": [],
   "source": []
  },
  {
   "cell_type": "code",
   "execution_count": 11,
   "metadata": {},
   "outputs": [
    {
     "data": {
      "text/plain": [
       "\"sed -n '/profile_l2_sanity/,/profile/p' sanity97-testbed.yml > old_profile.yml && sed -e '$ d' old_profile.yml > new_profile.yml\""
      ]
     },
     "execution_count": 11,
     "metadata": {},
     "output_type": "execute_result"
    }
   ],
   "source": [
    "    p1='profile_l2_sanity'\n",
    "    p2='profile_vxlan_access'\n",
    "    curr_tb = 'sanity97-testbed.yml'\n",
    "    old_profile= 'old_profile.yml'\n",
    "    new_profile = 'new_profile.yml'\n",
    "\n",
    "# create new traffic profile\n",
    "cmd_prof_find = \"sed -n '/\"+p1+\"/,/profile/p' \" + curr_tb + ' > '+old_profile + \" && sed -e '$ d' \"+old_profile+\" > \"+new_profile\n",
    "cmd_prof_find\n",
    "\n",
    "# \n",
    "cmd_exist_prof = \"ag -g '\"+p1+\".yml' > res.txt\"\n",
    "cmd_exist_prof\n",
    "\n",
    "# \n",
    "cmd_file_size = \"wc -l < res.txt\"\n",
    "cmd_file_size\n",
    "\n",
    "cmd_prof_find"
   ]
  },
  {
   "cell_type": "code",
   "execution_count": 12,
   "metadata": {},
   "outputs": [
    {
     "name": "stdout",
     "output_type": "stream",
     "text": [
      "\n"
     ]
    }
   ],
   "source": [
    "    cmd = \"cat out2 | wc -l\"  \n",
    "    pop_res = subprocess.Popen(cmd_prof_find,shell=True,stdout=subprocess.PIPE,stderr=subprocess.STDOUT)\n",
    "    output = pop_res.communicate()[0]\n",
    "    output = output.decode('ASCII').rstrip(os.linesep)\n",
    "    print(output)"
   ]
  },
  {
   "cell_type": "markdown",
   "metadata": {},
   "source": [
    "**========================================**\n",
    "**========================================**\n",
    "**========================================**\n",
    "**========================================**\n",
    "**========================================**\n",
    "**========================================**\n",
    "###========================================\n",
    "###========================================"
   ]
  },
  {
   "cell_type": "raw",
   "metadata": {},
   "source": [
    "with open(\"traffic_profile_pretty.yml\", 'r') as stream:\n",
    "    try:\n",
    "        parsed_yml = yaml.safe_load(stream)\n",
    "        #print(yaml.safe_load(stream))\n",
    "    except yaml.YAMLError as exc:\n",
    "        print(exc)"
   ]
  },
  {
   "cell_type": "raw",
   "metadata": {},
   "source": [
    "yml_dic = parsed_yml['profile_l2_sanity']['peer_interface_dict']\n",
    "yml_dic"
   ]
  },
  {
   "cell_type": "raw",
   "metadata": {},
   "source": [
    "for keys in yml_dic:\n",
    "    print(keys)"
   ]
  },
  {
   "cell_type": "raw",
   "metadata": {},
   "source": [
    "**Example peer_interface_dict**  \n",
    "interface1: -name eth3 -type ethernet -speed 10G -peer_device node01 -peer_interface nd1_tgn3 -itgen_peer_connections node01:nd1_tgn3"
   ]
  },
  {
   "cell_type": "raw",
   "metadata": {},
   "source": [
    "# store eth info here\n",
    "eth_info_dict={}\n",
    "eth_info_dict[curr_eth]={}\n",
    "eth_info_dict[curr_eth].update({v:w})\n",
    "eth_info_dict[curr_eth][v].update({it[0]:it[1]})\n",
    "eth_info_dict['eth3']\n",
    "eth_info_dict['eth3']={'type':'ethernet'}\n",
    "eth_info_dict['eth3'].update({'a':'b'})"
   ]
  },
  {
   "cell_type": "raw",
   "metadata": {},
   "source": [
    "for key in yml_dic:\n",
    "    node_inf = yml_dic[key].split()\n",
    "    print(node_inf)\n",
    "    curr_eth=str(node_inf[1])\n",
    "    eth_info_dict[curr_eth]={}\n",
    "    i=0\n",
    "    for v, w in zip(node_inf, node_inf[1:]):\n",
    "        if i%2==0: # avoid zip reuse\n",
    "            v= v.replace(\"-\",\"\")\n",
    "            if v != 'name' and v!= 'itgen_peer_connections':\n",
    "                eth_info_dict[curr_eth].update({v:w})\n",
    "            print({v:w})\n",
    "            # insert into eth_info_dict\n",
    "#             eth_info_dict.update({v:w})\n",
    "            if 'itgen_peer_connections' in v:\n",
    "                if len(w.split(','))>1:\n",
    "                    it_con = w.split(',')\n",
    "                    for x in it_con:\n",
    "                        it = x.split(':')\n",
    "                        d = dict([(it[0], it[1])])\n",
    "                        print(d)\n",
    "                        eth_info_dict[curr_eth].update({v:d})\n",
    "                else:\n",
    "                    it = w.split(':')\n",
    "                    d = dict([(it[0], it[1])])\n",
    "                    eth_info_dict[curr_eth][v]={}\n",
    "                    eth_info_dict[curr_eth][v].update({it[0]:it[1]})\n",
    "\n",
    "        i+=1    \n",
    "\n"
   ]
  },
  {
   "cell_type": "raw",
   "metadata": {},
   "source": [
    "eth_info_dict"
   ]
  },
  {
   "cell_type": "raw",
   "metadata": {},
   "source": [
    "eth_info_dict['eth3']\n",
    "eth_info_dict['eth3']={'type':'ethernet'}\n",
    "eth_info_dict['eth3'].update({'a':'b'})\n",
    "\n",
    "print(eth_info_dict)"
   ]
  },
  {
   "cell_type": "raw",
   "metadata": {},
   "source": []
  },
  {
   "cell_type": "raw",
   "metadata": {},
   "source": []
  },
  {
   "cell_type": "raw",
   "metadata": {},
   "source": [
    "a = ['-name', 'eth3', '-type', 'ethernet', '-speed', '10G', '-peer_device', 'node01', '-peer_interface', 'Eth1/5/1', '-itgen_peer_connections', 'node01:Eth1/5/1']\n",
    "for v, w in zip(a, a[1:]):\n",
    "    print([v, w])"
   ]
  },
  {
   "cell_type": "markdown",
   "metadata": {},
   "source": [
    "a = [5, 7, 11, 4, 5]\n",
    "for v, w in zip(a, a[1:]):\n",
    "    print([v, w])"
   ]
  },
  {
   "cell_type": "code",
   "execution_count": null,
   "metadata": {},
   "outputs": [],
   "source": []
  }
 ],
 "metadata": {
  "kernelspec": {
   "display_name": "Python 3",
   "language": "python",
   "name": "python3"
  },
  "language_info": {
   "codemirror_mode": {
    "name": "ipython",
    "version": 3
   },
   "file_extension": ".py",
   "mimetype": "text/x-python",
   "name": "python",
   "nbconvert_exporter": "python",
   "pygments_lexer": "ipython3",
   "version": "3.6.8"
  }
 },
 "nbformat": 4,
 "nbformat_minor": 4
}
