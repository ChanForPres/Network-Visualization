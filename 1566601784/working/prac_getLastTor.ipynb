{
 "cells": [
  {
   "cell_type": "code",
   "execution_count": 37,
   "metadata": {},
   "outputs": [
    {
     "name": "stdout",
     "output_type": "stream",
     "text": [
      "The lab_black extension is already loaded. To reload it, use:\n",
      "  %reload_ext lab_black\n"
     ]
    }
   ],
   "source": [
    "%load_ext lab_black\n",
    "%reload_ext lab_black"
   ]
  },
  {
   "cell_type": "code",
   "execution_count": 38,
   "metadata": {},
   "outputs": [],
   "source": [
    "import re"
   ]
  },
  {
   "cell_type": "code",
   "execution_count": 39,
   "metadata": {},
   "outputs": [],
   "source": [
    "# file to grep is lines btwn testcases"
   ]
  },
  {
   "cell_type": "code",
   "execution_count": 52,
   "metadata": {},
   "outputs": [],
   "source": [
    "f = open(\"prac_get_tor1.data\", \"r\")\n",
    "if f.mode == \"r\":\n",
    "    contents = f.read()\n",
    "#     print(contents)"
   ]
  },
  {
   "cell_type": "code",
   "execution_count": null,
   "metadata": {},
   "outputs": [],
   "source": []
  },
  {
   "cell_type": "raw",
   "metadata": {},
   "source": [
    "get current testcase line number\n",
    "            TRAFF_NUM=$(echo $o2 | awk -F':' '{print $1}') # traffic_run line number ie 2798\n",
    "            CASENUM=$(awk \"NR==($d)\" out1 | awk -F':' '{print $1}')\n",
    "            TRAFF_NUM=$(echo $o2 | awk -F':' '{print $1}') # traffic_run line number ie 2798\n",
    "            CASENUM=$(awk \"NR==($d)\" out1 | awk -F':' '{print $1}')\n",
    "sed -n '2798-100,2798p' /path/to/file # first traffic run, est <100 lines till tor appearance\n",
    "sed -n '2798,2809p' /path/to/file # 2nd traffic run, use out2 to get line nums\n"
   ]
  },
  {
   "cell_type": "code",
   "execution_count": 49,
   "metadata": {},
   "outputs": [],
   "source": [
    "regex = r\"(?:sanity97-tor[0-9].*)(?:[\\w\\W\\s]*)(sanity97-tor[0-9])(?:[\\s\\S]*)\""
   ]
  },
  {
   "cell_type": "code",
   "execution_count": null,
   "metadata": {},
   "outputs": [],
   "source": []
  },
  {
   "cell_type": "code",
   "execution_count": 50,
   "metadata": {},
   "outputs": [],
   "source": [
    "prev_tor = \"\"  # if no tor found, use prev one"
   ]
  },
  {
   "cell_type": "code",
   "execution_count": 51,
   "metadata": {},
   "outputs": [
    {
     "name": "stdout",
     "output_type": "stream",
     "text": [
      "sanity97-tor1\n"
     ]
    }
   ],
   "source": [
    "matches = re.search(regex, contents, re.MULTILINE)\n",
    "\n",
    "if matches:\n",
    "    groupNum = 1\n",
    "    prev_tor = matches.group(groupNum)\n",
    "    print(prev_tor)"
   ]
  },
  {
   "cell_type": "code",
   "execution_count": 56,
   "metadata": {},
   "outputs": [
    {
     "data": {
      "text/plain": [
       "'tor1'"
      ]
     },
     "execution_count": 56,
     "metadata": {},
     "output_type": "execute_result"
    }
   ],
   "source": [
    "curr_dut = prev_tor.split(\"-\")[1]\n",
    "curr_dut"
   ]
  },
  {
   "cell_type": "code",
   "execution_count": null,
   "metadata": {},
   "outputs": [],
   "source": [
    "tor1 \n",
    "testcase \n"
   ]
  },
  {
   "cell_type": "code",
   "execution_count": null,
   "metadata": {},
   "outputs": [],
   "source": []
  }
 ],
 "metadata": {
  "kernelspec": {
   "display_name": "Python 3",
   "language": "python",
   "name": "python3"
  },
  "language_info": {
   "codemirror_mode": {
    "name": "ipython",
    "version": 3
   },
   "file_extension": ".py",
   "mimetype": "text/x-python",
   "name": "python",
   "nbconvert_exporter": "python",
   "pygments_lexer": "ipython3",
   "version": "3.6.8"
  }
 },
 "nbformat": 4,
 "nbformat_minor": 4
}
