{
 "cells": [
  {
   "cell_type": "code",
   "execution_count": 60,
   "metadata": {},
   "outputs": [
    {
     "name": "stdout",
     "output_type": "stream",
     "text": [
      "The lab_black extension is already loaded. To reload it, use:\n",
      "  %reload_ext lab_black\n"
     ]
    }
   ],
   "source": [
    "%load_ext lab_black"
   ]
  },
  {
   "cell_type": "code",
   "execution_count": 61,
   "metadata": {},
   "outputs": [
    {
     "data": {
      "text/plain": [
       "32512"
      ]
     },
     "execution_count": 61,
     "metadata": {},
     "output_type": "execute_result"
    }
   ],
   "source": [
    "os.system(\"$(cat out2 | wc -l)\")"
   ]
  },
  {
   "cell_type": "code",
   "execution_count": 62,
   "metadata": {},
   "outputs": [],
   "source": [
    "OUTLEN = int(environ[\"OUTLEN\"])"
   ]
  },
  {
   "cell_type": "code",
   "execution_count": 63,
   "metadata": {},
   "outputs": [
    {
     "data": {
      "text/plain": [
       "32512"
      ]
     },
     "execution_count": 63,
     "metadata": {},
     "output_type": "execute_result"
    }
   ],
   "source": [
    "int(OUTLEN)"
   ]
  },
  {
   "cell_type": "code",
   "execution_count": 64,
   "metadata": {},
   "outputs": [
    {
     "data": {
      "text/plain": [
       "str"
      ]
     },
     "execution_count": 64,
     "metadata": {},
     "output_type": "execute_result"
    }
   ],
   "source": [
    "type(environ[\"OUTLEN\"])"
   ]
  },
  {
   "cell_type": "code",
   "execution_count": 65,
   "metadata": {},
   "outputs": [
    {
     "data": {
      "text/plain": [
       "range(0, 32512)"
      ]
     },
     "execution_count": 65,
     "metadata": {},
     "output_type": "execute_result"
    }
   ],
   "source": [
    "range(OUTLEN)"
   ]
  },
  {
   "cell_type": "code",
   "execution_count": 66,
   "metadata": {},
   "outputs": [
    {
     "name": "stdout",
     "output_type": "stream",
     "text": [
      "traffic_run_0\n",
      "traffic_run_1\n",
      "traffic_run_2\n",
      "traffic_run_3\n",
      "traffic_run_4\n",
      "traffic_run_5\n",
      "traffic_run_6\n",
      "traffic_run_7\n",
      "traffic_run_8\n",
      "traffic_run_9\n"
     ]
    }
   ],
   "source": [
    "ex_list = [i for i in range(10)]\n",
    "\n",
    "for i in range(len(ex_list)):\n",
    "    print(\"traffic_run_\" + str(ex_list[i]))"
   ]
  },
  {
   "cell_type": "code",
   "execution_count": null,
   "metadata": {
    "collapsed": true,
    "jupyter": {
     "outputs_hidden": true
    }
   },
   "outputs": [],
   "source": [
    "# for i in range(OUTLEN):\n",
    "#     #print('traffic_run_'+str(ex_list[i]))\n",
    "#     traff_file = 'traffic_out/traffic_run_'\n",
    "#     traff_file += str(i)\n",
    "#     print(traff_file)"
   ]
  },
  {
   "cell_type": "code",
   "execution_count": null,
   "metadata": {},
   "outputs": [],
   "source": [
    "\n",
    "#environ[\"JAVA_HOME\"] = \"$(/usr/libexec/java_home)\"\n",
    "#v3 = re.split(',',val3) #split into packets\n",
    "\n",
    "# lineList = [line.rstrip('\\n') for line in open('traffic_run_1')]\n",
    "# index: 0,1,2,3,4 \n",
    "# test,args,pkts, rd_before, rd_after\n",
    "    \n",
    "            # {\n",
    "        #     \"color\": \"#36e236\", \n",
    "        #     \"label\": \"eth4\", \n",
    "        #     \"attributes\": {\n",
    "        #         \"Modularity Class\": \"2\", \n",
    "        #         \"Number of Links\": \"10\"\n",
    "        #     }, \n",
    "        #     \"y\": 1843.6963, \n",
    "        #     \"x\": 460.43542, \n",
    "        #     \"id\": \"itgen\", \n",
    "        #     \"size\": 71.65969\n",
    "        # }\n",
    "\n",
    "        # {\n",
    "        #     \"color\": \"#36e236\", \n",
    "        #     \"label\": \"culture.gov.uk\", \n",
    "        #     \"attributes\": {\n",
    "        #         \"Modularity Class\": \"2\", \n",
    "        #         \"Number of Pages\": \"1639\"\n",
    "        #     }, \n",
    "        #     \"y\": 1843.6963, \n",
    "        #     \"x\": 460.43542, \n",
    "        #     \"id\": \"culture.gov.uk\", \n",
    "        #     \"size\": 71.65969\n",
    "#         # }\n",
    "\n",
    "\n",
    "#         a=\"{\n",
    "#             'eth4': [<Ether dst=00:00:33:33:30:01 src=00:00:44:44:30:01 type=0x800 \n",
    "#         |<IP src=172.17.1.1 dst=172.17.2.1 |<Padding |<Raw load='00000000000000000000000000PGID0000' \n",
    "#         |>>>>, <Ether dst=00:00:33:33:30:02 src=00:00:44:44:30:02 type=0x800 \n",
    "#         |<IP src=172.17.1.1 dst=172.17.2.1 |<Padding |<Raw load='00000000000000000000000000PGID0000' \n",
    "#         |>>>>, <Ether dst=00:00:33:33:30:03 src=00:00:44:44:30:03 type=0x800 \n",
    "#         |<IP src=172.17.1.1 dst=172.17.2.1 |<Padding |<Raw load='00000000000000000000000000PGID0000' \n",
    "#         |>>>>, <Ether dst=00:00:33:33:30:04 src=00:00:44:44:30:04 type=0x800 \n",
    "#         |<IP src=172.17.1.1 dst=172.17.2.1 |<Padding |<Raw load='00000000000000000000000000PGID0000' \n",
    "#         |>>>>, <Ether dst=00:00:33:33:30:05 src=00:00:44:44:30:05 type=0x800 \n",
    "#         |<IP src=172.17.1.1 dst=172.17.2.1 |<Padding |<Raw load='00000000000000000000000000PGID0000' \n",
    "#         |>>>>, <Ether dst=00:00:33:33:30:06 src=00:00:44:44:30:06 type=0x800 \n",
    "#         |<IP src=172.17.1.1 dst=172.17.2.1 |<Padding |<Raw load='00000000000000000000000000PGID0000' |>>>>, <Ether dst=00:00:33:33:30:07 src=00:00:44:44:30:07 type=0x800 |<IP src=172.17.1.1 dst=172.17.2.1 |<Padding |<Raw load='00000000000000000000000000PGID0000' |>>>>, <Ether dst=00:00:33:33:30:08 src=00:00:44:44:30:08 type=0x800 |<IP src=172.17.1.1 dst=172.17.2.1 |<Padding |<Raw load='00000000000000000000000000PGID0000' |>>>>, <Ether dst=00:00:33:33:30:09 src=00:00:44:44:30:09 type=0x800 |<IP src=172.17.1.1 dst=172.17.2.1 |<Padding |<Raw load='00000000000000000000000000PGID0000' |>>>>, <Ether dst=00:00:33:33:30:0A src=00:00:44:44:30:0A type=0x800 |<IP src=172.17.1.1 dst=172.17.2.1 |<Padding |<Raw load='00000000000000000000000000PGID0000' |>>>>, <Ether dst=00:00:11:11:10:01 src=00:00:44:44:10:01 type=0x800 |<IP src=172.17.1.1 dst=172.17.2.1 |<Padding |<Raw load='00000000000000000000000000PGID0002' |>>>>, <Ether dst=00:00:11:11:10:02 src=00:00:44:44:10:02 type=0x800 |<IP src=172.17.1.1 dst=172.17.2.1 |<Padding |<Raw load='00000000000000000000000000PGID0002' |>>>>, <Ether dst=00:00:11:11:10:03 src=00:00:44:44:10:03 type=0x800 |<IP src=172.17.1.1 dst=172.17.2.1 |<Padding |<Raw load='00000000000000000000000000PGID0002' |>>>>, <Ether dst=00:00:11:11:10:04 src=00:00:44:44:10:04 type=0x800 |<IP src=172.17.1.1 dst=172.17.2.1 |<Padding |<Raw load='00000000000000000000000000PGID0002' |>>>>, <Ether dst=00:00:11:11:10:05 src=00:00:44:44:10:05 type=0x800 |<IP src=172.17.1.1 dst=172.17.2.1 |<Padding |<Raw load='00000000000000000000000000PGID0002' |>>>>, <Ether dst=00:00:11:11:10:06 src=00:00:44:44:10:06 type=0x800 |<IP src=172.17.1.1 dst=172.17.2.1 |<Padding |<Raw load='00000000000000000000000000PGID0002' |>>>>, <Ether dst=00:00:11:11:10:07 src=00:00:44:44:10:07 type=0x800 |<IP src=172.17.1.1 dst=172.17.2.1 |<Padding |<Raw load='00000000000000000000000000PGID0002' |>>>>, <Ether dst=00:00:11:11:10:08 src=00:00:44:44:10:08 type=0x800 |<IP src=172.17.1.1 dst=172.17.2.1 |<Padding |<Raw load='00000000000000000000000000PGID0002' |>>>>, <Ether dst=00:00:11:11:10:09 src=00:00:44:44:10:09 type=0x800 |<IP src=172.17.1.1 dst=172.17.2.1 |<Padding |<Raw load='00000000000000000000000000PGID0002' |>>>>, <Ether dst=00:00:11:11:10:0A src=00:00:44:44:10:0A type=0x800 |<IP src=172.17.1.1 dst=172.17.2.1 |<Padding |<Raw load='00000000000000000000000000PGID0002' |>>>>, <Ether dst=00:00:99:44:10:01 src=00:00:44:00:10:01 type=0x800 |<IP src=172.17.1.1 dst=172.17.2.1 |<Padding |<Raw load='00000000000000000000000000PGID0006' |>>>>, <Ether dst=00:00:99:44:10:02 src=00:00:44:00:10:02 type=0x800 |<IP src=172.17.1.1 dst=172.17.2.1 |<Padding |<Raw load='00000000000000000000000000PGID0006' |>>>>, <Ether dst=00:00:99:44:10:03 src=00:00:44:00:10:03 type=0x800 |<IP src=172.17.1.1 dst=172.17.2.1 |<Padding |<Raw load='00000000000000000000000000PGID0006' |>>>>, <Ether dst=00:00:99:44:10:04 src=00:00:44:00:10:04 type=0x800 |<IP src=172.17.1.1 dst=172.17.2.1 |<Padding |<Raw load='00000000000000000000000000PGID0006' |>>>>, <Ether dst=00:00:99:44:10:05 src=00:00:44:00:10:05 type=0x800 |<IP src=172.17.1.1 dst=172.17.2.1 |<Padding |<Raw load='00000000000000000000000000PGID0006' |>>>>, <Ether dst=00:00:99:44:10:06 src=00:00:44:00:10:06 type=0x800 |<IP src=172.17.1.1 dst=172.17.2.1 |<Padding |<Raw load='00000000000000000000000000PGID0006' |>>>>, <Ether dst=00:00:99:44:10:07 src=00:00:44:00:10:07 type=0x800 |<IP src=172.17.1.1 dst=172.17.2.1 |<Padding |<Raw load='00000000000000000000000000PGID0006' |>>>>, <Ether dst=00:00:99:44:10:08 src=00:00:44:00:10:08 type=0x800 |<IP src=172.17.1.1 dst=172.17.2.1 |<Padding |<Raw load='00000000000000000000000000PGID0006' |>>>>, <Ether dst=00:00:99:44:10:09 src=00:00:44:00:10:09 type=0x800 |<IP src=172.17.1.1 dst=172.17.2.1 |<Padding |<Raw load='00000000000000000000000000PGID0006' |>>>>, <Ether dst=00:00:99:44:10:0A src=00:00:44:00:10:0A type=0x800 |<IP src=172.17.1.1 dst=172.17.2.1 |<Padding |<Raw load='00000000000000000000000000PGID0006' |>>>>], \n",
    "\n",
    "#         'eth3': [<Ether dst=00:00:44:44:30:01 src=00:00:33:33:30:01 type=0x800 |<IP src=172.17.1.1 dst=172.17.2.1 |<Padding |<Raw load='00000000000000000000000000PGID0001' |>>>>, <Ether dst=00:00:44:44:30:02 src=00:00:33:33:30:02 type=0x800 |<IP src=172.17.1.1 dst=172.17.2.1 |<Padding |<Raw load='00000000000000000000000000PGID0001' |>>>>, <Ether dst=00:00:44:44:30:03 src=00:00:33:33:30:03 type=0x800 |<IP src=172.17.1.1 dst=172.17.2.1 |<Padding |<Raw load='00000000000000000000000000PGID0001' |>>>>, <Ether dst=00:00:44:44:30:04 src=00:00:33:33:30:04 type=0x800 |<IP src=172.17.1.1 dst=172.17.2.1 |<Padding |<Raw load='00000000000000000000000000PGID0001' |>>>>, <Ether dst=00:00:44:44:30:05 src=00:00:33:33:30:05 type=0x800 |<IP src=172.17.1.1 dst=172.17.2.1 |<Padding |<Raw load='00000000000000000000000000PGID0001' |>>>>, <Ether dst=00:00:44:44:30:06 src=00:00:33:33:30:06 type=0x800 |<IP src=172.17.1.1 dst=172.17.2.1 |<Padding |<Raw load='00000000000000000000000000PGID0001' |>>>>, <Ether dst=00:00:44:44:30:07 src=00:00:33:33:30:07 type=0x800 |<IP src=172.17.1.1 dst=172.17.2.1 |<Padding |<Raw load='00000000000000000000000000PGID0001' |>>>>, <Ether dst=00:00:44:44:30:08 src=00:00:33:33:30:08 type=0x800 |<IP src=172.17.1.1 dst=172.17.2.1 |<Padding |<Raw load='00000000000000000000000000PGID0001' |>>>>, <Ether dst=00:00:44:44:30:09 src=00:00:33:33:30:09 type=0x800 |<IP src=172.17.1.1 dst=172.17.2.1 |<Padding |<Raw load='00000000000000000000000000PGID0001' |>>>>, <Ether dst=00:00:44:44:30:0A src=00:00:33:33:30:0A type=0x800 |<IP src=172.17.1.1 dst=172.17.2.1 |<Padding |<Raw load='00000000000000000000000000PGID0001' |>>>>, <Ether dst=00:00:11:11:20:01 src=00:00:33:33:20:01 type=0x8100 |<Dot1Q vlan=1 type=0x800 |<IP src=172.17.1.1 dst=172.17.2.1 |<Padding |<Raw load='0000000000000000000000PGID0004' |>>>>>, <Ether dst=00:00:11:11:20:02 src=00:00:33:33:20:02 type=0x8100 |<Dot1Q vlan=2 type=0x800 |<IP src=172.17.1.1 dst=172.17.2.1 |<Padding |<Raw load='0000000000000000000000PGID0004' |>>>>>, <Ether dst=00:00:11:11:20:03 src=00:00:33:33:20:03 type=0x8100 |<Dot1Q vlan=3 type=0x800 |<IP src=172.17.1.1 dst=172.17.2.1 |<Padding |<Raw load='0000000000000000000000PGID0004' |>>>>>, <Ether dst=00:00:11:11:20:04 src=00:00:33:33:20:04 type=0x8100 |<Dot1Q vlan=4 type=0x800 |<IP src=172.17.1.1 dst=172.17.2.1 |<Padding |<Raw load='0000000000000000000000PGID0004' |>>>>>, <Ether dst=00:00:11:11:20:05 src=00:00:33:33:20:05 type=0x8100 |<Dot1Q vlan=5 type=0x800 |<IP src=172.17.1.1 dst=172.17.2.1 |<Padding |<Raw load='0000000000000000000000PGID0004' |>>>>>, <Ether dst=00:00:11:11:20:06 src=00:00:33:33:20:06 type=0x8100 |<Dot1Q vlan=6 type=0x800 |<IP src=172.17.1.1 dst=172.17.2.1 |<Padding |<Raw load='0000000000000000000000PGID0004' |>>>>>, <Ether dst=00:00:11:11:20:07 src=00:00:33:33:20:07 type=0x8100 |<Dot1Q vlan=7 type=0x800 |<IP src=172.17.1.1 dst=172.17.2.1 |<Padding |<Raw load='0000000000000000000000PGID0004' |>>>>>, <Ether dst=00:00:11:11:20:08 src=00:00:33:33:20:08 type=0x8100 |<Dot1Q vlan=8 type=0x800 |<IP src=172.17.1.1 dst=172.17.2.1 |<Padding |<Raw load='0000000000000000000000PGID0004' |>>>>>, <Ether dst=00:00:11:11:20:09 src=00:00:33:33:20:09 type=0x800 |<IP src=172.17.1.1 dst=172.17.2.1 |<Padding |<Raw load='00000000000000000000000000PGID0004' |>>>>, <Ether dst=00:00:11:11:20:0A src=00:00:33:33:20:0A type=0x8100 |<Dot1Q vlan=10 type=0x800 |<IP src=172.17.1.1 dst=172.17.2.1 |<Padding |<Raw load='0000000000000000000000PGID0004' |>>>>>, <Ether dst=00:00:99:33:10:01 src=00:00:33:00:10:01 type=0x800 |<IP src=172.17.1.1 dst=172.17.2.1 |<Padding |<Raw load='00000000000000000000000000PGID0007' |>>>>, <Ether dst=00:00:99:33:10:02 src=00:00:33:00:10:02 type=0x800 |<IP src=172.17.1.1 dst=172.17.2.1 |<Padding |<Raw load='00000000000000000000000000PGID0007' |>>>>, <Ether dst=00:00:99:33:10:03 src=00:00:33:00:10:03 type=0x800 |<IP src=172.17.1.1 dst=172.17.2.1 |<Padding |<Raw load='00000000000000000000000000PGID0007' |>>>>, <Ether dst=00:00:99:33:10:04 src=00:00:33:00:10:04 type=0x800 |<IP src=172.17.1.1 dst=172.17.2.1 |<Padding |<Raw load='00000000000000000000000000PGID0007' |>>>>, <Ether dst=00:00:99:33:10:05 src=00:00:33:00:10:05 type=0x800 |<IP src=172.17.1.1 dst=172.17.2.1 |<Padding |<Raw load='00000000000000000000000000PGID0007' |>>>>, <Ether dst=00:00:99:33:10:06 src=00:00:33:00:10:06 type=0x800 |<IP src=172.17.1.1 dst=172.17.2.1 |<Padding |<Raw load='00000000000000000000000000PGID0007' |>>>>, <Ether dst=00:00:99:33:10:07 src=00:00:33:00:10:07 type=0x800 |<IP src=172.17.1.1 dst=172.17.2.1 |<Padding |<Raw load='00000000000000000000000000PGID0007' |>>>>, <Ether dst=00:00:99:33:10:08 src=00:00:33:00:10:08 type=0x800 |<IP src=172.17.1.1 dst=172.17.2.1 |<Padding |<Raw load='00000000000000000000000000PGID0007' |>>>>, <Ether dst=00:00:99:33:10:09 src=00:00:33:00:10:09 type=0x800 |<IP src=172.17.1.1 dst=172.17.2.1 |<Padding |<Raw load='00000000000000000000000000PGID0007' |>>>>, <Ether dst=00:00:99:33:10:0A src=00:00:33:00:10:0A type=0x800 |<IP src=172.17.1.1 dst=172.17.2.1 |<Padding |<Raw load='00000000000000000000000000PGID0007' |>>>>],\n",
    "        \n",
    "#          'eth1': [<Ether dst=00:00:44:44:10:01 src=00:00:11:11:10:01 type=0x800 |<IP src=172.17.1.1 dst=172.17.2.1 |<Padding |<Raw load='00000000000000000000000000PGID0003' |>>>>, <Ether dst=00:00:44:44:10:02 src=00:00:11:11:10:02 type=0x800 |<IP src=172.17.1.1 dst=172.17.2.1 |<Padding |<Raw load='00000000000000000000000000PGID0003' |>>>>, <Ether dst=00:00:44:44:10:03 src=00:00:11:11:10:03 type=0x800 |<IP src=172.17.1.1 dst=172.17.2.1 |<Padding |<Raw load='00000000000000000000000000PGID0003' |>>>>, <Ether dst=00:00:44:44:10:04 src=00:00:11:11:10:04 type=0x800 |<IP src=172.17.1.1 dst=172.17.2.1 |<Padding |<Raw load='00000000000000000000000000PGID0003' |>>>>, <Ether dst=00:00:44:44:10:05 src=00:00:11:11:10:05 type=0x800 |<IP src=172.17.1.1 dst=172.17.2.1 |<Padding |<Raw load='00000000000000000000000000PGID0003' |>>>>, <Ether dst=00:00:44:44:10:06 src=00:00:11:11:10:06 type=0x800 |<IP src=172.17.1.1 dst=172.17.2.1 |<Padding |<Raw load='00000000000000000000000000PGID0003' |>>>>, <Ether dst=00:00:44:44:10:07 src=00:00:11:11:10:07 type=0x800 |<IP src=172.17.1.1 dst=172.17.2.1 |<Padding |<Raw load='00000000000000000000000000PGID0003' |>>>>, <Ether dst=00:00:44:44:10:08 src=00:00:11:11:10:08 type=0x800 |<IP src=172.17.1.1 dst=172.17.2.1 |<Padding |<Raw load='00000000000000000000000000PGID0003' |>>>>, <Ether dst=00:00:44:44:10:09 src=00:00:11:11:10:09 type=0x800 |<IP src=172.17.1.1 dst=172.17.2.1 |<Padding |<Raw load='00000000000000000000000000PGID0003' |>>>>, <Ether dst=00:00:44:44:10:0A src=00:00:11:11:10:0A type=0x800 |<IP src=172.17.1.1 dst=172.17.2.1 |<Padding |<Raw load='00000000000000000000000000PGID0003' |>>>>, <Ether dst=00:00:33:33:20:01 src=00:00:11:11:20:01 type=0x8100 |<Dot1Q vlan=1 type=0x800 |<IP src=172.17.1.1 dst=172.17.2.1 |<Padding |<Raw load='0000000000000000000000PGID0005' |>>>>>, <Ether dst=00:00:33:33:20:02 src=00:00:11:11:20:02 type=0x8100 |<Dot1Q vlan=2 type=0x800 |<IP src=172.17.1.1 dst=172.17.2.1 |<Padding |<Raw load='0000000000000000000000PGID0005' |>>>>>, <Ether dst=00:00:33:33:20:03 src=00:00:11:11:20:03 type=0x8100 |<Dot1Q vlan=3 type=0x800 |<IP src=172.17.1.1 dst=172.17.2.1 |<Padding |<Raw load='0000000000000000000000PGID0005' |>>>>>, <Ether dst=00:00:33:33:20:04 src=00:00:11:11:20:04 type=0x8100 |<Dot1Q vlan=4 type=0x800 |<IP src=172.17.1.1 dst=172.17.2.1 |<Padding |<Raw load='0000000000000000000000PGID0005' |>>>>>, <Ether dst=00:00:33:33:20:05 src=00:00:11:11:20:05 type=0x8100 |<Dot1Q vlan=5 type=0x800 |<IP src=172.17.1.1 dst=172.17.2.1 |<Padding |<Raw load='0000000000000000000000PGID0005' |>>>>>, <Ether dst=00:00:33:33:20:06 src=00:00:11:11:20:06 type=0x8100 |<Dot1Q vlan=6 type=0x800 |<IP src=172.17.1.1 dst=172.17.2.1 |<Padding |<Raw load='0000000000000000000000PGID0005' |>>>>>, <Ether dst=00:00:33:33:20:07 src=00:00:11:11:20:07 type=0x8100 |<Dot1Q vlan=7 type=0x800 |<IP src=172.17.1.1 dst=172.17.2.1 |<Padding |<Raw load='0000000000000000000000PGID0005' |>>>>>, <Ether dst=00:00:33:33:20:08 src=00:00:11:11:20:08 type=0x8100 |<Dot1Q vlan=8 type=0x800 |<IP src=172.17.1.1 dst=172.17.2.1 |<Padding |<Raw load='0000000000000000000000PGID0005' |>>>>>, <Ether dst=00:00:33:33:20:09 src=00:00:11:11:20:09 type=0x800 |<IP src=172.17.1.1 dst=172.17.2.1 |<Padding |<Raw load='00000000000000000000000000PGID0005' |>>>>, <Ether dst=00:00:33:33:20:0A src=00:00:11:11:20:0A type=0x8100 |<Dot1Q vlan=10 type=0x800 |<IP src=172.17.1.1 dst=172.17.2.1 |<Padding |<Raw load='0000000000000000000000PGID0005' |>>>>>, <Ether dst=00:00:99:11:10:01 src=00:00:11:00:10:01 type=0x800 |<IP src=172.17.1.1 dst=172.17.2.1 |<Padding |<Raw load='00000000000000000000000000PGID0008' |>>>>, <Ether dst=00:00:99:11:10:02 src=00:00:11:00:10:02 type=0x800 |<IP src=172.17.1.1 dst=172.17.2.1 |<Padding |<Raw load='00000000000000000000000000PGID0008' |>>>>, <Ether dst=00:00:99:11:10:03 src=00:00:11:00:10:03 type=0x800 |<IP src=172.17.1.1 dst=172.17.2.1 |<Padding |<Raw load='00000000000000000000000000PGID0008' |>>>>, <Ether dst=00:00:99:11:10:04 src=00:00:11:00:10:04 type=0x800 |<IP src=172.17.1.1 dst=172.17.2.1 |<Padding |<Raw load='00000000000000000000000000PGID0008' |>>>>, <Ether dst=00:00:99:11:10:05 src=00:00:11:00:10:05 type=0x800 |<IP src=172.17.1.1 dst=172.17.2.1 |<Padding |<Raw load='00000000000000000000000000PGID0008' |>>>>, <Ether dst=00:00:99:11:10:06 src=00:00:11:00:10:06 type=0x800 |<IP src=172.17.1.1 dst=172.17.2.1 |<Padding |<Raw load='00000000000000000000000000PGID0008' |>>>>, <Ether dst=00:00:99:11:10:07 src=00:00:11:00:10:07 type=0x800 |<IP src=172.17.1.1 dst=172.17.2.1 |<Padding |<Raw load='00000000000000000000000000PGID0008' |>>>>, <Ether dst=00:00:99:11:10:08 src=00:00:11:00:10:08 type=0x800 |<IP src=172.17.1.1 dst=172.17.2.1 |<Padding |<Raw load='00000000000000000000000000PGID0008' |>>>>, <Ether dst=00:00:99:11:10:09 src=00:00:11:00:10:09 type=0x800 |<IP src=172.17.1.1 dst=172.17.2.1 |<Padding |<Raw load='00000000000000000000000000PGID0008' |>>>>, <Ether dst=00:00:99:11:10:0A src=00:00:11:00:10:0A type=0x800 |<IP src=172.17.1.1 dst=172.17.2.1 |<Padding |<Raw load='00000000000000000000000000PGID0008' |>>>>]\n",
    "#          }\""
   ]
  },
  {
   "cell_type": "code",
   "execution_count": 67,
   "metadata": {},
   "outputs": [
    {
     "name": "stdout",
     "output_type": "stream",
     "text": [
      "testL2SanityPortFlap\"\n"
     ]
    }
   ],
   "source": [
    "lineList = [line.rstrip(\"\\n\") for line in open(\"traffic_out/traffic_run_1\")]\n",
    "print(lineList[0])\n",
    "test = lineList[0]  # casename\n",
    "args = lineList[1]  # params\n",
    "pkts = lineList[2]  # PKTS\n",
    "rd_before = lineList[3]  # returndict before stop\n",
    "rd_after = lineList[4]  # returndict after stop\n",
    "\n",
    "# parse out parts of traffic send ie params,pckDict,beforeSend,afterSend\n",
    "val1 = [i for i in test.split('\"') if i][0]\n",
    "val2 = args.split(\"Namespace\")[1]\n",
    "val3 = pkts.split(\"PKTS \")[1]\n",
    "#     val4 = rd_before.split('stop ')[1]\n",
    "#     val5 = rd_after.split('stop ')[1]"
   ]
  },
  {
   "cell_type": "code",
   "execution_count": 68,
   "metadata": {
    "collapsed": true,
    "jupyter": {
     "outputs_hidden": true
    }
   },
   "outputs": [
    {
     "name": "stdout",
     "output_type": "stream",
     "text": [
      "testL2SanityPortFlap\"\n",
      "NO ETHER-2\n",
      "testL2SanityPortFlap\"\n",
      "NO ETHER-2\n",
      "testL2SanityPortModeChange\"\n",
      "NO ETHER-2\n",
      "testL2SanityPortModeChange\"\n",
      "NO ETHER-2\n",
      "testL2SanityPortChannelMemberAdd\"\n",
      "NO ETHER-2\n",
      "testL2SanityPortChannelMemberAdd\"\n",
      "NO ETHER-2\n",
      "testL2SanityPortChannelMemberRemove\"\n",
      "NO ETHER-2\n",
      "testL2SanityPortChannelMemberRemove\"\n",
      "NO ETHER-2\n",
      "testL2SanityPortChannelMemberRemove\"\n",
      "NO ETHER-2\n",
      "testL2SanityPortChannelMemberRemove\"\n",
      "NO ETHER-2\n",
      "testL2SanityPortChannelMemberRemove\"\n",
      "NO ETHER-2\n",
      "testL2SanityPortChannelMemberRemove\"\n",
      "NO ETHER-2\n",
      "testL2SanityPortChannelMemberRemove\"\n",
      "NO ETHER-2\n",
      "testL2SanityPortChannelMemberRemove\"\n",
      "NO ETHER-2\n",
      "testL2SanityPortChannelMemberRemove\"\n",
      "NO ETHER-2\n",
      "testL2SanityPortChannelMemberRemove\"\n",
      "NO ETHER-2\n",
      "testL2SanityPortChannelMemberRemove\"\n",
      "NO ETHER-2\n",
      "testL2SanityPortChannelMemberRemove\"\n",
      "NO ETHER-2\n",
      "testL2SanityPortChannelMemberRemove\"\n",
      "NO ETHER-2\n",
      "testL2SanityPortChannelMemberRemove\"\n",
      "NO ETHER-2\n",
      "testL2SanityPortChannelMemberRemove\"\n",
      "NO ETHER-2\n",
      "testL2SanityPortChannelMemberRemove\"\n",
      "NO ETHER-2\n",
      "testL2SanityPortChannelMemberRemove\"\n",
      "NO ETHER-2\n",
      "testL2SanityPortChannelMemberRemove\"\n",
      "NO ETHER-2\n",
      "testL2SanityPortChannelMemberRemove\"\n",
      "NO ETHER-2\n",
      "testL2SanityPortChannelMemberRemove\"\n",
      "NO ETHER-2\n",
      "testL2SanityPortChannelMemberRemove\"\n",
      "NO ETHER-2\n",
      "testL2SanityPortChannelMemberRemove\"\n",
      "NO ETHER-2\n",
      "testL2SanityPortChannelMemberRemove\"\n",
      "NO ETHER-2\n",
      "testL2SanityPortChannelMemberRemove\"\n",
      "NO ETHER-2\n",
      "testL2SanityPortChannelMemberRemove\"\n",
      "NO ETHER-2\n",
      "testL2SanityPortChannelMemberRemove\"\n",
      "NO ETHER-2\n",
      "testL2SanityPortChannelMemberRemove\"\n",
      "NO ETHER-2\n",
      "testL2SanityPortChannelMemberRemove\"\n",
      "NO ETHER-2\n",
      "testL2SanityPortChannelMemberRemove\"\n",
      "NO ETHER-2\n",
      "testL2SanityPortChannelMemberRemove\"\n",
      "NO ETHER-2\n",
      "testL2SanityPortChannelMemberRemove\"\n",
      "NO ETHER-2\n",
      "testL2SanityPortChannelMemberRemove\"\n",
      "NO ETHER-2\n",
      "testL2SanityPortChannelMemberRemove\"\n",
      "NO ETHER-2\n",
      "testL2SanityPortChannelMemberRemove\"\n",
      "NO ETHER-2\n",
      "testL2SanityPortChannelMemberRemove\"\n",
      "NO ETHER-2\n",
      "testL2SanityPortChannelMemberRemove\"\n",
      "NO ETHER-2\n",
      "testL2SanityPortChannelMemberRemove\"\n",
      "NO ETHER-2\n",
      "testL2SanityPortChannelMemberRemove\"\n",
      "NO ETHER-2\n",
      "testL2SanityPortChannelMemberRemove\"\n",
      "NO ETHER-2\n",
      "testL2SanityPortChannelMemberRemove\"\n",
      "NO ETHER-2\n",
      "testL2SanityPortChannelMemberRemove\"\n",
      "NO ETHER-2\n",
      "testL2SanityPortChannelMemberRemove\"\n",
      "NO ETHER-2\n",
      "testL2SanityPortChannelMemberRemove\"\n",
      "NO ETHER-2\n",
      "testL2SanityPortChannelMemberRemove\"\n",
      "NO ETHER-2\n",
      "testL2SanityPortChannelMemberRemove\"\n",
      "NO ETHER-2\n",
      "testL2SanityPortChannelMemberRemove\"\n",
      "NO ETHER-2\n",
      "testL2SanityPortChannelMemberRemove\"\n",
      "NO ETHER-2\n",
      "testL2SanityPortChannelMemberRemove\"\n",
      "NO ETHER-2\n",
      "testL2SanityPortChannelMemberRemove\"\n",
      "NO ETHER-2\n",
      "testL2SanityPortChannelMemberRemove\"\n",
      "NO ETHER-2\n",
      "testL2SanityPortChannelMemberRemove\"\n",
      "NO ETHER-2\n",
      "testL2SanityPortChannelMemberRemove\"\n",
      "NO ETHER-2\n",
      "testL2SanityPortChannelMemberRemove\"\n",
      "NO ETHER-2\n",
      "testL2SanityPortChannelMemberRemove\"\n",
      "NO ETHER-2\n",
      "testL2SanityPortChannelMemberRemove\"\n",
      "NO ETHER-2\n",
      "testL2SanityPortChannelMemberRemove\"\n",
      "NO ETHER-2\n",
      "testL2SanityPortChannelMemberRemove\"\n",
      "NO ETHER-2\n",
      "testL2SanityPortChannelMemberRemove\"\n",
      "NO ETHER-2\n",
      "testL2SanityPortChannelMemberRemove\"\n",
      "NO ETHER-2\n",
      "testL2SanityPortChannelMemberRemove\"\n",
      "NO ETHER-2\n",
      "testL2SanityPortChannelMemberRemove\"\n",
      "NO ETHER-2\n",
      "testL2SanityPortChannelMemberRemove\"\n",
      "NO ETHER-2\n",
      "testL2SanityPortChannelMemberRemove\"\n",
      "NO ETHER-2\n",
      "testL2SanityPortChannelMemberRemove\"\n",
      "NO ETHER-2\n",
      "testL2SanityPortChannelMemberRemove\"\n",
      "NO ETHER-2\n",
      "testL2SanityPortChannelMemberRemove\"\n",
      "NO ETHER-2\n",
      "testL2SanityPortChannelMemberRemove\"\n",
      "NO ETHER-2\n",
      "testL2SanityPortChannelMemberRemove\"\n",
      "NO ETHER-2\n",
      "testL2SanityPortChannelMemberRemove\"\n",
      "NO ETHER-2\n",
      "testL2SanityPortChannelMemberRemove\"\n",
      "NO ETHER-2\n",
      "testL2SanityPortChannelMemberRemove\"\n",
      "NO ETHER-2\n",
      "testL2SanityPortChannelMemberRemove\"\n",
      "NO ETHER-2\n",
      "testL2SanityPortChannelMemberRemove\"\n",
      "NO ETHER-2\n",
      "testL2SanityPortChannelMemberRemove\"\n",
      "NO ETHER-2\n",
      "testL2SanityPortChannelMemberRemove\"\n",
      "NO ETHER-2\n",
      "testL2SanityPortChannelMemberRemove\"\n",
      "NO ETHER-2\n",
      "testL2SanityPortChannelMemberRemove\"\n",
      "NO ETHER-2\n",
      "testL2SanityPortChannelMemberRemove\"\n",
      "NO ETHER-2\n",
      "testL2SanityPortChannelMemberRemove\"\n",
      "NO ETHER-2\n",
      "testL2SanityPortChannelMemberRemove\"\n",
      "NO ETHER-2\n",
      "testL2SanityPortChannelMemberRemove\"\n",
      "NO ETHER-2\n",
      "testL2SanityPortChannelMemberRemove\"\n",
      "NO ETHER-2\n",
      "testL2SanityPortChannelMemberRemove\"\n",
      "NO ETHER-2\n",
      "testL2SanityPortChannelMemberRemove\"\n",
      "NO ETHER-2\n",
      "testL2SanityPortChannelMemberRemove\"\n",
      "NO ETHER-2\n",
      "testL2SanityPortChannelMemberRemove\"\n",
      "NO ETHER-2\n",
      "testL2SanityPortChannelMemberRemove\"\n",
      "NO ETHER-2\n",
      "testL2SanityPortChannelMemberRemove\"\n",
      "NO ETHER-2\n",
      "testL2SanityPortChannelMemberRemove\"\n",
      "NO ETHER-2\n",
      "testL2SanityPortChannelMemberRemove\"\n",
      "NO ETHER-2\n",
      "testL2SanityPortChannelMemberRemove\"\n",
      "NO ETHER-2\n",
      "testL2SanityPortChannelMemberRemove\"\n",
      "NO ETHER-2\n",
      "testL2SanityPortChannelMemberRemove\"\n",
      "NO ETHER-2\n",
      "testL2SanityPortChannelMemberRemove\"\n",
      "NO ETHER-2\n",
      "testL2SanityPortChannelMemberRemove\"\n",
      "NO ETHER-2\n",
      "testL2SanityPortChannelMemberRemove\"\n",
      "NO ETHER-2\n",
      "testL2SanityPortChannelMemberRemove\"\n",
      "NO ETHER-2\n",
      "testL2SanityPortChannelMemberRemove\"\n",
      "NO ETHER-2\n",
      "testL2SanityPortChannelMemberRemove\"\n",
      "NO ETHER-2\n",
      "testL2SanityPortChannelMemberRemove\"\n",
      "NO ETHER-2\n"
     ]
    },
    {
     "ename": "FileNotFoundError",
     "evalue": "[Errno 2] No such file or directory: 'traffic_out/traffic_run_107'",
     "output_type": "error",
     "traceback": [
      "\u001b[0;31m---------------------------------------------------------------------------\u001b[0m",
      "\u001b[0;31mFileNotFoundError\u001b[0m                         Traceback (most recent call last)",
      "\u001b[0;32m<ipython-input-68-903b05c5ec30>\u001b[0m in \u001b[0;36m<module>\u001b[0;34m\u001b[0m\n\u001b[1;32m     16\u001b[0m     \u001b[0mtraff_file\u001b[0m \u001b[0;34m+=\u001b[0m \u001b[0mstr\u001b[0m\u001b[0;34m(\u001b[0m\u001b[0mi\u001b[0m\u001b[0;34m)\u001b[0m\u001b[0;34m\u001b[0m\u001b[0;34m\u001b[0m\u001b[0m\n\u001b[1;32m     17\u001b[0m \u001b[0;34m\u001b[0m\u001b[0m\n\u001b[0;32m---> 18\u001b[0;31m     \u001b[0mlineList\u001b[0m \u001b[0;34m=\u001b[0m \u001b[0;34m[\u001b[0m\u001b[0mline\u001b[0m\u001b[0;34m.\u001b[0m\u001b[0mrstrip\u001b[0m\u001b[0;34m(\u001b[0m\u001b[0;34m'\\n'\u001b[0m\u001b[0;34m)\u001b[0m \u001b[0;32mfor\u001b[0m \u001b[0mline\u001b[0m \u001b[0;32min\u001b[0m \u001b[0mopen\u001b[0m\u001b[0;34m(\u001b[0m\u001b[0mtraff_file\u001b[0m\u001b[0;34m)\u001b[0m\u001b[0;34m]\u001b[0m\u001b[0;34m;\u001b[0m \u001b[0mprint\u001b[0m\u001b[0;34m(\u001b[0m\u001b[0mlineList\u001b[0m\u001b[0;34m[\u001b[0m\u001b[0;36m0\u001b[0m\u001b[0;34m]\u001b[0m\u001b[0;34m)\u001b[0m\u001b[0;34m\u001b[0m\u001b[0;34m\u001b[0m\u001b[0m\n\u001b[0m\u001b[1;32m     19\u001b[0m     \u001b[0mtest\u001b[0m\u001b[0;34m=\u001b[0m\u001b[0mlineList\u001b[0m\u001b[0;34m[\u001b[0m\u001b[0;36m0\u001b[0m\u001b[0;34m]\u001b[0m \u001b[0;31m#casename\u001b[0m\u001b[0;34m\u001b[0m\u001b[0;34m\u001b[0m\u001b[0m\n\u001b[1;32m     20\u001b[0m     \u001b[0margs\u001b[0m\u001b[0;34m=\u001b[0m\u001b[0mlineList\u001b[0m\u001b[0;34m[\u001b[0m\u001b[0;36m1\u001b[0m\u001b[0;34m]\u001b[0m \u001b[0;31m#params\u001b[0m\u001b[0;34m\u001b[0m\u001b[0;34m\u001b[0m\u001b[0m\n",
      "\u001b[0;31mFileNotFoundError\u001b[0m: [Errno 2] No such file or directory: 'traffic_out/traffic_run_107'"
     ]
    }
   ],
   "source": [
    "# PURPOSE: parse \n",
    "\n",
    "import os,sys\n",
    "from os import environ\n",
    "import re\n",
    "\n",
    "\n",
    "environ['OUTLEN']=str(os.system('$(cat out2 | wc -l)'))\n",
    "\n",
    "OUTLEN = int(environ['OUTLEN'])\n",
    "\n",
    "\n",
    "for i in range(1,OUTLEN+1):\n",
    "    #print('traffic_run_'+str(ex_list[i]))\n",
    "    traff_file = 'traffic_out/traffic_run_'\n",
    "    traff_file += str(i)\n",
    "    \n",
    "    lineList = [line.rstrip('\\n') for line in open(traff_file)]; print(lineList[0])\n",
    "    test=lineList[0] #casename\n",
    "    args=lineList[1] #params\n",
    "    pkts=lineList[2] #PKTS\n",
    "    rd_before=lineList[3] # returndict before stop\n",
    "    rd_after=lineList[4] # returndict after stop\n",
    "\n",
    "    val1 = [i for i in test.split('\\\"') if i][0]\n",
    "    val2 = args.split('Namespace')[1]\n",
    "    val3 = pkts.split('PKTS ')[1]\n",
    "    val4 = rd_before.split('stop ')[1]\n",
    "    val5 = rd_after.split('stop ')[1]\n",
    "\n",
    "\n",
    "    # packet processing\n",
    "    v3 = re.split(\"('eth[0-9]')\",val3) # split by eth\n",
    "    del v3[0]\n",
    "    new_v3=[]\n",
    "    pckt_lst=[]\n",
    "\n",
    "    try:\n",
    "        for x in range(0, len(v3)):\n",
    "            i = v3[x]\n",
    "            if 'Ether' in i:\n",
    "                # is packet\n",
    "                i = i.split(': [')\n",
    "\n",
    "                i = [i1 for i1 in i if i1]\n",
    "                #print(i, end = '\\n\\n')\n",
    "                if len(i)==1:\n",
    "                    # rem extra punc\n",
    "                    i = i[0].split('], ')\n",
    "                    i = i[0].split(']}')\n",
    "                    i = [i1 for i1 in i if i1]\n",
    "                    #print(i, end = '\\n\\n')\n",
    "                    if len(i)==1:\n",
    "                        x1=i[0].split(',') #pckts done\n",
    "\n",
    "                        v3[x]= dict({v3[x-1].replace(\"'\",\"\"): x1})\n",
    "                        del v3[x-1]\n",
    "                        #new_v3+=i\n",
    "                        #print(new_v3)\n",
    "                        #print(i, end = '\\n\\n')\n",
    "                    else:\n",
    "                        print('len(i)!=1')\n",
    "                else:\n",
    "                    print('len(i)!=1')\n",
    "            else:\n",
    "                print('NO ETHER-2')\n",
    "    except:\n",
    "        pass\n",
    "\n"
   ]
  },
  {
   "cell_type": "code",
   "execution_count": null,
   "metadata": {},
   "outputs": [],
   "source": []
  },
  {
   "cell_type": "code",
   "execution_count": null,
   "metadata": {},
   "outputs": [],
   "source": []
  }
 ],
 "metadata": {
  "kernelspec": {
   "display_name": "Python 3",
   "language": "python",
   "name": "python3"
  },
  "language_info": {
   "codemirror_mode": {
    "name": "ipython",
    "version": 3
   },
   "file_extension": ".py",
   "mimetype": "text/x-python",
   "name": "python",
   "nbconvert_exporter": "python",
   "pygments_lexer": "ipython3",
   "version": "3.6.8"
  }
 },
 "nbformat": 4,
 "nbformat_minor": 4
}
