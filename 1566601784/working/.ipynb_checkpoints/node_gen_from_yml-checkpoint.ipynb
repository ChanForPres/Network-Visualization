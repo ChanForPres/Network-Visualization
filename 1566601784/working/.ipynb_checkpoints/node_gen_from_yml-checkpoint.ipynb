{
 "cells": [
  {
   "cell_type": "markdown",
   "metadata": {},
   "source": [
    "### after 1) traffic_collect.sh 2) TrafficParse.ipynb 3) pkt_parse_done.ipynb\n",
    "IN THIS SECTION:\n",
    "    1) generate nodes using yml contents\n",
    "    \n",
    "    \n",
    "**TO FIX** itgen_peer_connections': {'node01': 'Po100'}}} needs   \n",
    "    {'node02': 'Eth1/10'}\n",
    "    {'node01': 'Po100'}** \n"
   ]
  },
  {
   "cell_type": "code",
   "execution_count": 18,
   "metadata": {},
   "outputs": [
    {
     "name": "stdout",
     "output_type": "stream",
     "text": [
      "The lab_black extension is already loaded. To reload it, use:\n",
      "  %reload_ext lab_black\n"
     ]
    }
   ],
   "source": [
    "%load_ext lab_black\n",
    "%reload_ext lab_black"
   ]
  },
  {
   "cell_type": "raw",
   "metadata": {},
   "source": [
    "GET INTF INFO FROM sanity.yml"
   ]
  },
  {
   "cell_type": "code",
   "execution_count": 19,
   "metadata": {},
   "outputs": [],
   "source": [
    "import yaml, subprocess, os, sys\n",
    "from os import environ\n",
    "import random"
   ]
  },
  {
   "cell_type": "code",
   "execution_count": 20,
   "metadata": {},
   "outputs": [
    {
     "data": {
      "text/plain": [
       "'sanity97-testbed.yml'"
      ]
     },
     "execution_count": 20,
     "metadata": {},
     "output_type": "execute_result"
    }
   ],
   "source": [
    "f = open(\"logfile_name.txt\", \"r\")\n",
    "tb_yml = f.read()\n",
    "tb_yml = tb_yml.rstrip(\"\\n\")\n",
    "tb_yml"
   ]
  },
  {
   "cell_type": "code",
   "execution_count": 21,
   "metadata": {},
   "outputs": [
    {
     "name": "stdout",
     "output_type": "stream",
     "text": [
      "None\n"
     ]
    }
   ],
   "source": [
    "with open(tb_yml, \"r\") as stream:\n",
    "    try:\n",
    "        parsed_yml = yaml.safe_load(stream)\n",
    "        print(yaml.safe_load(stream))\n",
    "    except yaml.YAMLError as exc:\n",
    "        print(exc)"
   ]
  },
  {
   "cell_type": "code",
   "execution_count": 36,
   "metadata": {},
   "outputs": [
    {
     "data": {
      "text/plain": [
       "'node01'"
      ]
     },
     "execution_count": 36,
     "metadata": {},
     "output_type": "execute_result"
    }
   ],
   "source": [
    "curr_node"
   ]
  },
  {
   "cell_type": "code",
   "execution_count": 38,
   "metadata": {},
   "outputs": [
    {
     "data": {
      "text/plain": [
       "'-name Eth2/1 -type ethernet -speed 40G -peer_device node02 -peer_interface Eth2/1'"
      ]
     },
     "execution_count": 38,
     "metadata": {},
     "output_type": "execute_result"
    }
   ],
   "source": [
    "g_node_dict[curr_node][\"interfaces\"][\"interface1\"]"
   ]
  },
  {
   "cell_type": "raw",
   "metadata": {},
   "source": [
    "g_node_dict = parsed_yml[\"node_dict\"]\n",
    "for curr_node in g_node_dict.keys():\n",
    "    for i in g_node_dict[curr_node][\"interfaces\"]:\n",
    "        print(i)\n",
    "        print(type(i))\n",
    "        peer_dev = g_node_dict[curr_node][\"interfaces\"][str(i)][\"peer_device\"]\n",
    "        peer_intf = g_node_dict[curr_node][\"interfaces\"][str(i)][\"peer_interface\"]\n",
    "        peer = ''\n",
    "        peer= peer_dev+\"-\"+peer_intf\n"
   ]
  },
  {
   "cell_type": "code",
   "execution_count": 23,
   "metadata": {
    "collapsed": true,
    "jupyter": {
     "outputs_hidden": true
    }
   },
   "outputs": [
    {
     "data": {
      "text/plain": [
       "{'node01': {'params': \"-name sanity97-tor1 -mgmt_ip_addr 172.31.203.80 -mgmt_prf_len 21 -gateway_addr 172.31.200.1 -sup1_con_ipaddr 172.31.146.72 -sup1_con_port 2008 -sup2_con_ipaddr NA -sup2_con_port NA -user_name admin -password insieme -device_type sTOR -pdu_list [('172.31.151.0',2)] -pwr_cycle True -clear_console True -model Firestone\",\n",
       "  'modules': None,\n",
       "  'interfaces': {'interface1': '-name Eth2/1 -type ethernet -speed 40G -peer_device node02 -peer_interface Eth2/1',\n",
       "   'interface2': '-name Eth2/12 -type ethernet -speed 40G -peer_device node02 -peer_interface Eth2/12',\n",
       "   'interface3': '-name Eth2/2 -type ethernet -speed 40G -peer_device node02 -peer_interface Eth2/2',\n",
       "   'interface4': '-name Eth1/2 -type ethernet -speed 10G -peer_device node03 -peer_interface Eth1/2',\n",
       "   'interface5': '-name Eth1/3 -type ethernet -speed 10G -peer_device node03 -peer_interface Eth1/3',\n",
       "   'interface6': '-name Eth1/10 -type ethernet -speed 10G -peer_device node03 -peer_interface Eth1/5',\n",
       "   'interface7': '-name Eth101/1/1 -type ethernet -speed 10G -peer_device node02 -peer_interface Eth1/2',\n",
       "   'interface8': '-name Eth101/1/2 -type ethernet -speed 10G -peer_device node03 -peer_interface Eth1/20',\n",
       "   'interface9': '-name Eth1/5/1 -type ethernet -speed 10G -peer_device tgn -peer_interface eth3',\n",
       "   'interface10': '-name Eth1/5/2 -type ethernet -speed 10G -peer_device tgn -peer_interface eth4',\n",
       "   'interface11': '-name Eth1/5/3 -type ethernet -speed 10G -peer_device tgn -peer_interface eth5',\n",
       "   'interface12': '-name Eth1/5/4 -type ethernet -speed 10G -peer_device tgn -peer_interface eth6',\n",
       "   'interface13': '-name Eth101/1/3 -type ethernet -speed 10G -peer_device node03 -peer_interface Eth2/1',\n",
       "   'interface14': '-name Eth101/1/4 -type ethernet -speed 10G -peer_device node03 -peer_interface Eth2/2',\n",
       "   'interface15': '-name Eth101/1/5 -type ethernet -speed 10G -peer_device tgn -peer_interface eth8',\n",
       "   'interface57': '-name Eth101/1/6 -type ethernet -speed 1G -peer_device tgn -peer_interface eth14',\n",
       "   'interface16': '-name Eth2/3 -type ethernet -speed 40G -peer_device node02 -peer_interface Eth2/3',\n",
       "   'interface17': '-name Eth1/15 -type ethernet -speed 10G -peer_device node02 -peer_interface Eth1/15',\n",
       "   'interface18': '-name Eth1/1 -type ethernet -speed 10G -peer_device node02 -peer_interface Eth1/1',\n",
       "   'interface19': '-name Eth1/8 -type ethernet -speed 10G -peer_device node02 -peer_interface Eth1/8',\n",
       "   'interface20': '-name Eth1/7 -type ethernet -speed 10G -peer_device node02 -peer_interface Eth1/7',\n",
       "   'interface21': '-name Eth2/4 -type ethernet -speed 40G -peer_device node02 -peer_interface Eth2/4',\n",
       "   'interface24': '-name Eth1/30 -type ethernet -speed 1G -peer_device node02 -peer_interface Eth1/30',\n",
       "   'interface25': '-name Eth1/17 -type ethernet -speed 1G -peer_device node02 -peer_interface Eth1/17',\n",
       "   'interface26': '-name Eth1/5/2 -type ethernet -speed 10G -peer_device node04 -peer_interface Eth1/27',\n",
       "   'interface27': '-name Eth1/11 -type ethernet -speed 10G -peer_device node04 -peer_interface Eth1/28',\n",
       "   'interface28': '-name Eth1/12 -type ethernet -speed 10G -peer_device node04 -peer_interface Eth1/29',\n",
       "   'interface29': '-name Eth2/5 -type ethernet -speed 40G -peer_device node03 -peer_interface Eth1/29',\n",
       "   'interface30': '-name Eth2/6 -type ethernet -speed 40G -peer_device node04 -peer_interface Eth2/6',\n",
       "   'interface31': '-name Eth2/7 -type ethernet -speed 40G -peer_device node03 -peer_interface Eth1/30',\n",
       "   'interface34': '-name Eth1/13 -type ethernet -speed 10G -peer_device node03 -peer_interface Eth1/13',\n",
       "   'interface35': '-name Eth101/1/10 -type ethernet -speed 10G -peer_device node02 -peer_interface Eth1/46',\n",
       "   'interface40': '-name Eth1/14 -type ethernet -speed 10G -peer_device node03 -peer_interface Eth1/14',\n",
       "   'interface41': '-name Eth1/5/3 -type ethernet -speed 40G -peer_device node04 -peer_interface Eth2/9',\n",
       "   'interface45': '-name Eth1/26 -type ethernet -speed 10G -peer_device node05 -peer_interface Eth1/26',\n",
       "   'interface46': '-name Eth1/27 -type ethernet -speed 10G -peer_device node05 -peer_interface Eth1/27',\n",
       "   'interface47': '-name Eth1/28 -type ethernet -speed 10G -peer_device node05 -peer_interface Eth1/28',\n",
       "   'interface48': '-name Eth1/29 -type ethernet -speed 10G -peer_device node05 -peer_interface Eth1/29',\n",
       "   'interface49': '-name Eth1/16 -type ethernet -speed 1G -peer_device node02 -peer_interface Eth1/16',\n",
       "   'interface51': '-name Eth1/4 -type ethernet -speed 10G -peer_device tgn -peer_interface eth9',\n",
       "   'interface52': '-name Eth1/10 -type ethernet -speed 10G -peer_device tgn -peer_interface eth10',\n",
       "   'interface53': '-name Eth1/6 -type ethernet -speed 10G -peer_device tgn -peer_interface eth11',\n",
       "   'interface54': '-name Eth1/7 -type ethernet -speed 10G -peer_device tgn -peer_interface eth12',\n",
       "   'interface56': '-name Eth101/1/5 -type ethernet -speed 1G -peer_device tgn -peer_interface eth8',\n",
       "   'interface58': '-name Eth102/1/7 -type ethernet -speed 1G -peer_device tgn -peer_interface eth15',\n",
       "   'interface59': '-name Eth102/1/8 -type ethernet -speed 1G -peer_device tgn -peer_interface eth16'}},\n",
       " 'node02': {'params': \"-name sanity97-tor2 -mgmt_ip_addr 172.31.203.81 -mgmt_prf_len 21 -gateway_addr 172.31.200.1 -sup1_con_ipaddr 172.31.146.72 -sup1_con_port 2007 -sup2_con_ipaddr NA -sup2_con_port NA -user_name admin -password insieme -device_type sTOR -pdu_list [('172.31.151.0',1)] -pwr_cycle True -clear_console True -model Firestone\",\n",
       "  'modules': None,\n",
       "  'interfaces': {'interface1': '-name Eth2/1 -type ethernet -speed 40G -peer_device node01 -peer_interface Eth2/1',\n",
       "   'interface2': '-name Eth2/12 -type ethernet -speed 40G -peer_device node01 -peer_interface Eth2/12',\n",
       "   'interface3': '-name Eth2/2 -type ethernet -speed 40G -peer_device node01 -peer_interface Eth2/2',\n",
       "   'interface4': '-name Eth2/6 -type ethernet -speed 10G -peer_device node03 -peer_interface Eth1/16',\n",
       "   'interface5': '-name Eth2/7 -type ethernet -speed 10G -peer_device node03 -peer_interface Eth1/17',\n",
       "   'interface6': '-name Eth1/2 -type ethernet -speed 10G -peer_device node01 -peer_interface Eth101/1/1',\n",
       "   'interface7': '-name Eth1/5/2 -type ethernet -speed 10G -peer_device tgn -peer_interface eth1',\n",
       "   'interface8': '-name Eth1/5/1 -type ethernet -speed 10G -peer_device tgn -peer_interface eth7',\n",
       "   'interface9': '-name Eth151/1/2 -type ethernet -speed 10G -peer_device node03 -peer_interface Eth1/5/2',\n",
       "   'interface10': '-name Eth151/1/3 -type ethernet -speed 10G -peer_device node03 -peer_interface Eth1/5/3',\n",
       "   'interface16': '-name Eth2/3 -type ethernet -speed 40G -peer_device node01 -peer_interface Eth2/3',\n",
       "   'interface17': '-name Eth1/15 -type ethernet -speed 10G -peer_device node01 -peer_interface Eth1/15',\n",
       "   'interface18': '-name Eth1/1 -type ethernet -speed 10G -peer_device node01 -peer_interface Eth1/1',\n",
       "   'interface19': '-name Eth1/8 -type ethernet -speed 10G -peer_device node01 -peer_interface Eth1/8',\n",
       "   'interface20': '-name Eth1/7 -type ethernet -speed 10G -peer_device node01 -peer_interface Eth1/7',\n",
       "   'interface21': '-name Eth2/4 -type ethernet -speed 40G -peer_device node01 -peer_interface Eth2/4',\n",
       "   'interface24': '-name Eth1/30 -type ethernet -speed 1G -peer_device node01 -peer_interface Eth1/30',\n",
       "   'interface25': '-name Eth1/17 -type ethernet -speed 1G -peer_device node01 -peer_interface Eth1/17',\n",
       "   'interface30': '-name Eth1/46 -type ethernet -speed 10G -peer_device node01 -peer_interface Eth101/1/10',\n",
       "   'interface33': '-name Eth2/10 -type ethernet -speed 40G -peer_device node03 -peer_interface Eth1/20',\n",
       "   'interface35': '-name Eth1/10 -type ethernet -speed 10G -peer_device node05 -peer_interface Eth1/5',\n",
       "   'interface36': '-name Eth1/20 -type ethernet -speed 10G -peer_device node05 -peer_interface Eth1/20',\n",
       "   'interface49': '-name Eth1/16 -type ethernet -speed 1G -peer_device node01 -peer_interface Eth1/16',\n",
       "   'interface70': '-name Eth2/8 -type ethernet -speed 10G -peer_device node03 -peer_interface Eth1/18',\n",
       "   'interface71': '-name Eth2/9 -type ethernet -speed 10G -peer_device node03 -peer_interface Eth1/19'}},\n",
       " 'node03': {'params': '-name sanity97-node03 -mgmt_ip_addr 172.31.203.82 -mgmt_prf_len 21 -gateway_addr 172.31.200.1 -sup1_con_ipaddr NA -sup1_con_port NA -sup2_con_ipaddr NA -sup2_con_port NA -user_name admin -password insieme -device_type N3K -clear_console True -model fanout',\n",
       "  'modules': None,\n",
       "  'interfaces': {'interface1': '-name Eth1/2 -type ethernet -speed 10G -peer_device node01 -peer_interface Eth1/2',\n",
       "   'interface2': '-name Eth1/3 -type ethernet -speed 10G -peer_device node01 -peer_interface Eth1/3',\n",
       "   'interface3': '-name Eth1/10 -type ethernet -speed 10G -peer_device node01 -peer_interface Eth1/5',\n",
       "   'interface4': '-name Eth1/16 -type ethernet -speed 10G -peer_device node02 -peer_interface Eth2/6',\n",
       "   'interface5': '-name Eth1/17 -type ethernet -speed 10G -peer_device node02 -peer_interface Eth2/7',\n",
       "   'interface6': '-name Eth1/20 -type ethernet -speed 10G -peer_device node01 -peer_interface Eth101/1/2',\n",
       "   'interface7': '-name Eth1/1/1 -type ethernet -speed 10G -peer_device tgn -peer_interface eth2',\n",
       "   'interface8': '-name Eth2/1 -type ethernet -speed 10G -peer_device node01 -peer_interface Eth101/1/3',\n",
       "   'interface9': '-name Eth2/2 -type ethernet -speed 10G -peer_device node01 -peer_interface Eth101/1/4',\n",
       "   'interface10': '-name Eth1/5/2 -type ethernet -speed 10G -peer_device node02 -peer_interface Eth151/1/2',\n",
       "   'interface11': '-name Eth1/5/3 -type ethernet -speed 10G -peer_device node02 -peer_interface Eth151/1/3',\n",
       "   'interface12': '-name Eth1/26 -type ethernet -speed 10G -peer_device node04 -peer_interface Eth1/30',\n",
       "   'interface13': '-name Eth1/27 -type ethernet -speed 10G -peer_device node04 -peer_interface Eth1/16',\n",
       "   'interface29': '-name Eth1/29 -type ethernet -speed 40G -peer_device node01 -peer_interface Eth2/5',\n",
       "   'interface30': '-name Eth1/30 -type ethernet -speed 40G -peer_device node01 -peer_interface Eth2/7',\n",
       "   'interface32': '-name Eth1/102 -type ethernet -speed 40G -peer_device node04 -peer_interface Eth2/1',\n",
       "   'interface33': '-name Eth1/20 -type ethernet -speed 40G -peer_device node02 -peer_interface Eth2/10',\n",
       "   'interface34': '-name Eth1/13 -type ethernet -speed 10G -peer_device node01 -peer_interface Eth1/13',\n",
       "   'interface40': '-name Eth1/14 -type ethernet -speed 10G -peer_device node01 -peer_interface Eth1/14',\n",
       "   'interface41': '-name Eth1/16 -type ethernet -speed 10G -peer_device node04 -peer_interface Eth1/17',\n",
       "   'interface70': '-name Eth1/18 -type ethernet -speed 10G -peer_device node02 -peer_interface Eth2/8',\n",
       "   'interface71': '-name Eth1/19 -type ethernet -speed 10G -peer_device node02 -peer_interface Eth2/9'}},\n",
       " 'tgn': {'params': '-name tgn -mgmt_ip_addr 172.31.201.110 -mgmt_prf_len 21 -gateway_addr 172.31.200.1 -sup1_con_ipaddr NA -sup1_con_port NA -sup2_con_ipaddr NA -sup2_con_port NA -user_name admin -password nbv_12345 -clear_console True -device_type itgen',\n",
       "  'interfaces': {'interface1': '-name eth3 -type ethernet -speed 10G -peer_device node01 -peer_interface Eth1/5/1 -itgen_peer_connections node01:Eth1/5/1',\n",
       "   'interface2': '-name eth4 -type ethernet -speed 10G -peer_device node01 -peer_interface Eth1/5/2 -itgen_peer_connections node01:Eth1/5/2',\n",
       "   'interface3': '-name eth2 -type ethernet -speed 10G -peer_device node03 -peer_interface Eth1/1/1',\n",
       "   'interface5': '-name eth1 -type ethernet -speed 10G -peer_device node02 -peer_interface Eth1/5/2 -itgen_peer_connections node02:Eth1/10,node01:Po100'}}}"
      ]
     },
     "execution_count": 23,
     "metadata": {},
     "output_type": "execute_result"
    }
   ],
   "source": [
    "parsed_yml[\"node_dict\"]"
   ]
  },
  {
   "cell_type": "code",
   "execution_count": 24,
   "metadata": {},
   "outputs": [
    {
     "data": {
      "text/plain": [
       "['node01', 'node02', 'node03', 'tgn']"
      ]
     },
     "execution_count": 24,
     "metadata": {},
     "output_type": "execute_result"
    }
   ],
   "source": [
    "sanity_nodes = parsed_yml[\"node_dict\"]\n",
    "list(sanity_nodes.keys())"
   ]
  },
  {
   "cell_type": "code",
   "execution_count": 25,
   "metadata": {},
   "outputs": [
    {
     "data": {
      "text/plain": [
       "dict_keys(['interface1', 'interface2', 'interface3', 'interface4', 'interface5', 'interface6', 'interface7', 'interface8', 'interface9', 'interface10', 'interface11', 'interface12', 'interface13', 'interface14', 'interface15', 'interface57', 'interface16', 'interface17', 'interface18', 'interface19', 'interface20', 'interface21', 'interface24', 'interface25', 'interface26', 'interface27', 'interface28', 'interface29', 'interface30', 'interface31', 'interface34', 'interface35', 'interface40', 'interface41', 'interface45', 'interface46', 'interface47', 'interface48', 'interface49', 'interface51', 'interface52', 'interface53', 'interface54', 'interface56', 'interface58', 'interface59'])"
      ]
     },
     "execution_count": 25,
     "metadata": {},
     "output_type": "execute_result"
    }
   ],
   "source": [
    "sanity_nodes[\"node01\"][\"interfaces\"].keys()"
   ]
  },
  {
   "cell_type": "code",
   "execution_count": 26,
   "metadata": {},
   "outputs": [
    {
     "data": {
      "text/plain": [
       "\"-name sanity97-tor1 -mgmt_ip_addr 172.31.203.80 -mgmt_prf_len 21 -gateway_addr 172.31.200.1 -sup1_con_ipaddr 172.31.146.72 -sup1_con_port 2008 -sup2_con_ipaddr NA -sup2_con_port NA -user_name admin -password insieme -device_type sTOR -pdu_list [('172.31.151.0',2)] -pwr_cycle True -clear_console True -model Firestone\""
      ]
     },
     "execution_count": 26,
     "metadata": {},
     "output_type": "execute_result"
    }
   ],
   "source": [
    "sanity_nodes[\"node01\"][\"params\"]\n",
    "\n",
    "# ['params']\n",
    "# ['interfaces']"
   ]
  },
  {
   "cell_type": "raw",
   "metadata": {},
   "source": [
    "ex = intf_list[0].split(\" \")\n",
    "ex =[i.replace(\"-\",\"\") for i in ex]\n",
    "ex"
   ]
  },
  {
   "cell_type": "raw",
   "metadata": {},
   "source": [
    "curr_node_dict = i+'_dict'"
   ]
  },
  {
   "cell_type": "code",
   "execution_count": 27,
   "metadata": {},
   "outputs": [],
   "source": [
    "# store eth info here\n",
    "node01_dict = {}\n",
    "\n",
    "# node01_dict[curr_eth]={}\n",
    "# node01_dict[curr_eth].update({v:w})\n",
    "# node01_dict[curr_eth][v].update({it[0]:it[1]})\n",
    "# node01_dict['eth3']\n",
    "node01_dict[\"Eth2/1\"] = {\"type\": \"ethernet\"}\n",
    "node01_dict[\"Eth2/1\"].update({\"peer_device\": \"node02\"})\n",
    "node01_dict[\"Eth2/1\"].update({\"peer_interface\": \"Eth2/1\"})\n",
    "\n",
    "tgn_dict = {}\n",
    "tgn_dict[\"eth3\"] = {\"peer_device\": \"node01\"}\n",
    "tgn_dict[\"eth3\"].update({\"peer_device\": \"node01\"})\n",
    "tgn_dict[\"eth3\"].update({\"peer_interface\": \"Eth1/5/1\"})\n",
    "tgn_dict\n",
    "\n",
    "new_intfs = {}\n",
    "# intf_dict= dict((x,y) for x,y in a)\n",
    "# eth_info_dict[curr_eth].update({v:w})"
   ]
  },
  {
   "cell_type": "markdown",
   "metadata": {},
   "source": [
    "dict((x,y) for x,y in i)"
   ]
  },
  {
   "cell_type": "code",
   "execution_count": 28,
   "metadata": {},
   "outputs": [
    {
     "name": "stdout",
     "output_type": "stream",
     "text": [
      "{'Eth2/1': {'type': 'ethernet', 'speed': '40G', 'peer_device': 'node02', 'peer_interface': 'Eth2/1'}, 'Eth2/12': {'type': 'ethernet', 'speed': '40G', 'peer_device': 'node02', 'peer_interface': 'Eth2/12'}, 'Eth2/2': {'type': 'ethernet', 'speed': '40G', 'peer_device': 'node02', 'peer_interface': 'Eth2/2'}, 'Eth1/2': {'type': 'ethernet', 'speed': '10G', 'peer_device': 'node03', 'peer_interface': 'Eth1/2'}, 'Eth1/3': {'type': 'ethernet', 'speed': '10G', 'peer_device': 'node03', 'peer_interface': 'Eth1/3'}, 'Eth1/10': {'type': 'ethernet', 'speed': '10G', 'peer_device': 'tgn', 'peer_interface': 'eth10'}, 'Eth101/1/1': {'type': 'ethernet', 'speed': '10G', 'peer_device': 'node02', 'peer_interface': 'Eth1/2'}, 'Eth101/1/2': {'type': 'ethernet', 'speed': '10G', 'peer_device': 'node03', 'peer_interface': 'Eth1/20'}, 'Eth1/5/1': {'type': 'ethernet', 'speed': '10G', 'peer_device': 'tgn', 'peer_interface': 'eth3'}, 'Eth1/5/2': {'type': 'ethernet', 'speed': '10G', 'peer_device': 'node04', 'peer_interface': 'Eth1/27'}, 'Eth1/5/3': {'type': 'ethernet', 'speed': '40G', 'peer_device': 'node04', 'peer_interface': 'Eth2/9'}, 'Eth1/5/4': {'type': 'ethernet', 'speed': '10G', 'peer_device': 'tgn', 'peer_interface': 'eth6'}, 'Eth101/1/3': {'type': 'ethernet', 'speed': '10G', 'peer_device': 'node03', 'peer_interface': 'Eth2/1'}, 'Eth101/1/4': {'type': 'ethernet', 'speed': '10G', 'peer_device': 'node03', 'peer_interface': 'Eth2/2'}, 'Eth101/1/5': {'type': 'ethernet', 'speed': '1G', 'peer_device': 'tgn', 'peer_interface': 'eth8'}, 'Eth101/1/6': {'type': 'ethernet', 'speed': '1G', 'peer_device': 'tgn', 'peer_interface': 'eth14'}, 'Eth2/3': {'type': 'ethernet', 'speed': '40G', 'peer_device': 'node02', 'peer_interface': 'Eth2/3'}, 'Eth1/15': {'type': 'ethernet', 'speed': '10G', 'peer_device': 'node02', 'peer_interface': 'Eth1/15'}, 'Eth1/1': {'type': 'ethernet', 'speed': '10G', 'peer_device': 'node02', 'peer_interface': 'Eth1/1'}, 'Eth1/8': {'type': 'ethernet', 'speed': '10G', 'peer_device': 'node02', 'peer_interface': 'Eth1/8'}, 'Eth1/7': {'type': 'ethernet', 'speed': '10G', 'peer_device': 'tgn', 'peer_interface': 'eth12'}, 'Eth2/4': {'type': 'ethernet', 'speed': '40G', 'peer_device': 'node02', 'peer_interface': 'Eth2/4'}, 'Eth1/30': {'type': 'ethernet', 'speed': '1G', 'peer_device': 'node02', 'peer_interface': 'Eth1/30'}, 'Eth1/17': {'type': 'ethernet', 'speed': '1G', 'peer_device': 'node02', 'peer_interface': 'Eth1/17'}, 'Eth1/11': {'type': 'ethernet', 'speed': '10G', 'peer_device': 'node04', 'peer_interface': 'Eth1/28'}, 'Eth1/12': {'type': 'ethernet', 'speed': '10G', 'peer_device': 'node04', 'peer_interface': 'Eth1/29'}, 'Eth2/5': {'type': 'ethernet', 'speed': '40G', 'peer_device': 'node03', 'peer_interface': 'Eth1/29'}, 'Eth2/6': {'type': 'ethernet', 'speed': '40G', 'peer_device': 'node04', 'peer_interface': 'Eth2/6'}, 'Eth2/7': {'type': 'ethernet', 'speed': '40G', 'peer_device': 'node03', 'peer_interface': 'Eth1/30'}, 'Eth1/13': {'type': 'ethernet', 'speed': '10G', 'peer_device': 'node03', 'peer_interface': 'Eth1/13'}, 'Eth101/1/10': {'type': 'ethernet', 'speed': '10G', 'peer_device': 'node02', 'peer_interface': 'Eth1/46'}, 'Eth1/14': {'type': 'ethernet', 'speed': '10G', 'peer_device': 'node03', 'peer_interface': 'Eth1/14'}, 'Eth1/26': {'type': 'ethernet', 'speed': '10G', 'peer_device': 'node05', 'peer_interface': 'Eth1/26'}, 'Eth1/27': {'type': 'ethernet', 'speed': '10G', 'peer_device': 'node05', 'peer_interface': 'Eth1/27'}, 'Eth1/28': {'type': 'ethernet', 'speed': '10G', 'peer_device': 'node05', 'peer_interface': 'Eth1/28'}, 'Eth1/29': {'type': 'ethernet', 'speed': '10G', 'peer_device': 'node05', 'peer_interface': 'Eth1/29'}, 'Eth1/16': {'type': 'ethernet', 'speed': '1G', 'peer_device': 'node02', 'peer_interface': 'Eth1/16'}, 'Eth1/4': {'type': 'ethernet', 'speed': '10G', 'peer_device': 'tgn', 'peer_interface': 'eth9'}, 'Eth1/6': {'type': 'ethernet', 'speed': '10G', 'peer_device': 'tgn', 'peer_interface': 'eth11'}, 'Eth102/1/7': {'type': 'ethernet', 'speed': '1G', 'peer_device': 'tgn', 'peer_interface': 'eth15'}, 'Eth102/1/8': {'type': 'ethernet', 'speed': '1G', 'peer_device': 'tgn', 'peer_interface': 'eth16'}}\n",
      "\n",
      "\n",
      "\n",
      "\n",
      "{'Eth2/1': {'type': 'ethernet', 'speed': '40G', 'peer_device': 'node01', 'peer_interface': 'Eth2/1'}, 'Eth2/12': {'type': 'ethernet', 'speed': '40G', 'peer_device': 'node01', 'peer_interface': 'Eth2/12'}, 'Eth2/2': {'type': 'ethernet', 'speed': '40G', 'peer_device': 'node01', 'peer_interface': 'Eth2/2'}, 'Eth2/6': {'type': 'ethernet', 'speed': '10G', 'peer_device': 'node03', 'peer_interface': 'Eth1/16'}, 'Eth2/7': {'type': 'ethernet', 'speed': '10G', 'peer_device': 'node03', 'peer_interface': 'Eth1/17'}, 'Eth1/2': {'type': 'ethernet', 'speed': '10G', 'peer_device': 'node01', 'peer_interface': 'Eth101/1/1'}, 'Eth1/5/2': {'type': 'ethernet', 'speed': '10G', 'peer_device': 'tgn', 'peer_interface': 'eth1'}, 'Eth1/5/1': {'type': 'ethernet', 'speed': '10G', 'peer_device': 'tgn', 'peer_interface': 'eth7'}, 'Eth151/1/2': {'type': 'ethernet', 'speed': '10G', 'peer_device': 'node03', 'peer_interface': 'Eth1/5/2'}, 'Eth151/1/3': {'type': 'ethernet', 'speed': '10G', 'peer_device': 'node03', 'peer_interface': 'Eth1/5/3'}, 'Eth2/3': {'type': 'ethernet', 'speed': '40G', 'peer_device': 'node01', 'peer_interface': 'Eth2/3'}, 'Eth1/15': {'type': 'ethernet', 'speed': '10G', 'peer_device': 'node01', 'peer_interface': 'Eth1/15'}, 'Eth1/1': {'type': 'ethernet', 'speed': '10G', 'peer_device': 'node01', 'peer_interface': 'Eth1/1'}, 'Eth1/8': {'type': 'ethernet', 'speed': '10G', 'peer_device': 'node01', 'peer_interface': 'Eth1/8'}, 'Eth1/7': {'type': 'ethernet', 'speed': '10G', 'peer_device': 'node01', 'peer_interface': 'Eth1/7'}, 'Eth2/4': {'type': 'ethernet', 'speed': '40G', 'peer_device': 'node01', 'peer_interface': 'Eth2/4'}, 'Eth1/30': {'type': 'ethernet', 'speed': '1G', 'peer_device': 'node01', 'peer_interface': 'Eth1/30'}, 'Eth1/17': {'type': 'ethernet', 'speed': '1G', 'peer_device': 'node01', 'peer_interface': 'Eth1/17'}, 'Eth1/46': {'type': 'ethernet', 'speed': '10G', 'peer_device': 'node01', 'peer_interface': 'Eth101/1/10'}, 'Eth2/10': {'type': 'ethernet', 'speed': '40G', 'peer_device': 'node03', 'peer_interface': 'Eth1/20'}, 'Eth1/10': {'type': 'ethernet', 'speed': '10G', 'peer_device': 'node05', 'peer_interface': 'Eth1/5'}, 'Eth1/20': {'type': 'ethernet', 'speed': '10G', 'peer_device': 'node05', 'peer_interface': 'Eth1/20'}, 'Eth1/16': {'type': 'ethernet', 'speed': '1G', 'peer_device': 'node01', 'peer_interface': 'Eth1/16'}, 'Eth2/8': {'type': 'ethernet', 'speed': '10G', 'peer_device': 'node03', 'peer_interface': 'Eth1/18'}, 'Eth2/9': {'type': 'ethernet', 'speed': '10G', 'peer_device': 'node03', 'peer_interface': 'Eth1/19'}}\n",
      "\n",
      "\n",
      "\n",
      "\n",
      "{'Eth1/2': {'type': 'ethernet', 'speed': '10G', 'peer_device': 'node01', 'peer_interface': 'Eth1/2'}, 'Eth1/3': {'type': 'ethernet', 'speed': '10G', 'peer_device': 'node01', 'peer_interface': 'Eth1/3'}, 'Eth1/10': {'type': 'ethernet', 'speed': '10G', 'peer_device': 'node01', 'peer_interface': 'Eth1/5'}, 'Eth1/16': {'type': 'ethernet', 'speed': '10G', 'peer_device': 'node04', 'peer_interface': 'Eth1/17'}, 'Eth1/17': {'type': 'ethernet', 'speed': '10G', 'peer_device': 'node02', 'peer_interface': 'Eth2/7'}, 'Eth1/20': {'type': 'ethernet', 'speed': '40G', 'peer_device': 'node02', 'peer_interface': 'Eth2/10'}, 'Eth1/1/1': {'type': 'ethernet', 'speed': '10G', 'peer_device': 'tgn', 'peer_interface': 'eth2'}, 'Eth2/1': {'type': 'ethernet', 'speed': '10G', 'peer_device': 'node01', 'peer_interface': 'Eth101/1/3'}, 'Eth2/2': {'type': 'ethernet', 'speed': '10G', 'peer_device': 'node01', 'peer_interface': 'Eth101/1/4'}, 'Eth1/5/2': {'type': 'ethernet', 'speed': '10G', 'peer_device': 'node02', 'peer_interface': 'Eth151/1/2'}, 'Eth1/5/3': {'type': 'ethernet', 'speed': '10G', 'peer_device': 'node02', 'peer_interface': 'Eth151/1/3'}, 'Eth1/26': {'type': 'ethernet', 'speed': '10G', 'peer_device': 'node04', 'peer_interface': 'Eth1/30'}, 'Eth1/27': {'type': 'ethernet', 'speed': '10G', 'peer_device': 'node04', 'peer_interface': 'Eth1/16'}, 'Eth1/29': {'type': 'ethernet', 'speed': '40G', 'peer_device': 'node01', 'peer_interface': 'Eth2/5'}, 'Eth1/30': {'type': 'ethernet', 'speed': '40G', 'peer_device': 'node01', 'peer_interface': 'Eth2/7'}, 'Eth1/102': {'type': 'ethernet', 'speed': '40G', 'peer_device': 'node04', 'peer_interface': 'Eth2/1'}, 'Eth1/13': {'type': 'ethernet', 'speed': '10G', 'peer_device': 'node01', 'peer_interface': 'Eth1/13'}, 'Eth1/14': {'type': 'ethernet', 'speed': '10G', 'peer_device': 'node01', 'peer_interface': 'Eth1/14'}, 'Eth1/18': {'type': 'ethernet', 'speed': '10G', 'peer_device': 'node02', 'peer_interface': 'Eth2/8'}, 'Eth1/19': {'type': 'ethernet', 'speed': '10G', 'peer_device': 'node02', 'peer_interface': 'Eth2/9'}}\n",
      "\n",
      "\n",
      "\n",
      "\n",
      "{'eth3': {'type': 'ethernet', 'speed': '10G', 'peer_device': 'node01', 'peer_interface': 'Eth1/5/1', 'itgen_peer_connections': 'node01:Eth1/5/1'}, 'eth4': {'type': 'ethernet', 'speed': '10G', 'peer_device': 'node01', 'peer_interface': 'Eth1/5/2', 'itgen_peer_connections': 'node01:Eth1/5/2'}, 'eth2': {'type': 'ethernet', 'speed': '10G', 'peer_device': 'node03', 'peer_interface': 'Eth1/1/1'}, 'eth1': {'type': 'ethernet', 'speed': '10G', 'peer_device': 'node02', 'peer_interface': 'Eth1/5/2', 'itgen_peer_connections': 'node02:Eth1/10,node01:Po100'}}\n",
      "\n",
      "\n",
      "\n",
      "\n"
     ]
    }
   ],
   "source": [
    "# ['node01', 'node02', 'node03', 'tgn']\n",
    "for i in list(sanity_nodes.keys()):\n",
    "    #     curr_node_dict = i+'_dict'\n",
    "\n",
    "    intf_list = list(sanity_nodes[i][\"interfaces\"].values())\n",
    "    #     print(intf_list)\n",
    "    new_intf_dict = {}\n",
    "\n",
    "    for j in intf_list:\n",
    "        j = j.split(\" \")\n",
    "        #         print(i)\n",
    "        intf_name = j[1]\n",
    "        #         print(intf_name)\n",
    "        attr_list1 = j[2:]\n",
    "        attr_list2 = []\n",
    "        for k in attr_list1:\n",
    "            k = k.replace(\"-\", \"\")\n",
    "            attr_list2.append(k)\n",
    "        #             print(k)\n",
    "\n",
    "        #         print(attr_list1)\n",
    "        #         print(attr_list2)\n",
    "        it = iter(attr_list2)\n",
    "        attr = dict(zip(it, it))\n",
    "        #         print(b)\n",
    "        new_intf = dict({intf_name: attr})\n",
    "        new_intf_dict[intf_name] = attr\n",
    "    #         print(new_intf)\n",
    "    print(new_intf_dict)\n",
    "    sanity_nodes[i][\"interfaces\"] = new_intf_dict\n",
    "    #     print()\n",
    "    print(\"\\n\\n\\n\")"
   ]
  },
  {
   "cell_type": "code",
   "execution_count": 29,
   "metadata": {},
   "outputs": [
    {
     "data": {
      "text/plain": [
       "{'params': \"-name sanity97-tor1 -mgmt_ip_addr 172.31.203.80 -mgmt_prf_len 21 -gateway_addr 172.31.200.1 -sup1_con_ipaddr 172.31.146.72 -sup1_con_port 2008 -sup2_con_ipaddr NA -sup2_con_port NA -user_name admin -password insieme -device_type sTOR -pdu_list [('172.31.151.0',2)] -pwr_cycle True -clear_console True -model Firestone\",\n",
       " 'modules': None,\n",
       " 'interfaces': {'Eth2/1': {'type': 'ethernet',\n",
       "   'speed': '40G',\n",
       "   'peer_device': 'node02',\n",
       "   'peer_interface': 'Eth2/1'},\n",
       "  'Eth2/12': {'type': 'ethernet',\n",
       "   'speed': '40G',\n",
       "   'peer_device': 'node02',\n",
       "   'peer_interface': 'Eth2/12'},\n",
       "  'Eth2/2': {'type': 'ethernet',\n",
       "   'speed': '40G',\n",
       "   'peer_device': 'node02',\n",
       "   'peer_interface': 'Eth2/2'},\n",
       "  'Eth1/2': {'type': 'ethernet',\n",
       "   'speed': '10G',\n",
       "   'peer_device': 'node03',\n",
       "   'peer_interface': 'Eth1/2'},\n",
       "  'Eth1/3': {'type': 'ethernet',\n",
       "   'speed': '10G',\n",
       "   'peer_device': 'node03',\n",
       "   'peer_interface': 'Eth1/3'},\n",
       "  'Eth1/10': {'type': 'ethernet',\n",
       "   'speed': '10G',\n",
       "   'peer_device': 'tgn',\n",
       "   'peer_interface': 'eth10'},\n",
       "  'Eth101/1/1': {'type': 'ethernet',\n",
       "   'speed': '10G',\n",
       "   'peer_device': 'node02',\n",
       "   'peer_interface': 'Eth1/2'},\n",
       "  'Eth101/1/2': {'type': 'ethernet',\n",
       "   'speed': '10G',\n",
       "   'peer_device': 'node03',\n",
       "   'peer_interface': 'Eth1/20'},\n",
       "  'Eth1/5/1': {'type': 'ethernet',\n",
       "   'speed': '10G',\n",
       "   'peer_device': 'tgn',\n",
       "   'peer_interface': 'eth3'},\n",
       "  'Eth1/5/2': {'type': 'ethernet',\n",
       "   'speed': '10G',\n",
       "   'peer_device': 'node04',\n",
       "   'peer_interface': 'Eth1/27'},\n",
       "  'Eth1/5/3': {'type': 'ethernet',\n",
       "   'speed': '40G',\n",
       "   'peer_device': 'node04',\n",
       "   'peer_interface': 'Eth2/9'},\n",
       "  'Eth1/5/4': {'type': 'ethernet',\n",
       "   'speed': '10G',\n",
       "   'peer_device': 'tgn',\n",
       "   'peer_interface': 'eth6'},\n",
       "  'Eth101/1/3': {'type': 'ethernet',\n",
       "   'speed': '10G',\n",
       "   'peer_device': 'node03',\n",
       "   'peer_interface': 'Eth2/1'},\n",
       "  'Eth101/1/4': {'type': 'ethernet',\n",
       "   'speed': '10G',\n",
       "   'peer_device': 'node03',\n",
       "   'peer_interface': 'Eth2/2'},\n",
       "  'Eth101/1/5': {'type': 'ethernet',\n",
       "   'speed': '1G',\n",
       "   'peer_device': 'tgn',\n",
       "   'peer_interface': 'eth8'},\n",
       "  'Eth101/1/6': {'type': 'ethernet',\n",
       "   'speed': '1G',\n",
       "   'peer_device': 'tgn',\n",
       "   'peer_interface': 'eth14'},\n",
       "  'Eth2/3': {'type': 'ethernet',\n",
       "   'speed': '40G',\n",
       "   'peer_device': 'node02',\n",
       "   'peer_interface': 'Eth2/3'},\n",
       "  'Eth1/15': {'type': 'ethernet',\n",
       "   'speed': '10G',\n",
       "   'peer_device': 'node02',\n",
       "   'peer_interface': 'Eth1/15'},\n",
       "  'Eth1/1': {'type': 'ethernet',\n",
       "   'speed': '10G',\n",
       "   'peer_device': 'node02',\n",
       "   'peer_interface': 'Eth1/1'},\n",
       "  'Eth1/8': {'type': 'ethernet',\n",
       "   'speed': '10G',\n",
       "   'peer_device': 'node02',\n",
       "   'peer_interface': 'Eth1/8'},\n",
       "  'Eth1/7': {'type': 'ethernet',\n",
       "   'speed': '10G',\n",
       "   'peer_device': 'tgn',\n",
       "   'peer_interface': 'eth12'},\n",
       "  'Eth2/4': {'type': 'ethernet',\n",
       "   'speed': '40G',\n",
       "   'peer_device': 'node02',\n",
       "   'peer_interface': 'Eth2/4'},\n",
       "  'Eth1/30': {'type': 'ethernet',\n",
       "   'speed': '1G',\n",
       "   'peer_device': 'node02',\n",
       "   'peer_interface': 'Eth1/30'},\n",
       "  'Eth1/17': {'type': 'ethernet',\n",
       "   'speed': '1G',\n",
       "   'peer_device': 'node02',\n",
       "   'peer_interface': 'Eth1/17'},\n",
       "  'Eth1/11': {'type': 'ethernet',\n",
       "   'speed': '10G',\n",
       "   'peer_device': 'node04',\n",
       "   'peer_interface': 'Eth1/28'},\n",
       "  'Eth1/12': {'type': 'ethernet',\n",
       "   'speed': '10G',\n",
       "   'peer_device': 'node04',\n",
       "   'peer_interface': 'Eth1/29'},\n",
       "  'Eth2/5': {'type': 'ethernet',\n",
       "   'speed': '40G',\n",
       "   'peer_device': 'node03',\n",
       "   'peer_interface': 'Eth1/29'},\n",
       "  'Eth2/6': {'type': 'ethernet',\n",
       "   'speed': '40G',\n",
       "   'peer_device': 'node04',\n",
       "   'peer_interface': 'Eth2/6'},\n",
       "  'Eth2/7': {'type': 'ethernet',\n",
       "   'speed': '40G',\n",
       "   'peer_device': 'node03',\n",
       "   'peer_interface': 'Eth1/30'},\n",
       "  'Eth1/13': {'type': 'ethernet',\n",
       "   'speed': '10G',\n",
       "   'peer_device': 'node03',\n",
       "   'peer_interface': 'Eth1/13'},\n",
       "  'Eth101/1/10': {'type': 'ethernet',\n",
       "   'speed': '10G',\n",
       "   'peer_device': 'node02',\n",
       "   'peer_interface': 'Eth1/46'},\n",
       "  'Eth1/14': {'type': 'ethernet',\n",
       "   'speed': '10G',\n",
       "   'peer_device': 'node03',\n",
       "   'peer_interface': 'Eth1/14'},\n",
       "  'Eth1/26': {'type': 'ethernet',\n",
       "   'speed': '10G',\n",
       "   'peer_device': 'node05',\n",
       "   'peer_interface': 'Eth1/26'},\n",
       "  'Eth1/27': {'type': 'ethernet',\n",
       "   'speed': '10G',\n",
       "   'peer_device': 'node05',\n",
       "   'peer_interface': 'Eth1/27'},\n",
       "  'Eth1/28': {'type': 'ethernet',\n",
       "   'speed': '10G',\n",
       "   'peer_device': 'node05',\n",
       "   'peer_interface': 'Eth1/28'},\n",
       "  'Eth1/29': {'type': 'ethernet',\n",
       "   'speed': '10G',\n",
       "   'peer_device': 'node05',\n",
       "   'peer_interface': 'Eth1/29'},\n",
       "  'Eth1/16': {'type': 'ethernet',\n",
       "   'speed': '1G',\n",
       "   'peer_device': 'node02',\n",
       "   'peer_interface': 'Eth1/16'},\n",
       "  'Eth1/4': {'type': 'ethernet',\n",
       "   'speed': '10G',\n",
       "   'peer_device': 'tgn',\n",
       "   'peer_interface': 'eth9'},\n",
       "  'Eth1/6': {'type': 'ethernet',\n",
       "   'speed': '10G',\n",
       "   'peer_device': 'tgn',\n",
       "   'peer_interface': 'eth11'},\n",
       "  'Eth102/1/7': {'type': 'ethernet',\n",
       "   'speed': '1G',\n",
       "   'peer_device': 'tgn',\n",
       "   'peer_interface': 'eth15'},\n",
       "  'Eth102/1/8': {'type': 'ethernet',\n",
       "   'speed': '1G',\n",
       "   'peer_device': 'tgn',\n",
       "   'peer_interface': 'eth16'}}}"
      ]
     },
     "execution_count": 29,
     "metadata": {},
     "output_type": "execute_result"
    }
   ],
   "source": [
    "sanity_nodes[\"node01\"]"
   ]
  },
  {
   "cell_type": "raw",
   "metadata": {},
   "source": [
    "NODE FORMAT IN JSON\n",
    "{\"label\": \"00:00:44:44:30:01\", \"id\": \"00:00:44:44:30:01\", \"color\": \"#fbf891\", \"attributes\": {\"type\": \"0x800\", \"IP src\": \"172.17.1.1\", \"dst\": \"172.17.2.1\"}, \"channel\": \"eth4\", \"x\": 2100, \"y\": -3658, \"size\": 202}\n",
    "\n",
    "{\"label\": \"node03\", \"id\": \"node03\", \"color\": \"#fbf891\", \"attributes\": {\"type\": \"0x800\", \"IP src\": \"172.17.1.1\", \"dst\": \"172.17.2.1\"}, \"channel\": \"eth4\", \"x\": 2100, \"y\": -3658, \"size\": 202}"
   ]
  },
  {
   "cell_type": "code",
   "execution_count": 30,
   "metadata": {},
   "outputs": [
    {
     "name": "stdout",
     "output_type": "stream",
     "text": [
      "{'label': 'node02-Eth2/1', 'id': 'node02-Eth2/1', 'color': '#d2bf5f', 'attributes': {}, 'channel': None, 'x': 2849, 'y': 2875, 'size': 410}\n",
      "{'label': 'node02-Eth2/12', 'id': 'node02-Eth2/12', 'color': '#a20460', 'attributes': {}, 'channel': None, 'x': 664, 'y': 2121, 'size': 392}\n",
      "{'label': 'node02-Eth2/2', 'id': 'node02-Eth2/2', 'color': '#de5e9f', 'attributes': {}, 'channel': None, 'x': 3629, 'y': -699, 'size': 359}\n",
      "{'label': 'node03-Eth1/2', 'id': 'node03-Eth1/2', 'color': '#ab645c', 'attributes': {}, 'channel': None, 'x': 3202, 'y': 2971, 'size': 420}\n",
      "{'label': 'node03-Eth1/3', 'id': 'node03-Eth1/3', 'color': '#43bfc3', 'attributes': {}, 'channel': None, 'x': -1017, 'y': 2520, 'size': 393}\n",
      "{'label': 'tgn-eth10', 'id': 'tgn-eth10', 'color': '#0aae32', 'attributes': {}, 'channel': None, 'x': 1959, 'y': -1029, 'size': 419}\n",
      "{'label': 'node02-Eth1/2', 'id': 'node02-Eth1/2', 'color': '#94cbf4', 'attributes': {}, 'channel': None, 'x': 1386, 'y': -199, 'size': 394}\n",
      "{'label': 'node03-Eth1/20', 'id': 'node03-Eth1/20', 'color': '#d7ef56', 'attributes': {}, 'channel': None, 'x': 3770, 'y': -389, 'size': 412}\n",
      "{'label': 'tgn-eth3', 'id': 'tgn-eth3', 'color': '#8ffac4', 'attributes': {}, 'channel': None, 'x': -2316, 'y': -1094, 'size': 341}\n",
      "{'label': 'node04-Eth1/27', 'id': 'node04-Eth1/27', 'color': '#63350e', 'attributes': {}, 'channel': None, 'x': 1690, 'y': 835, 'size': 496}\n",
      "{'label': 'node04-Eth2/9', 'id': 'node04-Eth2/9', 'color': '#851102', 'attributes': {}, 'channel': None, 'x': 254, 'y': -3214, 'size': 304}\n",
      "{'label': 'tgn-eth6', 'id': 'tgn-eth6', 'color': '#340cc4', 'attributes': {}, 'channel': None, 'x': -2047, 'y': -1798, 'size': 489}\n",
      "{'label': 'node03-Eth2/1', 'id': 'node03-Eth2/1', 'color': '#f6890d', 'attributes': {}, 'channel': None, 'x': 252, 'y': 2747, 'size': 409}\n",
      "{'label': 'node03-Eth2/2', 'id': 'node03-Eth2/2', 'color': '#30f90f', 'attributes': {}, 'channel': None, 'x': -3069, 'y': 1872, 'size': 487}\n",
      "{'label': 'tgn-eth8', 'id': 'tgn-eth8', 'color': '#0f8e69', 'attributes': {}, 'channel': None, 'x': -191, 'y': 788, 'size': 373}\n",
      "{'label': 'tgn-eth14', 'id': 'tgn-eth14', 'color': '#cdb191', 'attributes': {}, 'channel': None, 'x': 2641, 'y': -1374, 'size': 440}\n",
      "{'label': 'node02-Eth2/3', 'id': 'node02-Eth2/3', 'color': '#255be5', 'attributes': {}, 'channel': None, 'x': -2394, 'y': -739, 'size': 499}\n",
      "{'label': 'node02-Eth1/15', 'id': 'node02-Eth1/15', 'color': '#400173', 'attributes': {}, 'channel': None, 'x': -597, 'y': -2041, 'size': 404}\n",
      "{'label': 'node02-Eth1/1', 'id': 'node02-Eth1/1', 'color': '#ddeda8', 'attributes': {}, 'channel': None, 'x': 2906, 'y': 1545, 'size': 450}\n",
      "{'label': 'node02-Eth1/8', 'id': 'node02-Eth1/8', 'color': '#d483df', 'attributes': {}, 'channel': None, 'x': 3517, 'y': 1330, 'size': 303}\n",
      "{'label': 'tgn-eth12', 'id': 'tgn-eth12', 'color': '#13a884', 'attributes': {}, 'channel': None, 'x': -2428, 'y': 433, 'size': 360}\n",
      "{'label': 'node02-Eth2/4', 'id': 'node02-Eth2/4', 'color': '#a6e426', 'attributes': {}, 'channel': None, 'x': -3375, 'y': 3519, 'size': 315}\n",
      "{'label': 'node02-Eth1/30', 'id': 'node02-Eth1/30', 'color': '#dcd038', 'attributes': {}, 'channel': None, 'x': -2645, 'y': -3343, 'size': 428}\n",
      "{'label': 'node02-Eth1/17', 'id': 'node02-Eth1/17', 'color': '#c270bf', 'attributes': {}, 'channel': None, 'x': 2680, 'y': -2780, 'size': 468}\n",
      "{'label': 'node04-Eth1/28', 'id': 'node04-Eth1/28', 'color': '#efa522', 'attributes': {}, 'channel': None, 'x': -110, 'y': -1278, 'size': 394}\n",
      "{'label': 'node04-Eth1/29', 'id': 'node04-Eth1/29', 'color': '#9d405e', 'attributes': {}, 'channel': None, 'x': 1735, 'y': -3777, 'size': 454}\n",
      "{'label': 'node03-Eth1/29', 'id': 'node03-Eth1/29', 'color': '#b79f55', 'attributes': {}, 'channel': None, 'x': -271, 'y': -2686, 'size': 301}\n",
      "{'label': 'node04-Eth2/6', 'id': 'node04-Eth2/6', 'color': '#b7228a', 'attributes': {}, 'channel': None, 'x': 3110, 'y': 576, 'size': 381}\n",
      "{'label': 'node03-Eth1/30', 'id': 'node03-Eth1/30', 'color': '#62801a', 'attributes': {}, 'channel': None, 'x': -3995, 'y': 3598, 'size': 340}\n",
      "{'label': 'node03-Eth1/13', 'id': 'node03-Eth1/13', 'color': '#f8f2f5', 'attributes': {}, 'channel': None, 'x': -1340, 'y': 2303, 'size': 448}\n",
      "{'label': 'node02-Eth1/46', 'id': 'node02-Eth1/46', 'color': '#a7a022', 'attributes': {}, 'channel': None, 'x': 1686, 'y': 2294, 'size': 302}\n",
      "{'label': 'node03-Eth1/14', 'id': 'node03-Eth1/14', 'color': '#7d6021', 'attributes': {}, 'channel': None, 'x': 1692, 'y': 3376, 'size': 384}\n",
      "{'label': 'node05-Eth1/26', 'id': 'node05-Eth1/26', 'color': '#3367a9', 'attributes': {}, 'channel': None, 'x': -2533, 'y': -1820, 'size': 367}\n",
      "{'label': 'node05-Eth1/27', 'id': 'node05-Eth1/27', 'color': '#7b1ded', 'attributes': {}, 'channel': None, 'x': 146, 'y': 1307, 'size': 326}\n",
      "{'label': 'node05-Eth1/28', 'id': 'node05-Eth1/28', 'color': '#90d572', 'attributes': {}, 'channel': None, 'x': -846, 'y': -3861, 'size': 493}\n",
      "{'label': 'node05-Eth1/29', 'id': 'node05-Eth1/29', 'color': '#bd90d6', 'attributes': {}, 'channel': None, 'x': -835, 'y': -1728, 'size': 427}\n",
      "{'label': 'node02-Eth1/16', 'id': 'node02-Eth1/16', 'color': '#20188a', 'attributes': {}, 'channel': None, 'x': -1745, 'y': 2978, 'size': 327}\n",
      "{'label': 'tgn-eth9', 'id': 'tgn-eth9', 'color': '#fec446', 'attributes': {}, 'channel': None, 'x': -842, 'y': -2275, 'size': 315}\n",
      "{'label': 'tgn-eth11', 'id': 'tgn-eth11', 'color': '#668fd6', 'attributes': {}, 'channel': None, 'x': 2393, 'y': -3924, 'size': 390}\n",
      "{'label': 'tgn-eth15', 'id': 'tgn-eth15', 'color': '#075825', 'attributes': {}, 'channel': None, 'x': 1629, 'y': -223, 'size': 328}\n",
      "{'label': 'tgn-eth16', 'id': 'tgn-eth16', 'color': '#8f31ea', 'attributes': {}, 'channel': None, 'x': 3439, 'y': -1396, 'size': 310}\n"
     ]
    }
   ],
   "source": [
    "# INTF_GEN\n",
    "#    'peer_device': 'node02',\n",
    "#    'peer_interface': 'Eth2/1'},\n",
    "\n",
    "for i in sanity_nodes[\"node01\"][\"interfaces\"]:\n",
    "    curr_intf = i  # ie Eth2/1\n",
    "    #     print(curr_intf)\n",
    "    peer = (\n",
    "        sanity_nodes[\"node01\"][\"interfaces\"][i][\"peer_device\"]\n",
    "        + \"-\"\n",
    "        + sanity_nodes[\"node01\"][\"interfaces\"][i][\"peer_interface\"]\n",
    "    )  # ie node02-Eth2/1\n",
    "    #     print(peer) # node02-Eth2/1\n",
    "\n",
    "    node = {}\n",
    "    edge = {}\n",
    "    node_attr = {}\n",
    "    edge_attr = {}\n",
    "\n",
    "    #     node_attr = sanity_nodes[i]\n",
    "\n",
    "    node[\"label\"] = str(peer)\n",
    "    node[\"id\"] = str(peer)\n",
    "    node[\"color\".replace(\"'\", '\"')] = \"#\" + \"%06x\" % random.randint(0, 0xFFFFFF)\n",
    "    node[\"attributes\"] = node_attr\n",
    "    node[\"channel\"] = None\n",
    "    node[\"x\"] = random.randint(-4000, 4000)\n",
    "    node[\"y\"] = random.randint(-4000, 4000)\n",
    "    node[\"size\"] = random.randint(300, 500)\n",
    "    print(node)"
   ]
  },
  {
   "cell_type": "code",
   "execution_count": 31,
   "metadata": {},
   "outputs": [
    {
     "name": "stdout",
     "output_type": "stream",
     "text": [
      "{'label': 'node01', 'id': 'node01', 'color': '#731702', 'attributes': {'params': \"-name sanity97-tor1 -mgmt_ip_addr 172.31.203.80 -mgmt_prf_len 21 -gateway_addr 172.31.200.1 -sup1_con_ipaddr 172.31.146.72 -sup1_con_port 2008 -sup2_con_ipaddr NA -sup2_con_port NA -user_name admin -password insieme -device_type sTOR -pdu_list [('172.31.151.0',2)] -pwr_cycle True -clear_console True -model Firestone\", 'modules': None, 'interfaces': {'Eth2/1': {'type': 'ethernet', 'speed': '40G', 'peer_device': 'node02', 'peer_interface': 'Eth2/1'}, 'Eth2/12': {'type': 'ethernet', 'speed': '40G', 'peer_device': 'node02', 'peer_interface': 'Eth2/12'}, 'Eth2/2': {'type': 'ethernet', 'speed': '40G', 'peer_device': 'node02', 'peer_interface': 'Eth2/2'}, 'Eth1/2': {'type': 'ethernet', 'speed': '10G', 'peer_device': 'node03', 'peer_interface': 'Eth1/2'}, 'Eth1/3': {'type': 'ethernet', 'speed': '10G', 'peer_device': 'node03', 'peer_interface': 'Eth1/3'}, 'Eth1/10': {'type': 'ethernet', 'speed': '10G', 'peer_device': 'tgn', 'peer_interface': 'eth10'}, 'Eth101/1/1': {'type': 'ethernet', 'speed': '10G', 'peer_device': 'node02', 'peer_interface': 'Eth1/2'}, 'Eth101/1/2': {'type': 'ethernet', 'speed': '10G', 'peer_device': 'node03', 'peer_interface': 'Eth1/20'}, 'Eth1/5/1': {'type': 'ethernet', 'speed': '10G', 'peer_device': 'tgn', 'peer_interface': 'eth3'}, 'Eth1/5/2': {'type': 'ethernet', 'speed': '10G', 'peer_device': 'node04', 'peer_interface': 'Eth1/27'}, 'Eth1/5/3': {'type': 'ethernet', 'speed': '40G', 'peer_device': 'node04', 'peer_interface': 'Eth2/9'}, 'Eth1/5/4': {'type': 'ethernet', 'speed': '10G', 'peer_device': 'tgn', 'peer_interface': 'eth6'}, 'Eth101/1/3': {'type': 'ethernet', 'speed': '10G', 'peer_device': 'node03', 'peer_interface': 'Eth2/1'}, 'Eth101/1/4': {'type': 'ethernet', 'speed': '10G', 'peer_device': 'node03', 'peer_interface': 'Eth2/2'}, 'Eth101/1/5': {'type': 'ethernet', 'speed': '1G', 'peer_device': 'tgn', 'peer_interface': 'eth8'}, 'Eth101/1/6': {'type': 'ethernet', 'speed': '1G', 'peer_device': 'tgn', 'peer_interface': 'eth14'}, 'Eth2/3': {'type': 'ethernet', 'speed': '40G', 'peer_device': 'node02', 'peer_interface': 'Eth2/3'}, 'Eth1/15': {'type': 'ethernet', 'speed': '10G', 'peer_device': 'node02', 'peer_interface': 'Eth1/15'}, 'Eth1/1': {'type': 'ethernet', 'speed': '10G', 'peer_device': 'node02', 'peer_interface': 'Eth1/1'}, 'Eth1/8': {'type': 'ethernet', 'speed': '10G', 'peer_device': 'node02', 'peer_interface': 'Eth1/8'}, 'Eth1/7': {'type': 'ethernet', 'speed': '10G', 'peer_device': 'tgn', 'peer_interface': 'eth12'}, 'Eth2/4': {'type': 'ethernet', 'speed': '40G', 'peer_device': 'node02', 'peer_interface': 'Eth2/4'}, 'Eth1/30': {'type': 'ethernet', 'speed': '1G', 'peer_device': 'node02', 'peer_interface': 'Eth1/30'}, 'Eth1/17': {'type': 'ethernet', 'speed': '1G', 'peer_device': 'node02', 'peer_interface': 'Eth1/17'}, 'Eth1/11': {'type': 'ethernet', 'speed': '10G', 'peer_device': 'node04', 'peer_interface': 'Eth1/28'}, 'Eth1/12': {'type': 'ethernet', 'speed': '10G', 'peer_device': 'node04', 'peer_interface': 'Eth1/29'}, 'Eth2/5': {'type': 'ethernet', 'speed': '40G', 'peer_device': 'node03', 'peer_interface': 'Eth1/29'}, 'Eth2/6': {'type': 'ethernet', 'speed': '40G', 'peer_device': 'node04', 'peer_interface': 'Eth2/6'}, 'Eth2/7': {'type': 'ethernet', 'speed': '40G', 'peer_device': 'node03', 'peer_interface': 'Eth1/30'}, 'Eth1/13': {'type': 'ethernet', 'speed': '10G', 'peer_device': 'node03', 'peer_interface': 'Eth1/13'}, 'Eth101/1/10': {'type': 'ethernet', 'speed': '10G', 'peer_device': 'node02', 'peer_interface': 'Eth1/46'}, 'Eth1/14': {'type': 'ethernet', 'speed': '10G', 'peer_device': 'node03', 'peer_interface': 'Eth1/14'}, 'Eth1/26': {'type': 'ethernet', 'speed': '10G', 'peer_device': 'node05', 'peer_interface': 'Eth1/26'}, 'Eth1/27': {'type': 'ethernet', 'speed': '10G', 'peer_device': 'node05', 'peer_interface': 'Eth1/27'}, 'Eth1/28': {'type': 'ethernet', 'speed': '10G', 'peer_device': 'node05', 'peer_interface': 'Eth1/28'}, 'Eth1/29': {'type': 'ethernet', 'speed': '10G', 'peer_device': 'node05', 'peer_interface': 'Eth1/29'}, 'Eth1/16': {'type': 'ethernet', 'speed': '1G', 'peer_device': 'node02', 'peer_interface': 'Eth1/16'}, 'Eth1/4': {'type': 'ethernet', 'speed': '10G', 'peer_device': 'tgn', 'peer_interface': 'eth9'}, 'Eth1/6': {'type': 'ethernet', 'speed': '10G', 'peer_device': 'tgn', 'peer_interface': 'eth11'}, 'Eth102/1/7': {'type': 'ethernet', 'speed': '1G', 'peer_device': 'tgn', 'peer_interface': 'eth15'}, 'Eth102/1/8': {'type': 'ethernet', 'speed': '1G', 'peer_device': 'tgn', 'peer_interface': 'eth16'}}}, 'channel': None, 'x': 3559, 'y': -2833, 'size': 144}\n",
      "{'label': 'node02', 'id': 'node02', 'color': '#e0431d', 'attributes': {'params': \"-name sanity97-tor2 -mgmt_ip_addr 172.31.203.81 -mgmt_prf_len 21 -gateway_addr 172.31.200.1 -sup1_con_ipaddr 172.31.146.72 -sup1_con_port 2007 -sup2_con_ipaddr NA -sup2_con_port NA -user_name admin -password insieme -device_type sTOR -pdu_list [('172.31.151.0',1)] -pwr_cycle True -clear_console True -model Firestone\", 'modules': None, 'interfaces': {'Eth2/1': {'type': 'ethernet', 'speed': '40G', 'peer_device': 'node01', 'peer_interface': 'Eth2/1'}, 'Eth2/12': {'type': 'ethernet', 'speed': '40G', 'peer_device': 'node01', 'peer_interface': 'Eth2/12'}, 'Eth2/2': {'type': 'ethernet', 'speed': '40G', 'peer_device': 'node01', 'peer_interface': 'Eth2/2'}, 'Eth2/6': {'type': 'ethernet', 'speed': '10G', 'peer_device': 'node03', 'peer_interface': 'Eth1/16'}, 'Eth2/7': {'type': 'ethernet', 'speed': '10G', 'peer_device': 'node03', 'peer_interface': 'Eth1/17'}, 'Eth1/2': {'type': 'ethernet', 'speed': '10G', 'peer_device': 'node01', 'peer_interface': 'Eth101/1/1'}, 'Eth1/5/2': {'type': 'ethernet', 'speed': '10G', 'peer_device': 'tgn', 'peer_interface': 'eth1'}, 'Eth1/5/1': {'type': 'ethernet', 'speed': '10G', 'peer_device': 'tgn', 'peer_interface': 'eth7'}, 'Eth151/1/2': {'type': 'ethernet', 'speed': '10G', 'peer_device': 'node03', 'peer_interface': 'Eth1/5/2'}, 'Eth151/1/3': {'type': 'ethernet', 'speed': '10G', 'peer_device': 'node03', 'peer_interface': 'Eth1/5/3'}, 'Eth2/3': {'type': 'ethernet', 'speed': '40G', 'peer_device': 'node01', 'peer_interface': 'Eth2/3'}, 'Eth1/15': {'type': 'ethernet', 'speed': '10G', 'peer_device': 'node01', 'peer_interface': 'Eth1/15'}, 'Eth1/1': {'type': 'ethernet', 'speed': '10G', 'peer_device': 'node01', 'peer_interface': 'Eth1/1'}, 'Eth1/8': {'type': 'ethernet', 'speed': '10G', 'peer_device': 'node01', 'peer_interface': 'Eth1/8'}, 'Eth1/7': {'type': 'ethernet', 'speed': '10G', 'peer_device': 'node01', 'peer_interface': 'Eth1/7'}, 'Eth2/4': {'type': 'ethernet', 'speed': '40G', 'peer_device': 'node01', 'peer_interface': 'Eth2/4'}, 'Eth1/30': {'type': 'ethernet', 'speed': '1G', 'peer_device': 'node01', 'peer_interface': 'Eth1/30'}, 'Eth1/17': {'type': 'ethernet', 'speed': '1G', 'peer_device': 'node01', 'peer_interface': 'Eth1/17'}, 'Eth1/46': {'type': 'ethernet', 'speed': '10G', 'peer_device': 'node01', 'peer_interface': 'Eth101/1/10'}, 'Eth2/10': {'type': 'ethernet', 'speed': '40G', 'peer_device': 'node03', 'peer_interface': 'Eth1/20'}, 'Eth1/10': {'type': 'ethernet', 'speed': '10G', 'peer_device': 'node05', 'peer_interface': 'Eth1/5'}, 'Eth1/20': {'type': 'ethernet', 'speed': '10G', 'peer_device': 'node05', 'peer_interface': 'Eth1/20'}, 'Eth1/16': {'type': 'ethernet', 'speed': '1G', 'peer_device': 'node01', 'peer_interface': 'Eth1/16'}, 'Eth2/8': {'type': 'ethernet', 'speed': '10G', 'peer_device': 'node03', 'peer_interface': 'Eth1/18'}, 'Eth2/9': {'type': 'ethernet', 'speed': '10G', 'peer_device': 'node03', 'peer_interface': 'Eth1/19'}}}, 'channel': None, 'x': 3950, 'y': 3431, 'size': 180}\n",
      "{'label': 'node03', 'id': 'node03', 'color': '#1eb469', 'attributes': {'params': '-name sanity97-node03 -mgmt_ip_addr 172.31.203.82 -mgmt_prf_len 21 -gateway_addr 172.31.200.1 -sup1_con_ipaddr NA -sup1_con_port NA -sup2_con_ipaddr NA -sup2_con_port NA -user_name admin -password insieme -device_type N3K -clear_console True -model fanout', 'modules': None, 'interfaces': {'Eth1/2': {'type': 'ethernet', 'speed': '10G', 'peer_device': 'node01', 'peer_interface': 'Eth1/2'}, 'Eth1/3': {'type': 'ethernet', 'speed': '10G', 'peer_device': 'node01', 'peer_interface': 'Eth1/3'}, 'Eth1/10': {'type': 'ethernet', 'speed': '10G', 'peer_device': 'node01', 'peer_interface': 'Eth1/5'}, 'Eth1/16': {'type': 'ethernet', 'speed': '10G', 'peer_device': 'node04', 'peer_interface': 'Eth1/17'}, 'Eth1/17': {'type': 'ethernet', 'speed': '10G', 'peer_device': 'node02', 'peer_interface': 'Eth2/7'}, 'Eth1/20': {'type': 'ethernet', 'speed': '40G', 'peer_device': 'node02', 'peer_interface': 'Eth2/10'}, 'Eth1/1/1': {'type': 'ethernet', 'speed': '10G', 'peer_device': 'tgn', 'peer_interface': 'eth2'}, 'Eth2/1': {'type': 'ethernet', 'speed': '10G', 'peer_device': 'node01', 'peer_interface': 'Eth101/1/3'}, 'Eth2/2': {'type': 'ethernet', 'speed': '10G', 'peer_device': 'node01', 'peer_interface': 'Eth101/1/4'}, 'Eth1/5/2': {'type': 'ethernet', 'speed': '10G', 'peer_device': 'node02', 'peer_interface': 'Eth151/1/2'}, 'Eth1/5/3': {'type': 'ethernet', 'speed': '10G', 'peer_device': 'node02', 'peer_interface': 'Eth151/1/3'}, 'Eth1/26': {'type': 'ethernet', 'speed': '10G', 'peer_device': 'node04', 'peer_interface': 'Eth1/30'}, 'Eth1/27': {'type': 'ethernet', 'speed': '10G', 'peer_device': 'node04', 'peer_interface': 'Eth1/16'}, 'Eth1/29': {'type': 'ethernet', 'speed': '40G', 'peer_device': 'node01', 'peer_interface': 'Eth2/5'}, 'Eth1/30': {'type': 'ethernet', 'speed': '40G', 'peer_device': 'node01', 'peer_interface': 'Eth2/7'}, 'Eth1/102': {'type': 'ethernet', 'speed': '40G', 'peer_device': 'node04', 'peer_interface': 'Eth2/1'}, 'Eth1/13': {'type': 'ethernet', 'speed': '10G', 'peer_device': 'node01', 'peer_interface': 'Eth1/13'}, 'Eth1/14': {'type': 'ethernet', 'speed': '10G', 'peer_device': 'node01', 'peer_interface': 'Eth1/14'}, 'Eth1/18': {'type': 'ethernet', 'speed': '10G', 'peer_device': 'node02', 'peer_interface': 'Eth2/8'}, 'Eth1/19': {'type': 'ethernet', 'speed': '10G', 'peer_device': 'node02', 'peer_interface': 'Eth2/9'}}}, 'channel': None, 'x': 2280, 'y': 1937, 'size': 354}\n",
      "{'label': 'tgn', 'id': 'tgn', 'color': '#9a8667', 'attributes': {'params': '-name tgn -mgmt_ip_addr 172.31.201.110 -mgmt_prf_len 21 -gateway_addr 172.31.200.1 -sup1_con_ipaddr NA -sup1_con_port NA -sup2_con_ipaddr NA -sup2_con_port NA -user_name admin -password nbv_12345 -clear_console True -device_type itgen', 'interfaces': {'eth3': {'type': 'ethernet', 'speed': '10G', 'peer_device': 'node01', 'peer_interface': 'Eth1/5/1', 'itgen_peer_connections': 'node01:Eth1/5/1'}, 'eth4': {'type': 'ethernet', 'speed': '10G', 'peer_device': 'node01', 'peer_interface': 'Eth1/5/2', 'itgen_peer_connections': 'node01:Eth1/5/2'}, 'eth2': {'type': 'ethernet', 'speed': '10G', 'peer_device': 'node03', 'peer_interface': 'Eth1/1/1'}, 'eth1': {'type': 'ethernet', 'speed': '10G', 'peer_device': 'node02', 'peer_interface': 'Eth1/5/2', 'itgen_peer_connections': 'node02:Eth1/10,node01:Po100'}}}, 'channel': None, 'x': -3772, 'y': -2132, 'size': 352}\n"
     ]
    }
   ],
   "source": [
    "# NODE_GEN\n",
    "\n",
    "for i in sanity_nodes.keys():\n",
    "    node = {}\n",
    "    edge = {}\n",
    "    node_attr = {}\n",
    "    edge_attr = {}\n",
    "\n",
    "    node_attr = sanity_nodes[i]\n",
    "\n",
    "    node[\"label\"] = str(i)\n",
    "    node[\"id\"] = str(i)\n",
    "    node[\"color\".replace(\"'\", '\"')] = \"#\" + \"%06x\" % random.randint(0, 0xFFFFFF)\n",
    "    node[\"attributes\"] = node_attr\n",
    "    node[\"channel\"] = None\n",
    "    node[\"x\"] = random.randint(-4000, 4000)\n",
    "    node[\"y\"] = random.randint(-4000, 4000)\n",
    "    node[\"size\"] = random.randint(100, 500)\n",
    "    print(node)\n",
    "    # edge[\"source\"] = spl[1]# edge['target'] = spl[1]# edge['id'] = 'e' + str(i)# edge['weight'] = random.randint(20, 200)# edge['label'] = ''"
   ]
  },
  {
   "cell_type": "code",
   "execution_count": null,
   "metadata": {},
   "outputs": [],
   "source": []
  },
  {
   "cell_type": "markdown",
   "metadata": {},
   "source": [
    "**========================================**\n",
    "**========================================**\n",
    "**========================================**\n",
    "**========================================**\n",
    "**========================================**\n",
    "**========================================**\n",
    "###========================================\n",
    "###========================================"
   ]
  },
  {
   "cell_type": "raw",
   "metadata": {},
   "source": [
    "GET ETH INFO FROM traffic_profile_pretty.yml\n",
    "remember which profile used for traffic_run ie profile_l2_sanity\n",
    "\n",
    "check if profile existing, else recreate"
   ]
  },
  {
   "cell_type": "raw",
   "metadata": {},
   "source": [
    "# create \n",
    "\n",
    "sed -n '/profile_l2_sanity/,/profile/p' sanity97-testbed.yml > traffic_profile.yml \n",
    "\n",
    "# if empty check logical dict\n",
    "sed -n '/profile_l2_sanity/,/profile/p' logical_dict.yml > traffic_profile.yml \n",
    "\n",
    "# else node info unavailable, exit\n",
    "\n",
    "\n",
    "# cut out last line of profile\n",
    "sed -e '$ d' traffic_profile.yml > traffic_profile_2.yml\n",
    "\n",
    "\n",
    "# parse nodedict from sanity97-testbed.yml "
   ]
  },
  {
   "cell_type": "code",
   "execution_count": null,
   "metadata": {},
   "outputs": [],
   "source": []
  },
  {
   "cell_type": "code",
   "execution_count": 32,
   "metadata": {},
   "outputs": [
    {
     "data": {
      "text/plain": [
       "\"sed -n '/profile_l2_sanity/,/profile/p' sanity97-testbed.yml > old_profile.yml && sed -e '$ d' old_profile.yml > new_profile.yml\""
      ]
     },
     "execution_count": 32,
     "metadata": {},
     "output_type": "execute_result"
    }
   ],
   "source": [
    "p1 = \"profile_l2_sanity\"\n",
    "p2 = \"profile_vxlan_access\"\n",
    "curr_tb = \"sanity97-testbed.yml\"\n",
    "old_profile = \"old_profile.yml\"\n",
    "new_profile = \"new_profile.yml\"\n",
    "\n",
    "# create new traffic profile\n",
    "cmd_prof_find = (\n",
    "    \"sed -n '/\"\n",
    "    + p1\n",
    "    + \"/,/profile/p' \"\n",
    "    + curr_tb\n",
    "    + \" > \"\n",
    "    + old_profile\n",
    "    + \" && sed -e '$ d' \"\n",
    "    + old_profile\n",
    "    + \" > \"\n",
    "    + new_profile\n",
    ")\n",
    "cmd_prof_find\n",
    "\n",
    "#\n",
    "cmd_exist_prof = \"ag -g '\" + p1 + \".yml' > res.txt\"\n",
    "cmd_exist_prof\n",
    "\n",
    "#\n",
    "cmd_file_size = \"wc -l < res.txt\"\n",
    "cmd_file_size\n",
    "\n",
    "cmd_prof_find"
   ]
  },
  {
   "cell_type": "code",
   "execution_count": 33,
   "metadata": {},
   "outputs": [
    {
     "name": "stdout",
     "output_type": "stream",
     "text": [
      "\n"
     ]
    }
   ],
   "source": [
    "cmd = \"cat out2 | wc -l\"\n",
    "pop_res = subprocess.Popen(\n",
    "    cmd_prof_find, shell=True, stdout=subprocess.PIPE, stderr=subprocess.STDOUT\n",
    ")\n",
    "output = pop_res.communicate()[0]\n",
    "output = output.decode(\"ASCII\").rstrip(os.linesep)\n",
    "print(output)"
   ]
  },
  {
   "cell_type": "markdown",
   "metadata": {},
   "source": [
    "**========================================**\n",
    "**========================================**\n",
    "**========================================**\n",
    "**========================================**\n",
    "**========================================**\n",
    "**========================================**\n",
    "###========================================\n",
    "###========================================"
   ]
  },
  {
   "cell_type": "raw",
   "metadata": {},
   "source": [
    "with open(\"traffic_profile_pretty.yml\", 'r') as stream:\n",
    "    try:\n",
    "        parsed_yml = yaml.safe_load(stream)\n",
    "        #print(yaml.safe_load(stream))\n",
    "    except yaml.YAMLError as exc:\n",
    "        print(exc)"
   ]
  },
  {
   "cell_type": "raw",
   "metadata": {},
   "source": [
    "yml_dic = parsed_yml['profile_l2_sanity']['peer_interface_dict']\n",
    "yml_dic"
   ]
  },
  {
   "cell_type": "raw",
   "metadata": {},
   "source": [
    "for keys in yml_dic:\n",
    "    print(keys)"
   ]
  },
  {
   "cell_type": "raw",
   "metadata": {},
   "source": [
    "**Example peer_interface_dict**  \n",
    "interface1: -name eth3 -type ethernet -speed 10G -peer_device node01 -peer_interface nd1_tgn3 -itgen_peer_connections node01:nd1_tgn3"
   ]
  },
  {
   "cell_type": "raw",
   "metadata": {},
   "source": [
    "# store eth info here\n",
    "eth_info_dict={}\n",
    "eth_info_dict[curr_eth]={}\n",
    "eth_info_dict[curr_eth].update({v:w})\n",
    "eth_info_dict[curr_eth][v].update({it[0]:it[1]})\n",
    "eth_info_dict['eth3']\n",
    "eth_info_dict['eth3']={'type':'ethernet'}\n",
    "eth_info_dict['eth3'].update({'a':'b'})"
   ]
  },
  {
   "cell_type": "raw",
   "metadata": {},
   "source": [
    "for key in yml_dic:\n",
    "    node_inf = yml_dic[key].split()\n",
    "    print(node_inf)\n",
    "    curr_eth=str(node_inf[1])\n",
    "    eth_info_dict[curr_eth]={}\n",
    "    i=0\n",
    "    for v, w in zip(node_inf, node_inf[1:]):\n",
    "        if i%2==0: # avoid zip reuse\n",
    "            v= v.replace(\"-\",\"\")\n",
    "            if v != 'name' and v!= 'itgen_peer_connections':\n",
    "                eth_info_dict[curr_eth].update({v:w})\n",
    "            print({v:w})\n",
    "            # insert into eth_info_dict\n",
    "#             eth_info_dict.update({v:w})\n",
    "            if 'itgen_peer_connections' in v:\n",
    "                if len(w.split(','))>1:\n",
    "                    it_con = w.split(',')\n",
    "                    for x in it_con:\n",
    "                        it = x.split(':')\n",
    "                        d = dict([(it[0], it[1])])\n",
    "                        print(d)\n",
    "                        eth_info_dict[curr_eth].update({v:d})\n",
    "                else:\n",
    "                    it = w.split(':')\n",
    "                    d = dict([(it[0], it[1])])\n",
    "                    eth_info_dict[curr_eth][v]={}\n",
    "                    eth_info_dict[curr_eth][v].update({it[0]:it[1]})\n",
    "\n",
    "        i+=1    \n",
    "\n"
   ]
  },
  {
   "cell_type": "raw",
   "metadata": {},
   "source": [
    "eth_info_dict"
   ]
  },
  {
   "cell_type": "raw",
   "metadata": {},
   "source": [
    "eth_info_dict['eth3']\n",
    "eth_info_dict['eth3']={'type':'ethernet'}\n",
    "eth_info_dict['eth3'].update({'a':'b'})\n",
    "\n",
    "print(eth_info_dict)"
   ]
  },
  {
   "cell_type": "raw",
   "metadata": {},
   "source": []
  },
  {
   "cell_type": "raw",
   "metadata": {},
   "source": []
  },
  {
   "cell_type": "raw",
   "metadata": {},
   "source": [
    "a = ['-name', 'eth3', '-type', 'ethernet', '-speed', '10G', '-peer_device', 'node01', '-peer_interface', 'Eth1/5/1', '-itgen_peer_connections', 'node01:Eth1/5/1']\n",
    "for v, w in zip(a, a[1:]):\n",
    "    print([v, w])"
   ]
  },
  {
   "cell_type": "markdown",
   "metadata": {},
   "source": [
    "a = [5, 7, 11, 4, 5]\n",
    "for v, w in zip(a, a[1:]):\n",
    "    print([v, w])"
   ]
  },
  {
   "cell_type": "code",
   "execution_count": null,
   "metadata": {},
   "outputs": [],
   "source": []
  }
 ],
 "metadata": {
  "kernelspec": {
   "display_name": "Python 3",
   "language": "python",
   "name": "python3"
  },
  "language_info": {
   "codemirror_mode": {
    "name": "ipython",
    "version": 3
   },
   "file_extension": ".py",
   "mimetype": "text/x-python",
   "name": "python",
   "nbconvert_exporter": "python",
   "pygments_lexer": "ipython3",
   "version": "3.6.8"
  }
 },
 "nbformat": 4,
 "nbformat_minor": 4
}
