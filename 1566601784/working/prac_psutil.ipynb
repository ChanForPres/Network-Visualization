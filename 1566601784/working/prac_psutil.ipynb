{
 "cells": [
  {
   "cell_type": "code",
   "execution_count": 9,
   "metadata": {},
   "outputs": [
    {
     "name": "stdout",
     "output_type": "stream",
     "text": [
      "Memory before list is created: 51.798016\n"
     ]
    },
    {
     "name": "stderr",
     "output_type": "stream",
     "text": [
      "/Library/Frameworks/Python.framework/Versions/3.7/lib/python3.7/site-packages/ipykernel_launcher.py:25: DeprecationWarning: time.clock has been deprecated in Python 3.3 and will be removed from Python 3.8: use time.perf_counter or time.process_time instead\n"
     ]
    },
    {
     "name": "stdout",
     "output_type": "stream",
     "text": [
      "Memory after list is created: 338.976768\n",
      "Took 1.8293239999999997 seconds\n"
     ]
    },
    {
     "name": "stderr",
     "output_type": "stream",
     "text": [
      "/Library/Frameworks/Python.framework/Versions/3.7/lib/python3.7/site-packages/ipykernel_launcher.py:27: DeprecationWarning: time.clock has been deprecated in Python 3.3 and will be removed from Python 3.8: use time.perf_counter or time.process_time instead\n"
     ]
    }
   ],
   "source": [
    "import time\n",
    "import random\n",
    "import os\n",
    "import psutil\n",
    "\n",
    "car_names = ['Audi', 'Toyota', 'Renault', 'Nissan', 'Honda', 'Suzuki']\n",
    "colors = ['Black', 'Blue', 'Red', 'White', 'Yellow']\n",
    "\n",
    "def car_list(cars):\n",
    "    all_cars = []\n",
    "    for i in range (cars):\n",
    "        car = {\n",
    "            'id': i,\n",
    "            'name': random.choice(car_names),\n",
    "            'color': random.choice(colors)\n",
    "        }\n",
    "        all_cars.append(car)\n",
    "    return all_cars\n",
    "\n",
    "# Get used memory\n",
    "process = psutil.Process(os.getpid())\n",
    "print('Memory before list is created: ' + str(process.memory_info().rss/1000000))\n",
    "\n",
    "# Call the car_list function and time how long it takes\n",
    "t1 = time.clock()\n",
    "cars = car_list(1000000)\n",
    "t2 = time.clock()\n",
    "\n",
    "# Get used memory\n",
    "process = psutil.Process(os.getpid())\n",
    "print('Memory after list is created: ' + str(process.memory_info().rss/1000000))\n",
    "\n",
    "print('Took {} seconds'.format(t2-t1))\n",
    "\n",
    "del cars,car_names,colors"
   ]
  },
  {
   "cell_type": "code",
   "execution_count": 20,
   "metadata": {},
   "outputs": [
    {
     "name": "stdout",
     "output_type": "stream",
     "text": [
      "Memory before list is created: 52.011008\n"
     ]
    }
   ],
   "source": [
    "# car_names = ['Audi', 'Toyota', 'Renault', 'Nissan', 'Honda', 'Suzuki']\n",
    "colors = ['Black', 'Blue', 'Red', 'White', 'Yellow']\n",
    "locals()\n",
    "process = psutil.Process(os.getpid())\n",
    "print('Memory before list is created: ' + str(process.memory_info().rss/1000000))"
   ]
  },
  {
   "cell_type": "code",
   "execution_count": 15,
   "metadata": {},
   "outputs": [
    {
     "data": {
      "text/plain": [
       "22"
      ]
     },
     "execution_count": 15,
     "metadata": {},
     "output_type": "execute_result"
    }
   ],
   "source": [
    "import gc\n",
    "gc.collect()"
   ]
  },
  {
   "cell_type": "code",
   "execution_count": 21,
   "metadata": {},
   "outputs": [
    {
     "data": {
      "text/plain": [
       "pfullmem(rss=52015104, vms=4485812224, pfaults=461798, pageins=150, uss=42418176)"
      ]
     },
     "execution_count": 21,
     "metadata": {},
     "output_type": "execute_result"
    }
   ],
   "source": [
    "process = psutil.Process(os.getpid())\n",
    "process.memory_full_info()"
   ]
  },
  {
   "cell_type": "code",
   "execution_count": 25,
   "metadata": {},
   "outputs": [
    {
     "data": {
      "text/plain": [
       "4485812224"
      ]
     },
     "execution_count": 25,
     "metadata": {},
     "output_type": "execute_result"
    }
   ],
   "source": [
    "process.memory_info().vms"
   ]
  },
  {
   "cell_type": "code",
   "execution_count": null,
   "metadata": {},
   "outputs": [],
   "source": []
  },
  {
   "cell_type": "code",
   "execution_count": null,
   "metadata": {},
   "outputs": [],
   "source": []
  }
 ],
 "metadata": {
  "kernelspec": {
   "display_name": "Python 3",
   "language": "python",
   "name": "python3"
  },
  "language_info": {
   "codemirror_mode": {
    "name": "ipython",
    "version": 3
   },
   "file_extension": ".py",
   "mimetype": "text/x-python",
   "name": "python",
   "nbconvert_exporter": "python",
   "pygments_lexer": "ipython3",
   "version": "3.6.8"
  }
 },
 "nbformat": 4,
 "nbformat_minor": 4
}
