{
 "cells": [
  {
   "cell_type": "code",
   "execution_count": 5,
   "metadata": {},
   "outputs": [
    {
     "name": "stdout",
     "output_type": "stream",
     "text": [
      "None\n"
     ]
    }
   ],
   "source": [
    "import yaml,os\n",
    "\n",
    "with open(\"sanity97-testbed.yml\", 'r') as stream:\n",
    "    try:\n",
    "        i = yaml.safe_load(stream)\n",
    "        print(yaml.safe_load(stream))\n",
    "    except yaml.YAMLError as exc:\n",
    "        print(exc)"
   ]
  },
  {
   "cell_type": "code",
   "execution_count": 3,
   "metadata": {},
   "outputs": [
    {
     "data": {
      "text/plain": [
       "'/Users/lindach/Downloads/sigma/1566601784'"
      ]
     },
     "execution_count": 3,
     "metadata": {},
     "output_type": "execute_result"
    }
   ],
   "source": [
    "os.getcwd()"
   ]
  },
  {
   "cell_type": "code",
   "execution_count": 6,
   "metadata": {},
   "outputs": [
    {
     "data": {
      "text/plain": [
       "222"
      ]
     },
     "execution_count": 6,
     "metadata": {},
     "output_type": "execute_result"
    }
   ],
   "source": [
    "len(i)"
   ]
  },
  {
   "cell_type": "code",
   "execution_count": 108,
   "metadata": {},
   "outputs": [
    {
     "data": {
      "text/plain": [
       "\"<Ether dst=00:00:CC:01:00:01 src=00:00:BB:01:00:01 type=0x800 |<IP src=1.1.1.11 dst=1.1.1.21 |<Padding |<Raw load='00000000000000000000000000PGIDTI10' |>>>>\""
      ]
     },
     "execution_count": 108,
     "metadata": {},
     "output_type": "execute_result"
    }
   ],
   "source": [
    "m = re.match(\"\\W*productId[^:]*:\\D*(\\d+)\", t)\n",
    "\n",
    "list(v3[1].values())[0][0]"
   ]
  },
  {
   "cell_type": "code",
   "execution_count": 7,
   "metadata": {},
   "outputs": [
    {
     "data": {
      "text/plain": [
       "dict"
      ]
     },
     "execution_count": 7,
     "metadata": {},
     "output_type": "execute_result"
    }
   ],
   "source": [
    "type(i)"
   ]
  },
  {
   "cell_type": "code",
   "execution_count": 18,
   "metadata": {},
   "outputs": [
    {
     "data": {
      "text/plain": [
       "['node_dict',\n",
       " 'logicaltophysical',\n",
       " 'traffic_connect_ports',\n",
       " 'vpc_config_40G_mct',\n",
       " 'vpc_config',\n",
       " 'end_point_dict',\n",
       " 'fex_end_point_dict',\n",
       " 'l2mcast_end_point_dict',\n",
       " 'l2mcast_vpc_end_point_dict',\n",
       " 'l2mcast_fex_end_point_dict',\n",
       " 'l2mcast_vpc_fex_end_point_dict',\n",
       " 'qos_end_point_dict',\n",
       " 'qos_fex_end_point_dict',\n",
       " 'qos_fex_queuing_end_point_dict',\n",
       " 'qos_l3_end_point_dict',\n",
       " 'acl_end_point_dict',\n",
       " 'acl_fex_end_point_dict',\n",
       " 'traffic_mapping_dict',\n",
       " 'mcast_traffic_mapping_dict',\n",
       " 'mcast_fex_traffic_mapping_dict',\n",
       " 'qos_traffic_mapping_dict',\n",
       " 'qos_fex_traffic_mapping_dict',\n",
       " 'qos_fex_queuing_traffic_mapping_dict',\n",
       " 'qos_l3_traffic_mapping_dict',\n",
       " 'acl_traffic_mapping_dict',\n",
       " 'acl_fex_traffic_mapping_dict',\n",
       " 'mcast_vpc_traffic_mapping_dict',\n",
       " 'mcast_vpc_fex_traffic_mapping_dict',\n",
       " 'itgen_explorer_dict',\n",
       " 'l2_sanity_config',\n",
       " 'l2_sanity_40G_config',\n",
       " 'l2_sanity_1G_config',\n",
       " 'l2_sanity_40GPO_config',\n",
       " 'l2_sanity_1GPO_config',\n",
       " 'l2_fex_sanity_config',\n",
       " 'l2_fex_sanity_40G_config',\n",
       " 'l2_fex_sanity_1G_config',\n",
       " 'l2_fex_sanity_40GPO_config',\n",
       " 'l2_fex_sanity_1GPO_config',\n",
       " 'l2mroute_vpc_dict',\n",
       " 'l2mroute_vpc_fex_dict',\n",
       " 'management_dict',\n",
       " 'interface_config_dict_fex',\n",
       " 'interface_config_dict',\n",
       " 'vrf_route_leak_interface_config_dict',\n",
       " 'mdp_config_dict',\n",
       " 'bfd_interface_config_dict',\n",
       " 'static_bfd_config_dict',\n",
       " 'bgp_bfd_config_dict',\n",
       " 'bgpv6_bfdv6_config_dict',\n",
       " 'eigrp_bfd_config_dict',\n",
       " 'eigrpv6_bfdv6_config_dict',\n",
       " 'ospf_bfd_config_dict',\n",
       " 'ospfv3_bfdv6_config_dict',\n",
       " 'bfd_config_dict',\n",
       " 'bfdv6_config_dict',\n",
       " 'route_map_config_dict',\n",
       " 'prefix_list_config_dict',\n",
       " 'gre_route_map_config_dict',\n",
       " 'gre_prefix_list_config_dict',\n",
       " 'rip_config_dict',\n",
       " 'rip_vrf_route_leak_config_dict',\n",
       " 'bgp_config_dict',\n",
       " 'bgpv6_config_dict',\n",
       " 'eigrp_config_dict',\n",
       " 'eigrp_vrf_route_leak_config_dict',\n",
       " 'bgp_vrf_route_leak_config_dict',\n",
       " 'vrrp_config_dict',\n",
       " 'cc_sanity_config',\n",
       " 'svi_cc_sanity_config',\n",
       " 'hsrp_config_dict',\n",
       " 'vpc_svi_ipv6_dict',\n",
       " 'hsrpv6_config_dict',\n",
       " 'pim_sanity_interface_dict',\n",
       " 'pim_sanity_ecmp_interface_dict',\n",
       " 'pim_sanity_interface_40GPC_dict',\n",
       " 'pim_sanity_interface_40GPhy_dict',\n",
       " 'pim_sanity_ospf_dict',\n",
       " 'pim_sanity_ecmp_ospf_dict',\n",
       " 'pim_sanity_ospf_40GPhy_dict',\n",
       " 'pim_sanity_config_dict',\n",
       " 'pim_sanity_ecmp_bsr_config_dict',\n",
       " 'pim_sanity_bsr_config_dict',\n",
       " 'pim_sanity_autorp_config_dict',\n",
       " 'pim_sanity_anycast_config_dict',\n",
       " 'pim_sanity_config_40GPhy_dict',\n",
       " 'pim_sanity_end_point_dict',\n",
       " 'pim_sanity_mcast_traffic_g1_dict',\n",
       " 'pim_sanity_mcast_traffic_g2_dict',\n",
       " 'pim_sanity_mcast_traffic_g3_dict',\n",
       " 'pim_sanity_mcast_traffic_g4_dict',\n",
       " 'pim_sanity_mcast_traffic_g5_dict',\n",
       " 'pim_sanity_mcast_traffic_g6_dict',\n",
       " 'pim_sanity_mcast_traffic_g7_dict',\n",
       " 'pim_sanity_mcast_traffic_g8_dict',\n",
       " 'pim_sanity_mcast_traffic_g9_dict',\n",
       " 'pim_sanity_mcast_traffic_g10_dict',\n",
       " 'pim_sanity_mcast_traffic_g11_dict',\n",
       " 'pim_sanity_mcast_traffic_g12_dict',\n",
       " 'pim_sanity_mroute_g1_dict',\n",
       " 'pim_sanity_mroute_g1_40GPhy_dict',\n",
       " 'pim_sanity_mroute_g2_dict',\n",
       " 'pim_sanity_mroute_g2_40GPhy_dict',\n",
       " 'pim_sanity_mroute_g3_dict',\n",
       " 'pim_sanity_mroute_g4_dict',\n",
       " 'pim_sanity_ecmp_mroute_g1_dict',\n",
       " 'pim_sanity_ecmp_mroute_g2_dict',\n",
       " 'pim_sanity_ecmp_mroute_g3_dict',\n",
       " 'pim_sanity_ecmp_mroute_g4_dict',\n",
       " 'pim_sanity_ecmp_mroute_g5_dict',\n",
       " 'pim_sanity_ecmp_mroute_g6_dict',\n",
       " 'pim_sanity_interface_svi_dict',\n",
       " 'pim_sanity_interface_svi_40GPC_dict',\n",
       " 'pim_sanity_interface_svi_40GPhy_dict',\n",
       " 'pim_sanity_ospf_svi_dict',\n",
       " 'pim_sanity_config_svi_dict',\n",
       " 'pim_sanity_end_point_svi_dict',\n",
       " 'pim_sanity_end_point_nrpf_svi_dict',\n",
       " 'pim_sanity_mcast_traffic_svi_dict',\n",
       " 'pim_sanity_mcast_traffic_nrpf_svi_dict',\n",
       " 'pim_sanity_mroute_svi_dict',\n",
       " 'pim_sanity_mroute_nrpf_svi_dict',\n",
       " 'pim_sanity_interface_fex_svi_dict',\n",
       " 'pim_sanity_interface_fex_svi_40GPC_dict',\n",
       " 'pim_sanity_interface_fex_svi_40GPhy_dict',\n",
       " 'pim_sanity_ospf_fex_svi_dict',\n",
       " 'pim_sanity_config_fex_svi_dict',\n",
       " 'pim_sanity_end_point_fex_svi_dict',\n",
       " 'pim_sanity_end_point_nrpf_fex_svi_dict',\n",
       " 'pim_sanity_mcast_traffic_fex_svi_dict',\n",
       " 'pim_sanity_mcast_traffic_nrpf_fex_svi_dict',\n",
       " 'pim_sanity_mroute_fex_svi_dict',\n",
       " 'pim_sanity_mroute_nrpf_fex_svi_dict',\n",
       " 'pim_vpc_sanity_interface_dict',\n",
       " 'pim_vpc_sanity_ospf_dict',\n",
       " 'pim_vpc_sanity_config_dict',\n",
       " 'pim_vpc_sanity_end_point_dict',\n",
       " 'pim_vpc_sanity_mcast_traffic_dict',\n",
       " 'pim_vpc_sanity_mroute_dict',\n",
       " 'pim_vpc_sanity_interface_fex_dict',\n",
       " 'pim_vpc_sanity_ospf_fex_dict',\n",
       " 'pim_vpc_sanity_config_fex_dict',\n",
       " 'pim_vpc_sanity_end_point_fex_dict',\n",
       " 'pim_vpc_sanity_mcast_traffic_fex_dict',\n",
       " 'pim_vpc_sanity_mroute_fex_dict',\n",
       " 'copp_interface_config_dict',\n",
       " 'copp_bgp_neighbor_count',\n",
       " 'copp_bgp_config_dict',\n",
       " 'copp_bgpv6_config_dict',\n",
       " 'chef_dict',\n",
       " 'Tor_40G_to_40G_dicts',\n",
       " 'interface_dict',\n",
       " 'stimuli_dict',\n",
       " 'routing_dict',\n",
       " 'vrrpv3_intf_config_dict',\n",
       " 'vrrpv3_svi_config_dict',\n",
       " 'vrrpv3_grps_config_dict',\n",
       " 'vrrs_grps_config_dict',\n",
       " 'ospf_config_dict',\n",
       " 'ospfv3_config_dict',\n",
       " 'static_route_dict',\n",
       " 'bgp_v4_config_dict',\n",
       " 'autoconf_vxlan_evpn_pim_dict',\n",
       " 'l3_interface_list',\n",
       " 'kstack_interface_config_dict',\n",
       " 'pim_bidir_sanity_interface_dict',\n",
       " 'pim_bidir_sanity_ecmp_interface_dict',\n",
       " 'pim_bidir_sanity_ospf_dict',\n",
       " 'pim_bidir_sanity_ecmp_ospf_dict',\n",
       " 'pim_bidir_sanity_config_dict',\n",
       " 'pim_bidir_sanity_df_dict',\n",
       " 'pim_bidir_sanity_ecmp_config_dict',\n",
       " 'pim_bidir_sanity_bsr_config_dict',\n",
       " 'pim_bidir_sanity_ecmp_bsr_config_dict',\n",
       " 'pim_bidir_sanity_autorp_config_dict',\n",
       " 'pim_bidir_sanity_end_point_dict',\n",
       " 'pim_bidir_sanity_mcast_traffic_g1_dict',\n",
       " 'pim_bidir_sanity_mcast_traffic_g2_dict',\n",
       " 'pim_bidir_sanity_mcast_traffic_g3_dict',\n",
       " 'pim_bidir_sanity_mcast_traffic_g4_dict',\n",
       " 'pim_bidir_sanity_mroute_stargm_dict',\n",
       " 'pim_bidir_sanity_mroute_g1_dict',\n",
       " 'pim_bidir_sanity_mroute_g2_dict',\n",
       " 'pim_bidir_sanity_mroute_g3_dict',\n",
       " 'pim_bidir_sanity_interface_svi_dict',\n",
       " 'pim_bidir_sanity_ospf_svi_dict',\n",
       " 'pim_bidir_sanity_config_svi_dict',\n",
       " 'pim_bidir_sanity_df_svi_dict',\n",
       " 'pim_bidir_sanity_df_change_svi_dict',\n",
       " 'pim_bidir_sanity_bsr_config_svi_dict',\n",
       " 'pim_bidir_sanity_autorp_config_svi_dict',\n",
       " 'pim_bidir_sanity_end_point_svi_dict',\n",
       " 'pim_bidir_sanity_mcast_traffic_g1_svi_dict',\n",
       " 'pim_bidir_sanity_mcast_traffic_g2_svi_dict',\n",
       " 'pim_bidir_sanity_mcast_traffic_g3_svi_dict',\n",
       " 'pim_bidir_sanity_mcast_traffic_g4_svi_dict',\n",
       " 'pim_bidir_sanity_mroute_stargm_svi_dict',\n",
       " 'pim_bidir_sanity_mroute_g1_svi_dict',\n",
       " 'pim_bidir_sanity_mroute_g1a_svi_dict',\n",
       " 'pim_bidir_sanity_mroute_g2_svi_dict',\n",
       " 'pim_bidir_sanity_mroute_g4_svi_dict',\n",
       " 'pim_ssm_sanity_interface_dict',\n",
       " 'pim_ssm_sanity_ecmp_interface_dict',\n",
       " 'pim_ssm_sanity_ospf_dict',\n",
       " 'pim_ssm_sanity_ecmp_ospf_dict',\n",
       " 'pim_ssm_sanity_config_dict',\n",
       " 'pim_ssm_sanity_ecmp_config_dict',\n",
       " 'pim_ssm_sanity_end_point_dict',\n",
       " 'pim_ssm_sanity_mcast_traffic_starg_dict',\n",
       " 'pim_ssm_sanity_mcast_traffic_dict',\n",
       " 'pim_ssm_sanity_mcast_traffic_g1_dict',\n",
       " 'pim_ssm_sanity_mcast_traffic_g1leave_dict',\n",
       " 'pim_ssm_sanity_mcast_traffic_g1join_dict',\n",
       " 'pim_ssm_sanity_mcast_traffic_g1a_dict',\n",
       " 'pim_ssm_sanity_mcast_traffic_g2_dict',\n",
       " 'pim_ssm_sanity_mcast_traffic_g2leave_dict',\n",
       " 'pim_ssm_sanity_mcast_traffic_g3_dict',\n",
       " 'pim_ssm_sanity_mroute_g1_dict',\n",
       " 'pim_ssm_sanity_mroute_g1leave_dict',\n",
       " 'pim_ssm_sanity_mroute_g2_dict',\n",
       " 'pim_ssm_sanity_mroute_g3_dict',\n",
       " 'pim_ssm_sanity_mroute_g4_dict']"
      ]
     },
     "execution_count": 18,
     "metadata": {},
     "output_type": "execute_result"
    }
   ],
   "source": [
    "list(i.keys())"
   ]
  },
  {
   "cell_type": "code",
   "execution_count": 11,
   "metadata": {},
   "outputs": [
    {
     "data": {
      "text/plain": [
       "16"
      ]
     },
     "execution_count": 11,
     "metadata": {},
     "output_type": "execute_result"
    }
   ],
   "source": [
    "len(i['interface_dict'])"
   ]
  },
  {
   "cell_type": "code",
   "execution_count": 13,
   "metadata": {},
   "outputs": [
    {
     "data": {
      "text/plain": [
       "dict"
      ]
     },
     "execution_count": 13,
     "metadata": {},
     "output_type": "execute_result"
    }
   ],
   "source": [
    "type((i['interface_dict']))"
   ]
  },
  {
   "cell_type": "code",
   "execution_count": 14,
   "metadata": {},
   "outputs": [
    {
     "data": {
      "text/plain": [
       "dict_keys(['gre_interface_config_1', 'gre_interface_config_2', 'gre_interface_config_3', 'gre_interface_config_4', 'gre_interface_config_5', 'gre_interface_config_6', 'gre_interface_config_7', 'gre_interface_config_11', 'gre_interface_config_12', 'gre_interface_config_13', 'gir_intf_dict', 'l3_l3_glean', 'l3_svi_glean', 'l3_l3si_glean', 'l3_l3pc_glean', 'ecmp_intf_config_1'])"
      ]
     },
     "execution_count": 14,
     "metadata": {},
     "output_type": "execute_result"
    }
   ],
   "source": [
    "i['interface_dict'].keys()"
   ]
  },
  {
   "cell_type": "code",
   "execution_count": 16,
   "metadata": {},
   "outputs": [
    {
     "ename": "KeyError",
     "evalue": "'profile_l2_sanity'",
     "output_type": "error",
     "traceback": [
      "\u001b[0;31m---------------------------------------------------------------------------\u001b[0m",
      "\u001b[0;31mKeyError\u001b[0m                                  Traceback (most recent call last)",
      "\u001b[0;32m<ipython-input-16-ed274c3b6a44>\u001b[0m in \u001b[0;36m<module>\u001b[0;34m\u001b[0m\n\u001b[0;32m----> 1\u001b[0;31m \u001b[0mi\u001b[0m\u001b[0;34m[\u001b[0m\u001b[0;34m'profile_l2_sanity'\u001b[0m\u001b[0;34m]\u001b[0m\u001b[0;34m\u001b[0m\u001b[0;34m\u001b[0m\u001b[0m\n\u001b[0m",
      "\u001b[0;31mKeyError\u001b[0m: 'profile_l2_sanity'"
     ]
    }
   ],
   "source": [
    "i['profile_l2_sanity']"
   ]
  },
  {
   "cell_type": "code",
   "execution_count": null,
   "metadata": {},
   "outputs": [],
   "source": []
  }
 ],
 "metadata": {
  "kernelspec": {
   "display_name": "Python 3",
   "language": "python",
   "name": "python3"
  },
  "language_info": {
   "codemirror_mode": {
    "name": "ipython",
    "version": 3
   },
   "file_extension": ".py",
   "mimetype": "text/x-python",
   "name": "python",
   "nbconvert_exporter": "python",
   "pygments_lexer": "ipython3",
   "version": "3.6.8"
  }
 },
 "nbformat": 4,
 "nbformat_minor": 4
}
