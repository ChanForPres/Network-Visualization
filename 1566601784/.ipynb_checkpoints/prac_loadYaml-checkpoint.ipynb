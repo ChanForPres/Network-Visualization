{
 "cells": [
  {
   "cell_type": "code",
   "execution_count": 5,
   "metadata": {},
   "outputs": [
    {
     "name": "stdout",
     "output_type": "stream",
     "text": [
      "None\n"
     ]
    }
   ],
   "source": [
    "import yaml,os\n",
    "\n",
    "with open(\"sanity97-testbed.yml\", 'r') as stream:\n",
    "    try:\n",
    "        i = yaml.safe_load(stream)\n",
    "        print(yaml.safe_load(stream))\n",
    "    except yaml.YAMLError as exc:\n",
    "        print(exc)"
   ]
  },
  {
   "cell_type": "code",
   "execution_count": 3,
   "metadata": {},
   "outputs": [
    {
     "data": {
      "text/plain": [
       "'/Users/lindach/Downloads/sigma/1566601784'"
      ]
     },
     "execution_count": 3,
     "metadata": {},
     "output_type": "execute_result"
    }
   ],
   "source": [
    "os.getcwd()"
   ]
  },
  {
   "cell_type": "code",
   "execution_count": 6,
   "metadata": {},
   "outputs": [
    {
     "data": {
      "text/plain": [
       "222"
      ]
     },
     "execution_count": 6,
     "metadata": {},
     "output_type": "execute_result"
    }
   ],
   "source": [
    "len(i)"
   ]
  },
  {
   "cell_type": "code",
   "execution_count": 7,
   "metadata": {},
   "outputs": [
    {
     "data": {
      "text/plain": [
       "dict"
      ]
     },
     "execution_count": 7,
     "metadata": {},
     "output_type": "execute_result"
    }
   ],
   "source": [
    "type(i)"
   ]
  },
  {
   "cell_type": "code",
   "execution_count": 8,
   "metadata": {},
   "outputs": [
    {
     "data": {
      "text/plain": [
       "dict_keys(['node_dict', 'logicaltophysical', 'traffic_connect_ports', 'vpc_config_40G_mct', 'vpc_config', 'end_point_dict', 'fex_end_point_dict', 'l2mcast_end_point_dict', 'l2mcast_vpc_end_point_dict', 'l2mcast_fex_end_point_dict', 'l2mcast_vpc_fex_end_point_dict', 'qos_end_point_dict', 'qos_fex_end_point_dict', 'qos_fex_queuing_end_point_dict', 'qos_l3_end_point_dict', 'acl_end_point_dict', 'acl_fex_end_point_dict', 'traffic_mapping_dict', 'mcast_traffic_mapping_dict', 'mcast_fex_traffic_mapping_dict', 'qos_traffic_mapping_dict', 'qos_fex_traffic_mapping_dict', 'qos_fex_queuing_traffic_mapping_dict', 'qos_l3_traffic_mapping_dict', 'acl_traffic_mapping_dict', 'acl_fex_traffic_mapping_dict', 'mcast_vpc_traffic_mapping_dict', 'mcast_vpc_fex_traffic_mapping_dict', 'itgen_explorer_dict', 'l2_sanity_config', 'l2_sanity_40G_config', 'l2_sanity_1G_config', 'l2_sanity_40GPO_config', 'l2_sanity_1GPO_config', 'l2_fex_sanity_config', 'l2_fex_sanity_40G_config', 'l2_fex_sanity_1G_config', 'l2_fex_sanity_40GPO_config', 'l2_fex_sanity_1GPO_config', 'l2mroute_vpc_dict', 'l2mroute_vpc_fex_dict', 'management_dict', 'interface_config_dict_fex', 'interface_config_dict', 'vrf_route_leak_interface_config_dict', 'mdp_config_dict', 'bfd_interface_config_dict', 'static_bfd_config_dict', 'bgp_bfd_config_dict', 'bgpv6_bfdv6_config_dict', 'eigrp_bfd_config_dict', 'eigrpv6_bfdv6_config_dict', 'ospf_bfd_config_dict', 'ospfv3_bfdv6_config_dict', 'bfd_config_dict', 'bfdv6_config_dict', 'route_map_config_dict', 'prefix_list_config_dict', 'gre_route_map_config_dict', 'gre_prefix_list_config_dict', 'rip_config_dict', 'rip_vrf_route_leak_config_dict', 'bgp_config_dict', 'bgpv6_config_dict', 'eigrp_config_dict', 'eigrp_vrf_route_leak_config_dict', 'bgp_vrf_route_leak_config_dict', 'vrrp_config_dict', 'cc_sanity_config', 'svi_cc_sanity_config', 'hsrp_config_dict', 'vpc_svi_ipv6_dict', 'hsrpv6_config_dict', 'pim_sanity_interface_dict', 'pim_sanity_ecmp_interface_dict', 'pim_sanity_interface_40GPC_dict', 'pim_sanity_interface_40GPhy_dict', 'pim_sanity_ospf_dict', 'pim_sanity_ecmp_ospf_dict', 'pim_sanity_ospf_40GPhy_dict', 'pim_sanity_config_dict', 'pim_sanity_ecmp_bsr_config_dict', 'pim_sanity_bsr_config_dict', 'pim_sanity_autorp_config_dict', 'pim_sanity_anycast_config_dict', 'pim_sanity_config_40GPhy_dict', 'pim_sanity_end_point_dict', 'pim_sanity_mcast_traffic_g1_dict', 'pim_sanity_mcast_traffic_g2_dict', 'pim_sanity_mcast_traffic_g3_dict', 'pim_sanity_mcast_traffic_g4_dict', 'pim_sanity_mcast_traffic_g5_dict', 'pim_sanity_mcast_traffic_g6_dict', 'pim_sanity_mcast_traffic_g7_dict', 'pim_sanity_mcast_traffic_g8_dict', 'pim_sanity_mcast_traffic_g9_dict', 'pim_sanity_mcast_traffic_g10_dict', 'pim_sanity_mcast_traffic_g11_dict', 'pim_sanity_mcast_traffic_g12_dict', 'pim_sanity_mroute_g1_dict', 'pim_sanity_mroute_g1_40GPhy_dict', 'pim_sanity_mroute_g2_dict', 'pim_sanity_mroute_g2_40GPhy_dict', 'pim_sanity_mroute_g3_dict', 'pim_sanity_mroute_g4_dict', 'pim_sanity_ecmp_mroute_g1_dict', 'pim_sanity_ecmp_mroute_g2_dict', 'pim_sanity_ecmp_mroute_g3_dict', 'pim_sanity_ecmp_mroute_g4_dict', 'pim_sanity_ecmp_mroute_g5_dict', 'pim_sanity_ecmp_mroute_g6_dict', 'pim_sanity_interface_svi_dict', 'pim_sanity_interface_svi_40GPC_dict', 'pim_sanity_interface_svi_40GPhy_dict', 'pim_sanity_ospf_svi_dict', 'pim_sanity_config_svi_dict', 'pim_sanity_end_point_svi_dict', 'pim_sanity_end_point_nrpf_svi_dict', 'pim_sanity_mcast_traffic_svi_dict', 'pim_sanity_mcast_traffic_nrpf_svi_dict', 'pim_sanity_mroute_svi_dict', 'pim_sanity_mroute_nrpf_svi_dict', 'pim_sanity_interface_fex_svi_dict', 'pim_sanity_interface_fex_svi_40GPC_dict', 'pim_sanity_interface_fex_svi_40GPhy_dict', 'pim_sanity_ospf_fex_svi_dict', 'pim_sanity_config_fex_svi_dict', 'pim_sanity_end_point_fex_svi_dict', 'pim_sanity_end_point_nrpf_fex_svi_dict', 'pim_sanity_mcast_traffic_fex_svi_dict', 'pim_sanity_mcast_traffic_nrpf_fex_svi_dict', 'pim_sanity_mroute_fex_svi_dict', 'pim_sanity_mroute_nrpf_fex_svi_dict', 'pim_vpc_sanity_interface_dict', 'pim_vpc_sanity_ospf_dict', 'pim_vpc_sanity_config_dict', 'pim_vpc_sanity_end_point_dict', 'pim_vpc_sanity_mcast_traffic_dict', 'pim_vpc_sanity_mroute_dict', 'pim_vpc_sanity_interface_fex_dict', 'pim_vpc_sanity_ospf_fex_dict', 'pim_vpc_sanity_config_fex_dict', 'pim_vpc_sanity_end_point_fex_dict', 'pim_vpc_sanity_mcast_traffic_fex_dict', 'pim_vpc_sanity_mroute_fex_dict', 'copp_interface_config_dict', 'copp_bgp_neighbor_count', 'copp_bgp_config_dict', 'copp_bgpv6_config_dict', 'chef_dict', 'Tor_40G_to_40G_dicts', 'interface_dict', 'stimuli_dict', 'routing_dict', 'vrrpv3_intf_config_dict', 'vrrpv3_svi_config_dict', 'vrrpv3_grps_config_dict', 'vrrs_grps_config_dict', 'ospf_config_dict', 'ospfv3_config_dict', 'static_route_dict', 'bgp_v4_config_dict', 'autoconf_vxlan_evpn_pim_dict', 'l3_interface_list', 'kstack_interface_config_dict', 'pim_bidir_sanity_interface_dict', 'pim_bidir_sanity_ecmp_interface_dict', 'pim_bidir_sanity_ospf_dict', 'pim_bidir_sanity_ecmp_ospf_dict', 'pim_bidir_sanity_config_dict', 'pim_bidir_sanity_df_dict', 'pim_bidir_sanity_ecmp_config_dict', 'pim_bidir_sanity_bsr_config_dict', 'pim_bidir_sanity_ecmp_bsr_config_dict', 'pim_bidir_sanity_autorp_config_dict', 'pim_bidir_sanity_end_point_dict', 'pim_bidir_sanity_mcast_traffic_g1_dict', 'pim_bidir_sanity_mcast_traffic_g2_dict', 'pim_bidir_sanity_mcast_traffic_g3_dict', 'pim_bidir_sanity_mcast_traffic_g4_dict', 'pim_bidir_sanity_mroute_stargm_dict', 'pim_bidir_sanity_mroute_g1_dict', 'pim_bidir_sanity_mroute_g2_dict', 'pim_bidir_sanity_mroute_g3_dict', 'pim_bidir_sanity_interface_svi_dict', 'pim_bidir_sanity_ospf_svi_dict', 'pim_bidir_sanity_config_svi_dict', 'pim_bidir_sanity_df_svi_dict', 'pim_bidir_sanity_df_change_svi_dict', 'pim_bidir_sanity_bsr_config_svi_dict', 'pim_bidir_sanity_autorp_config_svi_dict', 'pim_bidir_sanity_end_point_svi_dict', 'pim_bidir_sanity_mcast_traffic_g1_svi_dict', 'pim_bidir_sanity_mcast_traffic_g2_svi_dict', 'pim_bidir_sanity_mcast_traffic_g3_svi_dict', 'pim_bidir_sanity_mcast_traffic_g4_svi_dict', 'pim_bidir_sanity_mroute_stargm_svi_dict', 'pim_bidir_sanity_mroute_g1_svi_dict', 'pim_bidir_sanity_mroute_g1a_svi_dict', 'pim_bidir_sanity_mroute_g2_svi_dict', 'pim_bidir_sanity_mroute_g4_svi_dict', 'pim_ssm_sanity_interface_dict', 'pim_ssm_sanity_ecmp_interface_dict', 'pim_ssm_sanity_ospf_dict', 'pim_ssm_sanity_ecmp_ospf_dict', 'pim_ssm_sanity_config_dict', 'pim_ssm_sanity_ecmp_config_dict', 'pim_ssm_sanity_end_point_dict', 'pim_ssm_sanity_mcast_traffic_starg_dict', 'pim_ssm_sanity_mcast_traffic_dict', 'pim_ssm_sanity_mcast_traffic_g1_dict', 'pim_ssm_sanity_mcast_traffic_g1leave_dict', 'pim_ssm_sanity_mcast_traffic_g1join_dict', 'pim_ssm_sanity_mcast_traffic_g1a_dict', 'pim_ssm_sanity_mcast_traffic_g2_dict', 'pim_ssm_sanity_mcast_traffic_g2leave_dict', 'pim_ssm_sanity_mcast_traffic_g3_dict', 'pim_ssm_sanity_mroute_g1_dict', 'pim_ssm_sanity_mroute_g1leave_dict', 'pim_ssm_sanity_mroute_g2_dict', 'pim_ssm_sanity_mroute_g3_dict', 'pim_ssm_sanity_mroute_g4_dict'])"
      ]
     },
     "execution_count": 8,
     "metadata": {},
     "output_type": "execute_result"
    }
   ],
   "source": [
    "i.keys()"
   ]
  },
  {
   "cell_type": "code",
   "execution_count": 11,
   "metadata": {},
   "outputs": [
    {
     "data": {
      "text/plain": [
       "16"
      ]
     },
     "execution_count": 11,
     "metadata": {},
     "output_type": "execute_result"
    }
   ],
   "source": [
    "len(i['interface_dict'])"
   ]
  },
  {
   "cell_type": "code",
   "execution_count": 12,
   "metadata": {},
   "outputs": [
    {
     "data": {
      "text/plain": [
       "int"
      ]
     },
     "execution_count": 12,
     "metadata": {},
     "output_type": "execute_result"
    }
   ],
   "source": [
    "type((i['interface_dict']))"
   ]
  },
  {
   "cell_type": "code",
   "execution_count": null,
   "metadata": {},
   "outputs": [],
   "source": []
  }
 ],
 "metadata": {
  "kernelspec": {
   "display_name": "Python 3",
   "language": "python",
   "name": "python3"
  },
  "language_info": {
   "codemirror_mode": {
    "name": "ipython",
    "version": 3
   },
   "file_extension": ".py",
   "mimetype": "text/x-python",
   "name": "python",
   "nbconvert_exporter": "python",
   "pygments_lexer": "ipython3",
   "version": "3.7.3"
  }
 },
 "nbformat": 4,
 "nbformat_minor": 4
}
